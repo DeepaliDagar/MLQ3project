{
 "cells": [
  {
   "cell_type": "code",
   "execution_count": 63,
   "id": "fbf7d91d-0b26-41a2-9ff7-0ac5ab148044",
   "metadata": {
    "tags": []
   },
   "outputs": [],
   "source": [
    "import pandas as pd\n",
    "import numpy as np\n",
    "import torch\n",
    "from transformers import BertTokenizer, BertModel\n",
    "from sklearn.model_selection import train_test_split\n",
    "from sklearn.metrics import mean_squared_error\n",
    "import xgboost as xgb\n",
    "from sklearn.metrics import r2_score"
   ]
  },
  {
   "cell_type": "code",
   "execution_count": 92,
   "id": "2b023de3-db92-489a-96fe-3a319297f3c1",
   "metadata": {
    "tags": []
   },
   "outputs": [],
   "source": [
    "pd.set_option('display.max_rows', None)"
   ]
  },
  {
   "cell_type": "code",
   "execution_count": 5,
   "id": "38541e9e-7486-4387-961c-6c8eb31405c1",
   "metadata": {
    "tags": []
   },
   "outputs": [],
   "source": [
    "df_read = pd.read_csv('postings.csv')"
   ]
  },
  {
   "cell_type": "code",
   "execution_count": 7,
   "id": "51e5a6e0-da8a-4876-8872-0047d34cab15",
   "metadata": {
    "tags": []
   },
   "outputs": [
    {
     "data": {
      "text/html": [
       "<div>\n",
       "<style scoped>\n",
       "    .dataframe tbody tr th:only-of-type {\n",
       "        vertical-align: middle;\n",
       "    }\n",
       "\n",
       "    .dataframe tbody tr th {\n",
       "        vertical-align: top;\n",
       "    }\n",
       "\n",
       "    .dataframe thead th {\n",
       "        text-align: right;\n",
       "    }\n",
       "</style>\n",
       "<table border=\"1\" class=\"dataframe\">\n",
       "  <thead>\n",
       "    <tr style=\"text-align: right;\">\n",
       "      <th></th>\n",
       "      <th>job_id</th>\n",
       "      <th>company_name</th>\n",
       "      <th>title</th>\n",
       "      <th>description</th>\n",
       "      <th>max_salary</th>\n",
       "      <th>pay_period</th>\n",
       "      <th>location</th>\n",
       "      <th>company_id</th>\n",
       "      <th>views</th>\n",
       "      <th>med_salary</th>\n",
       "      <th>...</th>\n",
       "      <th>skills_desc</th>\n",
       "      <th>listed_time</th>\n",
       "      <th>posting_domain</th>\n",
       "      <th>sponsored</th>\n",
       "      <th>work_type</th>\n",
       "      <th>currency</th>\n",
       "      <th>compensation_type</th>\n",
       "      <th>normalized_salary</th>\n",
       "      <th>zip_code</th>\n",
       "      <th>fips</th>\n",
       "    </tr>\n",
       "  </thead>\n",
       "  <tbody>\n",
       "    <tr>\n",
       "      <th>0</th>\n",
       "      <td>921716</td>\n",
       "      <td>Corcoran Sawyer Smith</td>\n",
       "      <td>Marketing Coordinator</td>\n",
       "      <td>Job descriptionA leading real estate firm in N...</td>\n",
       "      <td>20.0</td>\n",
       "      <td>HOURLY</td>\n",
       "      <td>Princeton, NJ</td>\n",
       "      <td>2774458.0</td>\n",
       "      <td>20.0</td>\n",
       "      <td>NaN</td>\n",
       "      <td>...</td>\n",
       "      <td>Requirements: \\n\\nWe are seeking a College or ...</td>\n",
       "      <td>1.713398e+12</td>\n",
       "      <td>NaN</td>\n",
       "      <td>0</td>\n",
       "      <td>FULL_TIME</td>\n",
       "      <td>USD</td>\n",
       "      <td>BASE_SALARY</td>\n",
       "      <td>38480.0</td>\n",
       "      <td>8540.0</td>\n",
       "      <td>34021.0</td>\n",
       "    </tr>\n",
       "    <tr>\n",
       "      <th>1</th>\n",
       "      <td>1829192</td>\n",
       "      <td>NaN</td>\n",
       "      <td>Mental Health Therapist/Counselor</td>\n",
       "      <td>At Aspen Therapy and Wellness , we are committ...</td>\n",
       "      <td>50.0</td>\n",
       "      <td>HOURLY</td>\n",
       "      <td>Fort Collins, CO</td>\n",
       "      <td>NaN</td>\n",
       "      <td>1.0</td>\n",
       "      <td>NaN</td>\n",
       "      <td>...</td>\n",
       "      <td>NaN</td>\n",
       "      <td>1.712858e+12</td>\n",
       "      <td>NaN</td>\n",
       "      <td>0</td>\n",
       "      <td>FULL_TIME</td>\n",
       "      <td>USD</td>\n",
       "      <td>BASE_SALARY</td>\n",
       "      <td>83200.0</td>\n",
       "      <td>80521.0</td>\n",
       "      <td>8069.0</td>\n",
       "    </tr>\n",
       "    <tr>\n",
       "      <th>2</th>\n",
       "      <td>10998357</td>\n",
       "      <td>The National Exemplar</td>\n",
       "      <td>Assitant Restaurant Manager</td>\n",
       "      <td>The National Exemplar is accepting application...</td>\n",
       "      <td>65000.0</td>\n",
       "      <td>YEARLY</td>\n",
       "      <td>Cincinnati, OH</td>\n",
       "      <td>64896719.0</td>\n",
       "      <td>8.0</td>\n",
       "      <td>NaN</td>\n",
       "      <td>...</td>\n",
       "      <td>We are currently accepting resumes for FOH - A...</td>\n",
       "      <td>1.713278e+12</td>\n",
       "      <td>NaN</td>\n",
       "      <td>0</td>\n",
       "      <td>FULL_TIME</td>\n",
       "      <td>USD</td>\n",
       "      <td>BASE_SALARY</td>\n",
       "      <td>55000.0</td>\n",
       "      <td>45202.0</td>\n",
       "      <td>39061.0</td>\n",
       "    </tr>\n",
       "    <tr>\n",
       "      <th>3</th>\n",
       "      <td>23221523</td>\n",
       "      <td>Abrams Fensterman, LLP</td>\n",
       "      <td>Senior Elder Law / Trusts and Estates Associat...</td>\n",
       "      <td>Senior Associate Attorney - Elder Law / Trusts...</td>\n",
       "      <td>175000.0</td>\n",
       "      <td>YEARLY</td>\n",
       "      <td>New Hyde Park, NY</td>\n",
       "      <td>766262.0</td>\n",
       "      <td>16.0</td>\n",
       "      <td>NaN</td>\n",
       "      <td>...</td>\n",
       "      <td>This position requires a baseline understandin...</td>\n",
       "      <td>1.712896e+12</td>\n",
       "      <td>NaN</td>\n",
       "      <td>0</td>\n",
       "      <td>FULL_TIME</td>\n",
       "      <td>USD</td>\n",
       "      <td>BASE_SALARY</td>\n",
       "      <td>157500.0</td>\n",
       "      <td>11040.0</td>\n",
       "      <td>36059.0</td>\n",
       "    </tr>\n",
       "    <tr>\n",
       "      <th>4</th>\n",
       "      <td>35982263</td>\n",
       "      <td>NaN</td>\n",
       "      <td>Service Technician</td>\n",
       "      <td>Looking for HVAC service tech with experience ...</td>\n",
       "      <td>80000.0</td>\n",
       "      <td>YEARLY</td>\n",
       "      <td>Burlington, IA</td>\n",
       "      <td>NaN</td>\n",
       "      <td>3.0</td>\n",
       "      <td>NaN</td>\n",
       "      <td>...</td>\n",
       "      <td>NaN</td>\n",
       "      <td>1.713452e+12</td>\n",
       "      <td>NaN</td>\n",
       "      <td>0</td>\n",
       "      <td>FULL_TIME</td>\n",
       "      <td>USD</td>\n",
       "      <td>BASE_SALARY</td>\n",
       "      <td>70000.0</td>\n",
       "      <td>52601.0</td>\n",
       "      <td>19057.0</td>\n",
       "    </tr>\n",
       "  </tbody>\n",
       "</table>\n",
       "<p>5 rows × 31 columns</p>\n",
       "</div>"
      ],
      "text/plain": [
       "     job_id            company_name  \\\n",
       "0    921716   Corcoran Sawyer Smith   \n",
       "1   1829192                     NaN   \n",
       "2  10998357  The National Exemplar    \n",
       "3  23221523  Abrams Fensterman, LLP   \n",
       "4  35982263                     NaN   \n",
       "\n",
       "                                               title  \\\n",
       "0                              Marketing Coordinator   \n",
       "1                  Mental Health Therapist/Counselor   \n",
       "2                        Assitant Restaurant Manager   \n",
       "3  Senior Elder Law / Trusts and Estates Associat...   \n",
       "4                                 Service Technician   \n",
       "\n",
       "                                         description  max_salary pay_period  \\\n",
       "0  Job descriptionA leading real estate firm in N...        20.0     HOURLY   \n",
       "1  At Aspen Therapy and Wellness , we are committ...        50.0     HOURLY   \n",
       "2  The National Exemplar is accepting application...     65000.0     YEARLY   \n",
       "3  Senior Associate Attorney - Elder Law / Trusts...    175000.0     YEARLY   \n",
       "4  Looking for HVAC service tech with experience ...     80000.0     YEARLY   \n",
       "\n",
       "            location  company_id  views  med_salary  ...  \\\n",
       "0      Princeton, NJ   2774458.0   20.0         NaN  ...   \n",
       "1   Fort Collins, CO         NaN    1.0         NaN  ...   \n",
       "2     Cincinnati, OH  64896719.0    8.0         NaN  ...   \n",
       "3  New Hyde Park, NY    766262.0   16.0         NaN  ...   \n",
       "4     Burlington, IA         NaN    3.0         NaN  ...   \n",
       "\n",
       "                                         skills_desc   listed_time  \\\n",
       "0  Requirements: \\n\\nWe are seeking a College or ...  1.713398e+12   \n",
       "1                                                NaN  1.712858e+12   \n",
       "2  We are currently accepting resumes for FOH - A...  1.713278e+12   \n",
       "3  This position requires a baseline understandin...  1.712896e+12   \n",
       "4                                                NaN  1.713452e+12   \n",
       "\n",
       "   posting_domain  sponsored  work_type currency compensation_type  \\\n",
       "0             NaN          0  FULL_TIME      USD       BASE_SALARY   \n",
       "1             NaN          0  FULL_TIME      USD       BASE_SALARY   \n",
       "2             NaN          0  FULL_TIME      USD       BASE_SALARY   \n",
       "3             NaN          0  FULL_TIME      USD       BASE_SALARY   \n",
       "4             NaN          0  FULL_TIME      USD       BASE_SALARY   \n",
       "\n",
       "  normalized_salary  zip_code     fips  \n",
       "0           38480.0    8540.0  34021.0  \n",
       "1           83200.0   80521.0   8069.0  \n",
       "2           55000.0   45202.0  39061.0  \n",
       "3          157500.0   11040.0  36059.0  \n",
       "4           70000.0   52601.0  19057.0  \n",
       "\n",
       "[5 rows x 31 columns]"
      ]
     },
     "execution_count": 7,
     "metadata": {},
     "output_type": "execute_result"
    }
   ],
   "source": [
    "df_read.head(5)"
   ]
  },
  {
   "cell_type": "code",
   "execution_count": 9,
   "id": "0b65d2a0-f785-4e40-865c-0cbd215af2c2",
   "metadata": {
    "tags": []
   },
   "outputs": [],
   "source": [
    "df = df_read[['company_name','title','description','min_salary','max_salary','pay_period','formatted_work_type','currency','normalized_salary','formatted_experience_level']]"
   ]
  },
  {
   "cell_type": "code",
   "execution_count": 11,
   "id": "40e9dba6-8be5-4104-b59c-6a276effe345",
   "metadata": {
    "tags": []
   },
   "outputs": [],
   "source": [
    "df = df[df.formatted_work_type == 'Full-time']"
   ]
  },
  {
   "cell_type": "code",
   "execution_count": 13,
   "id": "c7889474-a308-456d-8afc-c0fb43496e6a",
   "metadata": {
    "tags": []
   },
   "outputs": [],
   "source": [
    "df = df[df.currency == 'USD']"
   ]
  },
  {
   "cell_type": "code",
   "execution_count": 15,
   "id": "1bea9c6d-876a-487b-abb3-698dd07003a5",
   "metadata": {
    "tags": []
   },
   "outputs": [],
   "source": [
    "df = df.dropna(subset=['company_name'])\n",
    "#df = df.dropna(subset=['zip_code'])"
   ]
  },
  {
   "cell_type": "code",
   "execution_count": 17,
   "id": "1a0e88b4-4827-4751-8bc3-656ea6785129",
   "metadata": {
    "tags": []
   },
   "outputs": [],
   "source": [
    "df = df.dropna(subset=['normalized_salary'])\n",
    "df = df[df['normalized_salary'] > 15000]"
   ]
  },
  {
   "cell_type": "code",
   "execution_count": 19,
   "id": "829d8694-744f-4805-a520-a942a0d9a548",
   "metadata": {
    "tags": []
   },
   "outputs": [],
   "source": [
    "# fix low salaries\n",
    "df['annual_salary'] = np.where((df.normalized_salary < 30000) & (df.formatted_experience_level == 'Mid-Senior level') & (df.pay_period == 'YEARLY'),\n",
    "    df.normalized_salary * 12, df.normalized_salary)"
   ]
  },
  {
   "cell_type": "code",
   "execution_count": 21,
   "id": "e1899cb3-c594-4bfe-9355-a01d25a4ebf4",
   "metadata": {
    "tags": []
   },
   "outputs": [],
   "source": [
    "# fix high salaries\n",
    "df['annual_salary'] = np.where((df.max_salary > 50000) & (df.normalized_salary > df.max_salary * 2), df.max_salary, df.normalized_salary)\n",
    "df = df[df['annual_salary'] < 10000000]"
   ]
  },
  {
   "cell_type": "code",
   "execution_count": 25,
   "id": "157c8525-768d-4f72-bfe4-37d97594e059",
   "metadata": {
    "tags": []
   },
   "outputs": [
    {
     "data": {
      "text/html": [
       "<div>\n",
       "<style scoped>\n",
       "    .dataframe tbody tr th:only-of-type {\n",
       "        vertical-align: middle;\n",
       "    }\n",
       "\n",
       "    .dataframe tbody tr th {\n",
       "        vertical-align: top;\n",
       "    }\n",
       "\n",
       "    .dataframe thead th {\n",
       "        text-align: right;\n",
       "    }\n",
       "</style>\n",
       "<table border=\"1\" class=\"dataframe\">\n",
       "  <thead>\n",
       "    <tr style=\"text-align: right;\">\n",
       "      <th></th>\n",
       "      <th>company_name</th>\n",
       "      <th>title</th>\n",
       "      <th>description</th>\n",
       "      <th>min_salary</th>\n",
       "      <th>max_salary</th>\n",
       "      <th>pay_period</th>\n",
       "      <th>formatted_work_type</th>\n",
       "      <th>currency</th>\n",
       "      <th>normalized_salary</th>\n",
       "      <th>formatted_experience_level</th>\n",
       "      <th>annual_salary</th>\n",
       "    </tr>\n",
       "  </thead>\n",
       "  <tbody>\n",
       "    <tr>\n",
       "      <th>116367</th>\n",
       "      <td>Goliath Partners</td>\n",
       "      <td>Quantitative Researcher</td>\n",
       "      <td>Goliath Partners is working with a global prop...</td>\n",
       "      <td>700000.0</td>\n",
       "      <td>1200000.0</td>\n",
       "      <td>YEARLY</td>\n",
       "      <td>Full-time</td>\n",
       "      <td>USD</td>\n",
       "      <td>950000.0</td>\n",
       "      <td>Mid-Senior level</td>\n",
       "      <td>950000.0</td>\n",
       "    </tr>\n",
       "    <tr>\n",
       "      <th>4781</th>\n",
       "      <td>Platinum Legal Search Group, LLC</td>\n",
       "      <td>Partner (&amp; Groups w/ Portable Business for Top...</td>\n",
       "      <td>We're recruiting for a Top Law Firm seeking Pa...</td>\n",
       "      <td>350000.0</td>\n",
       "      <td>1500000.0</td>\n",
       "      <td>YEARLY</td>\n",
       "      <td>Full-time</td>\n",
       "      <td>USD</td>\n",
       "      <td>925000.0</td>\n",
       "      <td>NaN</td>\n",
       "      <td>925000.0</td>\n",
       "    </tr>\n",
       "    <tr>\n",
       "      <th>4735</th>\n",
       "      <td>Platinum Legal Search Group, LLC</td>\n",
       "      <td>Partner (&amp; Groups w/ Portable Business for Top...</td>\n",
       "      <td>We're recruiting for a Top Law Firm seeking Pa...</td>\n",
       "      <td>350000.0</td>\n",
       "      <td>1500000.0</td>\n",
       "      <td>YEARLY</td>\n",
       "      <td>Full-time</td>\n",
       "      <td>USD</td>\n",
       "      <td>925000.0</td>\n",
       "      <td>NaN</td>\n",
       "      <td>925000.0</td>\n",
       "    </tr>\n",
       "    <tr>\n",
       "      <th>91967</th>\n",
       "      <td>Platinum Legal Search Group, LLC</td>\n",
       "      <td>Corporate, Litigation, Intellectual Property ,...</td>\n",
       "      <td>We're recruiting for a Top Law Firm seeking Pa...</td>\n",
       "      <td>350000.0</td>\n",
       "      <td>1500000.0</td>\n",
       "      <td>YEARLY</td>\n",
       "      <td>Full-time</td>\n",
       "      <td>USD</td>\n",
       "      <td>925000.0</td>\n",
       "      <td>NaN</td>\n",
       "      <td>925000.0</td>\n",
       "    </tr>\n",
       "    <tr>\n",
       "      <th>4908</th>\n",
       "      <td>Platinum Legal Search Group, LLC</td>\n",
       "      <td>Partner (&amp; Groups w/ Portable Business for Top...</td>\n",
       "      <td>We're recruiting for a Top Law Firm seeking Pa...</td>\n",
       "      <td>350000.0</td>\n",
       "      <td>1500000.0</td>\n",
       "      <td>YEARLY</td>\n",
       "      <td>Full-time</td>\n",
       "      <td>USD</td>\n",
       "      <td>925000.0</td>\n",
       "      <td>NaN</td>\n",
       "      <td>925000.0</td>\n",
       "    </tr>\n",
       "    <tr>\n",
       "      <th>113069</th>\n",
       "      <td>Goldman Lloyds</td>\n",
       "      <td>Head of Front Office Technology</td>\n",
       "      <td>Job Title: Head of Front Office Technology\\nCo...</td>\n",
       "      <td>750000.0</td>\n",
       "      <td>1000000.0</td>\n",
       "      <td>YEARLY</td>\n",
       "      <td>Full-time</td>\n",
       "      <td>USD</td>\n",
       "      <td>875000.0</td>\n",
       "      <td>NaN</td>\n",
       "      <td>875000.0</td>\n",
       "    </tr>\n",
       "    <tr>\n",
       "      <th>117057</th>\n",
       "      <td>Goliath Partners</td>\n",
       "      <td>Quantitative Researcher</td>\n",
       "      <td>Goliath has partnered with a well concealed ye...</td>\n",
       "      <td>650000.0</td>\n",
       "      <td>1000000.0</td>\n",
       "      <td>YEARLY</td>\n",
       "      <td>Full-time</td>\n",
       "      <td>USD</td>\n",
       "      <td>825000.0</td>\n",
       "      <td>Mid-Senior level</td>\n",
       "      <td>825000.0</td>\n",
       "    </tr>\n",
       "    <tr>\n",
       "      <th>115087</th>\n",
       "      <td>Radley James</td>\n",
       "      <td>Network Engineer</td>\n",
       "      <td>**PAYING UP TO $750,000 TOTAL COMPENSATION****...</td>\n",
       "      <td>750000.0</td>\n",
       "      <td>750000.0</td>\n",
       "      <td>YEARLY</td>\n",
       "      <td>Full-time</td>\n",
       "      <td>USD</td>\n",
       "      <td>750000.0</td>\n",
       "      <td>Mid-Senior level</td>\n",
       "      <td>750000.0</td>\n",
       "    </tr>\n",
       "    <tr>\n",
       "      <th>54411</th>\n",
       "      <td>Emburse</td>\n",
       "      <td>Senior Sales Account Executive - Enterprise</td>\n",
       "      <td>At Emburse our mission is to help make our use...</td>\n",
       "      <td>NaN</td>\n",
       "      <td>NaN</td>\n",
       "      <td>YEARLY</td>\n",
       "      <td>Full-time</td>\n",
       "      <td>USD</td>\n",
       "      <td>750000.0</td>\n",
       "      <td>Mid-Senior level</td>\n",
       "      <td>750000.0</td>\n",
       "    </tr>\n",
       "    <tr>\n",
       "      <th>115360</th>\n",
       "      <td>Radley James</td>\n",
       "      <td>Python Developer</td>\n",
       "      <td>**Offering up to $650K and a comprehensive rel...</td>\n",
       "      <td>750000.0</td>\n",
       "      <td>750000.0</td>\n",
       "      <td>YEARLY</td>\n",
       "      <td>Full-time</td>\n",
       "      <td>USD</td>\n",
       "      <td>750000.0</td>\n",
       "      <td>Mid-Senior level</td>\n",
       "      <td>750000.0</td>\n",
       "    </tr>\n",
       "  </tbody>\n",
       "</table>\n",
       "</div>"
      ],
      "text/plain": [
       "                            company_name  \\\n",
       "116367                  Goliath Partners   \n",
       "4781    Platinum Legal Search Group, LLC   \n",
       "4735    Platinum Legal Search Group, LLC   \n",
       "91967   Platinum Legal Search Group, LLC   \n",
       "4908    Platinum Legal Search Group, LLC   \n",
       "113069                    Goldman Lloyds   \n",
       "117057                  Goliath Partners   \n",
       "115087                      Radley James   \n",
       "54411                            Emburse   \n",
       "115360                      Radley James   \n",
       "\n",
       "                                                    title  \\\n",
       "116367                            Quantitative Researcher   \n",
       "4781    Partner (& Groups w/ Portable Business for Top...   \n",
       "4735    Partner (& Groups w/ Portable Business for Top...   \n",
       "91967   Corporate, Litigation, Intellectual Property ,...   \n",
       "4908    Partner (& Groups w/ Portable Business for Top...   \n",
       "113069                    Head of Front Office Technology   \n",
       "117057                            Quantitative Researcher   \n",
       "115087                                   Network Engineer   \n",
       "54411         Senior Sales Account Executive - Enterprise   \n",
       "115360                                   Python Developer   \n",
       "\n",
       "                                              description  min_salary  \\\n",
       "116367  Goliath Partners is working with a global prop...    700000.0   \n",
       "4781    We're recruiting for a Top Law Firm seeking Pa...    350000.0   \n",
       "4735    We're recruiting for a Top Law Firm seeking Pa...    350000.0   \n",
       "91967   We're recruiting for a Top Law Firm seeking Pa...    350000.0   \n",
       "4908    We're recruiting for a Top Law Firm seeking Pa...    350000.0   \n",
       "113069  Job Title: Head of Front Office Technology\\nCo...    750000.0   \n",
       "117057  Goliath has partnered with a well concealed ye...    650000.0   \n",
       "115087  **PAYING UP TO $750,000 TOTAL COMPENSATION****...    750000.0   \n",
       "54411   At Emburse our mission is to help make our use...         NaN   \n",
       "115360  **Offering up to $650K and a comprehensive rel...    750000.0   \n",
       "\n",
       "        max_salary pay_period formatted_work_type currency  normalized_salary  \\\n",
       "116367   1200000.0     YEARLY           Full-time      USD           950000.0   \n",
       "4781     1500000.0     YEARLY           Full-time      USD           925000.0   \n",
       "4735     1500000.0     YEARLY           Full-time      USD           925000.0   \n",
       "91967    1500000.0     YEARLY           Full-time      USD           925000.0   \n",
       "4908     1500000.0     YEARLY           Full-time      USD           925000.0   \n",
       "113069   1000000.0     YEARLY           Full-time      USD           875000.0   \n",
       "117057   1000000.0     YEARLY           Full-time      USD           825000.0   \n",
       "115087    750000.0     YEARLY           Full-time      USD           750000.0   \n",
       "54411          NaN     YEARLY           Full-time      USD           750000.0   \n",
       "115360    750000.0     YEARLY           Full-time      USD           750000.0   \n",
       "\n",
       "       formatted_experience_level  annual_salary  \n",
       "116367           Mid-Senior level       950000.0  \n",
       "4781                          NaN       925000.0  \n",
       "4735                          NaN       925000.0  \n",
       "91967                         NaN       925000.0  \n",
       "4908                          NaN       925000.0  \n",
       "113069                        NaN       875000.0  \n",
       "117057           Mid-Senior level       825000.0  \n",
       "115087           Mid-Senior level       750000.0  \n",
       "54411            Mid-Senior level       750000.0  \n",
       "115360           Mid-Senior level       750000.0  "
      ]
     },
     "execution_count": 25,
     "metadata": {},
     "output_type": "execute_result"
    }
   ],
   "source": [
    "#df.sort_values(by='normalized_salary', ascending=False).head(100)\n",
    "df.sort_values(by='annual_salary', ascending=False).head(10)"
   ]
  },
  {
   "cell_type": "code",
   "execution_count": 27,
   "id": "9c65056d-72c9-4fdc-808c-ffce5555a632",
   "metadata": {
    "tags": []
   },
   "outputs": [
    {
     "data": {
      "text/plain": [
       "(28471, 11)"
      ]
     },
     "execution_count": 27,
     "metadata": {},
     "output_type": "execute_result"
    }
   ],
   "source": [
    "df.shape"
   ]
  },
  {
   "cell_type": "code",
   "execution_count": 29,
   "id": "7372a930-449d-4883-909c-f9d78e7e776b",
   "metadata": {
    "tags": []
   },
   "outputs": [],
   "source": [
    "df = pd.get_dummies(df, columns=['pay_period'])"
   ]
  },
  {
   "cell_type": "code",
   "execution_count": 342,
   "id": "6487b546-b970-4683-a36c-e31371f8c5a9",
   "metadata": {
    "tags": []
   },
   "outputs": [],
   "source": [
    "#df['log_salary'] = np.log1p(df['annual_salary'])"
   ]
  },
  {
   "cell_type": "code",
   "execution_count": 31,
   "id": "e501cd5d-8645-4654-96a9-c1d09c83f4a2",
   "metadata": {
    "tags": []
   },
   "outputs": [],
   "source": [
    "pay_period_features = df[['pay_period_BIWEEKLY', 'pay_period_HOURLY',\n",
    "                          'pay_period_MONTHLY', 'pay_period_WEEKLY', 'pay_period_YEARLY']]\n",
    "y = df['annual_salary'].values"
   ]
  },
  {
   "cell_type": "code",
   "execution_count": 350,
   "id": "dcb03626-fb6d-42e8-87f4-2cb23e5a2e6a",
   "metadata": {
    "tags": []
   },
   "outputs": [],
   "source": [
    "#df['text'] = df['company_name'] + ' ' + df['title']\n",
    "#df['text'] = df['text'].astype(str)"
   ]
  },
  {
   "cell_type": "code",
   "execution_count": 33,
   "id": "a9b97c2d-0148-4994-acc8-833204c84e15",
   "metadata": {
    "tags": []
   },
   "outputs": [],
   "source": [
    "df[\"text\"] = df[\"title\"].fillna(\"\") \n",
    "df[\"text\"] = df[\"title\"].astype(str)"
   ]
  },
  {
   "cell_type": "code",
   "execution_count": 35,
   "id": "eae7627f-2622-461c-a072-5ffba1ed99aa",
   "metadata": {
    "tags": []
   },
   "outputs": [],
   "source": [
    "text_data = df['text']"
   ]
  },
  {
   "cell_type": "code",
   "execution_count": 37,
   "id": "2621dc6b-fe9c-438a-8937-eaf8e7e9cabb",
   "metadata": {
    "tags": []
   },
   "outputs": [],
   "source": [
    "tokenizer = BertTokenizer.from_pretrained('bert-base-uncased')\n",
    "bert_model = BertModel.from_pretrained('bert-base-uncased')"
   ]
  },
  {
   "cell_type": "code",
   "execution_count": 39,
   "id": "0ebb78b5-6ccc-40fa-a5bd-afbf965e4c6b",
   "metadata": {
    "tags": []
   },
   "outputs": [],
   "source": [
    "def get_bert_embeddings(texts, tokenizer, model, batch_size=32):\n",
    "    model.eval()\n",
    "    embeddings = []\n",
    "    with torch.no_grad():\n",
    "        for i in range(0, len(texts), batch_size):\n",
    "            batch = texts[i:i+batch_size]\n",
    "            inputs = tokenizer(batch.tolist(), return_tensors=\"pt\", padding=True, truncation=True, max_length=20)\n",
    "            outputs = model(**inputs)\n",
    "            cls_embeddings = outputs.last_hidden_state[:, 0, :]  # CLS token\n",
    "            embeddings.append(cls_embeddings.cpu().numpy())\n",
    "    return np.vstack(embeddings)"
   ]
  },
  {
   "cell_type": "code",
   "execution_count": 41,
   "id": "7b5306d7-93b3-4ab0-bdd1-4df2354e471b",
   "metadata": {
    "tags": []
   },
   "outputs": [],
   "source": [
    "bert_embeddings = get_bert_embeddings(text_data, tokenizer, bert_model)"
   ]
  },
  {
   "cell_type": "code",
   "execution_count": 360,
   "id": "c941d440-35a3-4870-b9c2-4e320f9f6c77",
   "metadata": {
    "tags": []
   },
   "outputs": [],
   "source": [
    "#X = bert_embeddings"
   ]
  },
  {
   "cell_type": "code",
   "execution_count": 49,
   "id": "f00d0ec0-c7dd-4036-b306-dd863bbda9fe",
   "metadata": {
    "tags": []
   },
   "outputs": [],
   "source": [
    "X = np.hstack((bert_embeddings, pay_period_features.values))"
   ]
  },
  {
   "cell_type": "code",
   "execution_count": 51,
   "id": "0753b0e5-d7f0-4e32-8cf2-3ab8d1e97f54",
   "metadata": {
    "tags": []
   },
   "outputs": [],
   "source": [
    "X_train, X_test, y_train, y_test = train_test_split(X, y, test_size=0.2, random_state=42)"
   ]
  },
  {
   "cell_type": "code",
   "execution_count": 53,
   "id": "19526d21-83ba-4c1c-aa2c-a826fb50f27f",
   "metadata": {
    "tags": []
   },
   "outputs": [],
   "source": [
    "#scaler = StandardScaler()\n",
    "#X_train_scaled = scaler.fit_transform(X_train)\n",
    "#X_test_scaled = scaler.transform(X_test)"
   ]
  },
  {
   "cell_type": "code",
   "execution_count": 55,
   "id": "aa4ac0e8-cf10-409d-bc58-6ee26b68cebe",
   "metadata": {
    "tags": []
   },
   "outputs": [],
   "source": [
    "xgb_model = xgb.XGBRegressor(\n",
    "    n_estimators=200,\n",
    "    learning_rate=0.1,\n",
    "    max_depth=6,\n",
    "    subsample=0.8,\n",
    "    colsample_bytree=0.8,\n",
    "    random_state=42\n",
    ")"
   ]
  },
  {
   "cell_type": "code",
   "execution_count": 57,
   "id": "a125746e-1871-4086-b2ff-e9f07ee753bf",
   "metadata": {
    "tags": []
   },
   "outputs": [
    {
     "data": {
      "text/html": [
       "<style>#sk-container-id-1 {color: black;background-color: white;}#sk-container-id-1 pre{padding: 0;}#sk-container-id-1 div.sk-toggleable {background-color: white;}#sk-container-id-1 label.sk-toggleable__label {cursor: pointer;display: block;width: 100%;margin-bottom: 0;padding: 0.3em;box-sizing: border-box;text-align: center;}#sk-container-id-1 label.sk-toggleable__label-arrow:before {content: \"▸\";float: left;margin-right: 0.25em;color: #696969;}#sk-container-id-1 label.sk-toggleable__label-arrow:hover:before {color: black;}#sk-container-id-1 div.sk-estimator:hover label.sk-toggleable__label-arrow:before {color: black;}#sk-container-id-1 div.sk-toggleable__content {max-height: 0;max-width: 0;overflow: hidden;text-align: left;background-color: #f0f8ff;}#sk-container-id-1 div.sk-toggleable__content pre {margin: 0.2em;color: black;border-radius: 0.25em;background-color: #f0f8ff;}#sk-container-id-1 input.sk-toggleable__control:checked~div.sk-toggleable__content {max-height: 200px;max-width: 100%;overflow: auto;}#sk-container-id-1 input.sk-toggleable__control:checked~label.sk-toggleable__label-arrow:before {content: \"▾\";}#sk-container-id-1 div.sk-estimator input.sk-toggleable__control:checked~label.sk-toggleable__label {background-color: #d4ebff;}#sk-container-id-1 div.sk-label input.sk-toggleable__control:checked~label.sk-toggleable__label {background-color: #d4ebff;}#sk-container-id-1 input.sk-hidden--visually {border: 0;clip: rect(1px 1px 1px 1px);clip: rect(1px, 1px, 1px, 1px);height: 1px;margin: -1px;overflow: hidden;padding: 0;position: absolute;width: 1px;}#sk-container-id-1 div.sk-estimator {font-family: monospace;background-color: #f0f8ff;border: 1px dotted black;border-radius: 0.25em;box-sizing: border-box;margin-bottom: 0.5em;}#sk-container-id-1 div.sk-estimator:hover {background-color: #d4ebff;}#sk-container-id-1 div.sk-parallel-item::after {content: \"\";width: 100%;border-bottom: 1px solid gray;flex-grow: 1;}#sk-container-id-1 div.sk-label:hover label.sk-toggleable__label {background-color: #d4ebff;}#sk-container-id-1 div.sk-serial::before {content: \"\";position: absolute;border-left: 1px solid gray;box-sizing: border-box;top: 0;bottom: 0;left: 50%;z-index: 0;}#sk-container-id-1 div.sk-serial {display: flex;flex-direction: column;align-items: center;background-color: white;padding-right: 0.2em;padding-left: 0.2em;position: relative;}#sk-container-id-1 div.sk-item {position: relative;z-index: 1;}#sk-container-id-1 div.sk-parallel {display: flex;align-items: stretch;justify-content: center;background-color: white;position: relative;}#sk-container-id-1 div.sk-item::before, #sk-container-id-1 div.sk-parallel-item::before {content: \"\";position: absolute;border-left: 1px solid gray;box-sizing: border-box;top: 0;bottom: 0;left: 50%;z-index: -1;}#sk-container-id-1 div.sk-parallel-item {display: flex;flex-direction: column;z-index: 1;position: relative;background-color: white;}#sk-container-id-1 div.sk-parallel-item:first-child::after {align-self: flex-end;width: 50%;}#sk-container-id-1 div.sk-parallel-item:last-child::after {align-self: flex-start;width: 50%;}#sk-container-id-1 div.sk-parallel-item:only-child::after {width: 0;}#sk-container-id-1 div.sk-dashed-wrapped {border: 1px dashed gray;margin: 0 0.4em 0.5em 0.4em;box-sizing: border-box;padding-bottom: 0.4em;background-color: white;}#sk-container-id-1 div.sk-label label {font-family: monospace;font-weight: bold;display: inline-block;line-height: 1.2em;}#sk-container-id-1 div.sk-label-container {text-align: center;}#sk-container-id-1 div.sk-container {/* jupyter's `normalize.less` sets `[hidden] { display: none; }` but bootstrap.min.css set `[hidden] { display: none !important; }` so we also need the `!important` here to be able to override the default hidden behavior on the sphinx rendered scikit-learn.org. See: https://github.com/scikit-learn/scikit-learn/issues/21755 */display: inline-block !important;position: relative;}#sk-container-id-1 div.sk-text-repr-fallback {display: none;}</style><div id=\"sk-container-id-1\" class=\"sk-top-container\"><div class=\"sk-text-repr-fallback\"><pre>XGBRegressor(base_score=None, booster=None, callbacks=None,\n",
       "             colsample_bylevel=None, colsample_bynode=None,\n",
       "             colsample_bytree=None, device=None, early_stopping_rounds=None,\n",
       "             enable_categorical=False, eval_metric=None, feature_types=None,\n",
       "             gamma=None, grow_policy=None, importance_type=None,\n",
       "             interaction_constraints=None, learning_rate=None, max_bin=None,\n",
       "             max_cat_threshold=None, max_cat_to_onehot=None,\n",
       "             max_delta_step=None, max_depth=None, max_leaves=None,\n",
       "             min_child_weight=None, missing=nan, monotone_constraints=None,\n",
       "             multi_strategy=None, n_estimators=None, n_jobs=None,\n",
       "             num_parallel_tree=None, random_state=None, ...)</pre><b>In a Jupyter environment, please rerun this cell to show the HTML representation or trust the notebook. <br />On GitHub, the HTML representation is unable to render, please try loading this page with nbviewer.org.</b></div><div class=\"sk-container\" hidden><div class=\"sk-item\"><div class=\"sk-estimator sk-toggleable\"><input class=\"sk-toggleable__control sk-hidden--visually\" id=\"sk-estimator-id-1\" type=\"checkbox\" checked><label for=\"sk-estimator-id-1\" class=\"sk-toggleable__label sk-toggleable__label-arrow\">XGBRegressor</label><div class=\"sk-toggleable__content\"><pre>XGBRegressor(base_score=None, booster=None, callbacks=None,\n",
       "             colsample_bylevel=None, colsample_bynode=None,\n",
       "             colsample_bytree=None, device=None, early_stopping_rounds=None,\n",
       "             enable_categorical=False, eval_metric=None, feature_types=None,\n",
       "             gamma=None, grow_policy=None, importance_type=None,\n",
       "             interaction_constraints=None, learning_rate=None, max_bin=None,\n",
       "             max_cat_threshold=None, max_cat_to_onehot=None,\n",
       "             max_delta_step=None, max_depth=None, max_leaves=None,\n",
       "             min_child_weight=None, missing=nan, monotone_constraints=None,\n",
       "             multi_strategy=None, n_estimators=None, n_jobs=None,\n",
       "             num_parallel_tree=None, random_state=None, ...)</pre></div></div></div></div></div>"
      ],
      "text/plain": [
       "XGBRegressor(base_score=None, booster=None, callbacks=None,\n",
       "             colsample_bylevel=None, colsample_bynode=None,\n",
       "             colsample_bytree=None, device=None, early_stopping_rounds=None,\n",
       "             enable_categorical=False, eval_metric=None, feature_types=None,\n",
       "             gamma=None, grow_policy=None, importance_type=None,\n",
       "             interaction_constraints=None, learning_rate=None, max_bin=None,\n",
       "             max_cat_threshold=None, max_cat_to_onehot=None,\n",
       "             max_delta_step=None, max_depth=None, max_leaves=None,\n",
       "             min_child_weight=None, missing=nan, monotone_constraints=None,\n",
       "             multi_strategy=None, n_estimators=None, n_jobs=None,\n",
       "             num_parallel_tree=None, random_state=None, ...)"
      ]
     },
     "execution_count": 57,
     "metadata": {},
     "output_type": "execute_result"
    }
   ],
   "source": [
    "model = xgb.XGBRegressor()\n",
    "model.fit(X_train, y_train)"
   ]
  },
  {
   "cell_type": "code",
   "execution_count": 59,
   "id": "a76e293e-40fd-4de9-81cf-6483aae09261",
   "metadata": {
    "tags": []
   },
   "outputs": [
    {
     "name": "stdout",
     "output_type": "stream",
     "text": [
      "XGBoost RMSE: 46,795\n"
     ]
    }
   ],
   "source": [
    "y_pred = model.predict(X_test)\n",
    "#y_pred = xgb_model.predict(X_test)\n",
    "rmse = mean_squared_error(y_test, y_pred, squared=False)\n",
    "print(f\"XGBoost RMSE: {rmse:,.0f}\")"
   ]
  },
  {
   "cell_type": "code",
   "execution_count": 65,
   "id": "b03220e0-e771-4126-a17a-11c5daa75af0",
   "metadata": {
    "tags": []
   },
   "outputs": [
    {
     "data": {
      "text/plain": [
       "0.4746700628785828"
      ]
     },
     "execution_count": 65,
     "metadata": {},
     "output_type": "execute_result"
    }
   ],
   "source": [
    "r2_score(y_test, y_pred)"
   ]
  },
  {
   "cell_type": "code",
   "execution_count": 73,
   "id": "6417c360-95be-4e96-9a2b-acf85e588a6a",
   "metadata": {
    "tags": []
   },
   "outputs": [],
   "source": [
    "job_titles = df['title'].tolist()"
   ]
  },
  {
   "cell_type": "code",
   "execution_count": 75,
   "id": "357e5937-af6f-41dc-8aaa-c590ee8cc3c3",
   "metadata": {
    "tags": []
   },
   "outputs": [
    {
     "data": {
      "text/plain": [
       "['bert_job_embeddings.pkl']"
      ]
     },
     "execution_count": 75,
     "metadata": {},
     "output_type": "execute_result"
    }
   ],
   "source": [
    "job_title_to_embedding = {job: emb for job, emb in zip(job_titles, bert_embeddings)}\n",
    "\n",
    "# Save to file\n",
    "import joblib\n",
    "joblib.dump(job_title_to_embedding, \"bert_job_embeddings.pkl\")"
   ]
  },
  {
   "cell_type": "code",
   "execution_count": 77,
   "id": "2e0c9c68-4eb2-426c-bb5e-43cb58a9d034",
   "metadata": {
    "tags": []
   },
   "outputs": [
    {
     "data": {
      "text/plain": [
       "['xgb_salary_model.pkl']"
      ]
     },
     "execution_count": 77,
     "metadata": {},
     "output_type": "execute_result"
    }
   ],
   "source": [
    "joblib.dump(xgb_model, 'xgb_salary_model.pkl')"
   ]
  },
  {
   "cell_type": "code",
   "execution_count": null,
   "id": "dc693ad7-5301-4762-b40e-bcbab0a9123e",
   "metadata": {},
   "outputs": [],
   "source": []
  }
 ],
 "metadata": {
  "kernelspec": {
   "display_name": "Python 3 (ipykernel)",
   "language": "python",
   "name": "python3"
  },
  "language_info": {
   "codemirror_mode": {
    "name": "ipython",
    "version": 3
   },
   "file_extension": ".py",
   "mimetype": "text/x-python",
   "name": "python",
   "nbconvert_exporter": "python",
   "pygments_lexer": "ipython3",
   "version": "3.11.7"
  }
 },
 "nbformat": 4,
 "nbformat_minor": 5
}
