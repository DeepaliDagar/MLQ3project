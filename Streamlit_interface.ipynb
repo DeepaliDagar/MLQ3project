{
 "cells": [
  {
   "cell_type": "markdown",
   "id": "a6e037ff-9a81-48f5-b02e-624b1b62a65c",
   "metadata": {
    "id": "a6e037ff-9a81-48f5-b02e-624b1b62a65c"
   },
   "source": [
    "# UChicago - ML2 Final Project\n",
    "# Author: Akanksha Mathpati, Chris Tomaszkiewicz, Deepali Dagar, Sakshi Bokil\n",
    "# <b> Streamlit Interface\n",
    "(Uses recommendation model)"
   ]
  },
  {
   "cell_type": "code",
   "execution_count": 39,
   "id": "uqUA-VzUQeLR",
   "metadata": {
    "colab": {
     "base_uri": "https://localhost:8080/"
    },
    "id": "uqUA-VzUQeLR",
    "outputId": "c796434d-5bd5-4e10-ab4c-218dfe422b99"
   },
   "outputs": [
    {
     "name": "stdout",
     "output_type": "stream",
     "text": [
      "Drive already mounted at /content/drive; to attempt to forcibly remount, call drive.mount(\"/content/drive\", force_remount=True).\n"
     ]
    }
   ],
   "source": [
    "from google.colab import drive\n",
    "drive.mount('/content/drive')"
   ]
  },
  {
   "cell_type": "code",
   "execution_count": 40,
   "id": "myHuptm4QeOI",
   "metadata": {
    "colab": {
     "base_uri": "https://localhost:8080/"
    },
    "id": "myHuptm4QeOI",
    "outputId": "37ac2036-16c8-4b43-fe95-b3cb572eb577"
   },
   "outputs": [
    {
     "name": "stdout",
     "output_type": "stream",
     "text": [
      "/content/drive/MyDrive/UOC/ML2/Resume dataset\n"
     ]
    }
   ],
   "source": [
    "cd /content/drive/MyDrive/UOC/ML2/Resume dataset/"
   ]
  },
  {
   "cell_type": "markdown",
   "id": "c8a67bf0-f904-4c9e-825a-a2fda90fb878",
   "metadata": {
    "id": "c8a67bf0-f904-4c9e-825a-a2fda90fb878"
   },
   "source": [
    "## Import Libraries"
   ]
  },
  {
   "cell_type": "code",
   "execution_count": 2,
   "id": "homlDWYfWstd",
   "metadata": {
    "colab": {
     "base_uri": "https://localhost:8080/"
    },
    "id": "homlDWYfWstd",
    "outputId": "6e7b0a7d-2b15-42e4-f687-45a99affafd0"
   },
   "outputs": [
    {
     "name": "stdout",
     "output_type": "stream",
     "text": [
      "\u001b[2K     \u001b[90m━━━━━━━━━━━━━━━━━━━━━━━━━━━━━━━━━━━━━━━━\u001b[0m \u001b[32m44.3/44.3 kB\u001b[0m \u001b[31m2.9 MB/s\u001b[0m eta \u001b[36m0:00:00\u001b[0m\n",
      "\u001b[2K   \u001b[90m━━━━━━━━━━━━━━━━━━━━━━━━━━━━━━━━━━━━━━━━\u001b[0m \u001b[32m9.9/9.9 MB\u001b[0m \u001b[31m52.3 MB/s\u001b[0m eta \u001b[36m0:00:00\u001b[0m\n",
      "\u001b[2K   \u001b[90m━━━━━━━━━━━━━━━━━━━━━━━━━━━━━━━━━━━━━━━━\u001b[0m \u001b[32m6.9/6.9 MB\u001b[0m \u001b[31m52.9 MB/s\u001b[0m eta \u001b[36m0:00:00\u001b[0m\n",
      "\u001b[2K   \u001b[90m━━━━━━━━━━━━━━━━━━━━━━━━━━━━━━━━━━━━━━━━\u001b[0m \u001b[32m79.1/79.1 kB\u001b[0m \u001b[31m6.2 MB/s\u001b[0m eta \u001b[36m0:00:00\u001b[0m\n",
      "\u001b[?25h"
     ]
    }
   ],
   "source": [
    "!pip install streamlit pyngrok --quiet\n",
    "import spacy\n",
    "from sentence_transformers import SentenceTransformer\n",
    "import streamlit as st\n",
    "import joblib\n",
    "import pandas as pd\n",
    "import numpy as np\n",
    "import spacy\n",
    "from sentence_transformers import SentenceTransformer\n",
    "from sklearn.metrics.pairwise import cosine_similarity\n",
    "from io import StringIO\n",
    "import os"
   ]
  },
  {
   "cell_type": "markdown",
   "id": "d565cb71-8a7c-4635-9d25-f18cc35565c7",
   "metadata": {},
   "source": [
    "<b> Using NGROK for hosting website"
   ]
  },
  {
   "cell_type": "code",
   "execution_count": 4,
   "id": "uU-ZtFbhW-jq",
   "metadata": {
    "colab": {
     "base_uri": "https://localhost:8080/"
    },
    "id": "uU-ZtFbhW-jq",
    "outputId": "95065ec9-1c85-4002-a4cc-3def18da7598"
   },
   "outputs": [
    {
     "name": "stdout",
     "output_type": "stream",
     "text": [
      "Authtoken saved to configuration file: /root/.config/ngrok/ngrok.yml\n"
     ]
    }
   ],
   "source": [
    "!ngrok config add-authtoken 2wfW2U1STuVaKcQS0rDvFDcwk11_6wvocPc7L16fdynLEoBa42"
   ]
  },
  {
   "cell_type": "code",
   "execution_count": 149,
   "id": "haMWDpv-QIRH",
   "metadata": {
    "colab": {
     "base_uri": "https://localhost:8080/"
    },
    "id": "haMWDpv-QIRH",
    "outputId": "5d68c7ba-6e26-48af-8c95-20ca523efec8"
   },
   "outputs": [
    {
     "name": "stdout",
     "output_type": "stream",
     "text": [
      " app.py              job_embeddings.npy            \u001b[0m\u001b[01;34mnlp_custom\u001b[0m/\n",
      " cleaned_data.csv    \u001b[01;34mjobs\u001b[0m/                         postings.csv\n",
      " combined_data.csv  'jobseeker (1).jpg'            Resume.csv\n",
      " \u001b[01;34mcompanies\u001b[0m/          jobseeker.jpg                 resume_embeddings.npy\n",
      "'employer (1).jpg'   \u001b[01;34mmappings\u001b[0m/                     \u001b[01;34mResume-job\u001b[0m/\n",
      " employer.jpg        matcher.pkl                   \u001b[01;34msbert_model\u001b[0m/\n",
      " illustration.jpeg   mlb.pkl                       vectorizer.pkl\n",
      " integrated_app.py   ML_Project_classifier.ipynb   xgb_model.pkl\n",
      "'job1 (1).jpg'       \u001b[01;34mmodels_bundle\u001b[0m/\n",
      " job1.jpg            models_bundle.zip\n"
     ]
    }
   ],
   "source": [
    "ls"
   ]
  },
  {
   "cell_type": "code",
   "execution_count": 187,
   "id": "1ZKqDEYMWAMZ",
   "metadata": {
    "colab": {
     "base_uri": "https://localhost:8080/",
     "height": 108
    },
    "id": "1ZKqDEYMWAMZ",
    "outputId": "bf407bfe-3306-4c33-90a3-095ab3fd28b4"
   },
   "outputs": [
    {
     "data": {
      "text/html": [
       "\n",
       "     <input type=\"file\" id=\"files-a13aa73c-d46d-4140-80c9-050f2cde5f8a\" name=\"files[]\" multiple disabled\n",
       "        style=\"border:none\" />\n",
       "     <output id=\"result-a13aa73c-d46d-4140-80c9-050f2cde5f8a\">\n",
       "      Upload widget is only available when the cell has been executed in the\n",
       "      current browser session. Please rerun this cell to enable.\n",
       "      </output>\n",
       "      <script>// Copyright 2017 Google LLC\n",
       "//\n",
       "// Licensed under the Apache License, Version 2.0 (the \"License\");\n",
       "// you may not use this file except in compliance with the License.\n",
       "// You may obtain a copy of the License at\n",
       "//\n",
       "//      http://www.apache.org/licenses/LICENSE-2.0\n",
       "//\n",
       "// Unless required by applicable law or agreed to in writing, software\n",
       "// distributed under the License is distributed on an \"AS IS\" BASIS,\n",
       "// WITHOUT WARRANTIES OR CONDITIONS OF ANY KIND, either express or implied.\n",
       "// See the License for the specific language governing permissions and\n",
       "// limitations under the License.\n",
       "\n",
       "/**\n",
       " * @fileoverview Helpers for google.colab Python module.\n",
       " */\n",
       "(function(scope) {\n",
       "function span(text, styleAttributes = {}) {\n",
       "  const element = document.createElement('span');\n",
       "  element.textContent = text;\n",
       "  for (const key of Object.keys(styleAttributes)) {\n",
       "    element.style[key] = styleAttributes[key];\n",
       "  }\n",
       "  return element;\n",
       "}\n",
       "\n",
       "// Max number of bytes which will be uploaded at a time.\n",
       "const MAX_PAYLOAD_SIZE = 100 * 1024;\n",
       "\n",
       "function _uploadFiles(inputId, outputId) {\n",
       "  const steps = uploadFilesStep(inputId, outputId);\n",
       "  const outputElement = document.getElementById(outputId);\n",
       "  // Cache steps on the outputElement to make it available for the next call\n",
       "  // to uploadFilesContinue from Python.\n",
       "  outputElement.steps = steps;\n",
       "\n",
       "  return _uploadFilesContinue(outputId);\n",
       "}\n",
       "\n",
       "// This is roughly an async generator (not supported in the browser yet),\n",
       "// where there are multiple asynchronous steps and the Python side is going\n",
       "// to poll for completion of each step.\n",
       "// This uses a Promise to block the python side on completion of each step,\n",
       "// then passes the result of the previous step as the input to the next step.\n",
       "function _uploadFilesContinue(outputId) {\n",
       "  const outputElement = document.getElementById(outputId);\n",
       "  const steps = outputElement.steps;\n",
       "\n",
       "  const next = steps.next(outputElement.lastPromiseValue);\n",
       "  return Promise.resolve(next.value.promise).then((value) => {\n",
       "    // Cache the last promise value to make it available to the next\n",
       "    // step of the generator.\n",
       "    outputElement.lastPromiseValue = value;\n",
       "    return next.value.response;\n",
       "  });\n",
       "}\n",
       "\n",
       "/**\n",
       " * Generator function which is called between each async step of the upload\n",
       " * process.\n",
       " * @param {string} inputId Element ID of the input file picker element.\n",
       " * @param {string} outputId Element ID of the output display.\n",
       " * @return {!Iterable<!Object>} Iterable of next steps.\n",
       " */\n",
       "function* uploadFilesStep(inputId, outputId) {\n",
       "  const inputElement = document.getElementById(inputId);\n",
       "  inputElement.disabled = false;\n",
       "\n",
       "  const outputElement = document.getElementById(outputId);\n",
       "  outputElement.innerHTML = '';\n",
       "\n",
       "  const pickedPromise = new Promise((resolve) => {\n",
       "    inputElement.addEventListener('change', (e) => {\n",
       "      resolve(e.target.files);\n",
       "    });\n",
       "  });\n",
       "\n",
       "  const cancel = document.createElement('button');\n",
       "  inputElement.parentElement.appendChild(cancel);\n",
       "  cancel.textContent = 'Cancel upload';\n",
       "  const cancelPromise = new Promise((resolve) => {\n",
       "    cancel.onclick = () => {\n",
       "      resolve(null);\n",
       "    };\n",
       "  });\n",
       "\n",
       "  // Wait for the user to pick the files.\n",
       "  const files = yield {\n",
       "    promise: Promise.race([pickedPromise, cancelPromise]),\n",
       "    response: {\n",
       "      action: 'starting',\n",
       "    }\n",
       "  };\n",
       "\n",
       "  cancel.remove();\n",
       "\n",
       "  // Disable the input element since further picks are not allowed.\n",
       "  inputElement.disabled = true;\n",
       "\n",
       "  if (!files) {\n",
       "    return {\n",
       "      response: {\n",
       "        action: 'complete',\n",
       "      }\n",
       "    };\n",
       "  }\n",
       "\n",
       "  for (const file of files) {\n",
       "    const li = document.createElement('li');\n",
       "    li.append(span(file.name, {fontWeight: 'bold'}));\n",
       "    li.append(span(\n",
       "        `(${file.type || 'n/a'}) - ${file.size} bytes, ` +\n",
       "        `last modified: ${\n",
       "            file.lastModifiedDate ? file.lastModifiedDate.toLocaleDateString() :\n",
       "                                    'n/a'} - `));\n",
       "    const percent = span('0% done');\n",
       "    li.appendChild(percent);\n",
       "\n",
       "    outputElement.appendChild(li);\n",
       "\n",
       "    const fileDataPromise = new Promise((resolve) => {\n",
       "      const reader = new FileReader();\n",
       "      reader.onload = (e) => {\n",
       "        resolve(e.target.result);\n",
       "      };\n",
       "      reader.readAsArrayBuffer(file);\n",
       "    });\n",
       "    // Wait for the data to be ready.\n",
       "    let fileData = yield {\n",
       "      promise: fileDataPromise,\n",
       "      response: {\n",
       "        action: 'continue',\n",
       "      }\n",
       "    };\n",
       "\n",
       "    // Use a chunked sending to avoid message size limits. See b/62115660.\n",
       "    let position = 0;\n",
       "    do {\n",
       "      const length = Math.min(fileData.byteLength - position, MAX_PAYLOAD_SIZE);\n",
       "      const chunk = new Uint8Array(fileData, position, length);\n",
       "      position += length;\n",
       "\n",
       "      const base64 = btoa(String.fromCharCode.apply(null, chunk));\n",
       "      yield {\n",
       "        response: {\n",
       "          action: 'append',\n",
       "          file: file.name,\n",
       "          data: base64,\n",
       "        },\n",
       "      };\n",
       "\n",
       "      let percentDone = fileData.byteLength === 0 ?\n",
       "          100 :\n",
       "          Math.round((position / fileData.byteLength) * 100);\n",
       "      percent.textContent = `${percentDone}% done`;\n",
       "\n",
       "    } while (position < fileData.byteLength);\n",
       "  }\n",
       "\n",
       "  // All done.\n",
       "  yield {\n",
       "    response: {\n",
       "      action: 'complete',\n",
       "    }\n",
       "  };\n",
       "}\n",
       "\n",
       "scope.google = scope.google || {};\n",
       "scope.google.colab = scope.google.colab || {};\n",
       "scope.google.colab._files = {\n",
       "  _uploadFiles,\n",
       "  _uploadFilesContinue,\n",
       "};\n",
       "})(self);\n",
       "</script> "
      ],
      "text/plain": [
       "<IPython.core.display.HTML object>"
      ]
     },
     "metadata": {},
     "output_type": "display_data"
    },
    {
     "name": "stdout",
     "output_type": "stream",
     "text": [
      "Saving employer.jpg to employer.jpg\n",
      "Saving jobseeker.jpg to jobseeker.jpg\n"
     ]
    }
   ],
   "source": [
    "from google.colab import files\n",
    "uploaded = files.upload()\n"
   ]
  },
  {
   "cell_type": "code",
   "execution_count": 67,
   "id": "-LGb1TiqWASY",
   "metadata": {
    "id": "-LGb1TiqWASY"
   },
   "outputs": [],
   "source": [
    "# To kill instances \n",
    "!pkill streamlit\n",
    "!streamlit run app.py &>/dev/null &\n",
    "!pkill ngrok"
   ]
  },
  {
   "cell_type": "code",
   "execution_count": 70,
   "id": "5uXGx_BQSuPD",
   "metadata": {
    "colab": {
     "base_uri": "https://localhost:8080/"
    },
    "id": "5uXGx_BQSuPD",
    "outputId": "945824bf-7f77-421a-b3be-037791972160"
   },
   "outputs": [
    {
     "name": "stdout",
     "output_type": "stream",
     "text": [
      "Overwriting app.py\n"
     ]
    }
   ],
   "source": [
    "%%writefile app.py\n",
    "\n",
    "try:\n",
    "    from PyPDF2 import PdfReader\n",
    "except ImportError:\n",
    "    PdfReader = None\n",
    "\n",
    "try:\n",
    "    import docx\n",
    "except ImportError:\n",
    "    docx = None\n",
    "\n",
    "_drive_path = \"/content/drive/MyDrive/UOC/ML2/Resume dataset/\"\n",
    "\n",
    "\n",
    "# Define functions to use\n",
    "class Matcher:\n",
    "    def __init__(self, model_path, nlp_path=None):\n",
    "        self.model = SentenceTransformer(model_path)\n",
    "        try:\n",
    "            self.nlp = spacy.load(\"en_core_web_sm\") if nlp_path is None else spacy.load(nlp_path)\n",
    "        except:\n",
    "            import spacy.cli\n",
    "            spacy.cli.download(\"en_core_web_sm\")\n",
    "            self.nlp = spacy.load(\"en_core_web_sm\")\n",
    "\n",
    "    def preprocess(self, text):\n",
    "        doc = self.nlp(text.lower())\n",
    "        return \" \".join([t.lemma_ for t in doc if not t.is_stop and not t.is_punct])\n",
    "\n",
    "    def encode(self, texts):\n",
    "        return self.model.encode(texts, show_progress_bar=False)\n",
    "\n",
    "# Page Configuration \n",
    "st.set_page_config(page_title=\"HireSense\", layout=\"wide\")\n",
    "\n",
    "# Load the models \n",
    "@st.cache_resource\n",
    "def load_assets():\n",
    "    try:\n",
    "        model = joblib.load(os.path.join(_drive_path, \"xgb_model.pkl\"))\n",
    "        vectorizer = joblib.load(os.path.join(_drive_path, \"vectorizer.pkl\"))\n",
    "        mlb = joblib.load(os.path.join(_drive_path, \"mlb.pkl\"))\n",
    "        matcher = Matcher(os.path.join(_drive_path, \"sbert_model\"))\n",
    "        return model, vectorizer, mlb, matcher\n",
    "    except Exception as e:\n",
    "        st.error(f\"Error loading models: {str(e)}\")\n",
    "        return None, None, None, None\n",
    "\n",
    "model, vectorizer, mlb, matcher = load_assets()\n",
    "\n",
    "# Session State Initialization\n",
    "if \"results\" not in st.session_state:\n",
    "    st.session_state.results = {}\n",
    "if \"role\" not in st.session_state:\n",
    "    st.session_state.role = None\n",
    "\n",
    "# UI Styles\n",
    "st.markdown(\"\"\"\n",
    "    <style>\n",
    "    .stApp { background-color: #f8f9fa; }\n",
    "    .block-container { background-color: rgba(255,255,255,0.95); }\n",
    "    .role-card {\n",
    "        border: 2px solid #4FC3F7;\n",
    "        border-radius: 10px;\n",
    "        padding: 2rem;\n",
    "        margin: 1rem;\n",
    "        transition: all 0.3s ease;\n",
    "    }\n",
    "    .role-card:hover {\n",
    "        transform: translateY(-5px);\n",
    "        box-shadow: 0 8px 16px rgba(0,0,0,0.1);\n",
    "    }\n",
    "    .prediction-badge {\n",
    "        background: #0288D1;\n",
    "        color: white;\n",
    "        padding: 8px 16px;\n",
    "        border-radius: 20px;\n",
    "        margin: 4px;\n",
    "    }\n",
    "    </style>\n",
    "\"\"\", unsafe_allow_html=True)\n",
    "\n",
    "# Role Selection\n",
    "if not st.session_state.role:\n",
    "    st.title(\"HireSense\")\n",
    "    st.markdown(\"### Select Your Profile\")\n",
    "    col1, col2 = st.columns(2)\n",
    "    with col1:\n",
    "        with st.form(\"seeker_form\"):\n",
    "            st.markdown(\"\"\"\n",
    "                <div class='role-card'>\n",
    "                    <h3 style='text-align: center'>Job Seeker</h3>\n",
    "                    <p style='text-align: center'>Upload resume to find matching jobs</p>\n",
    "                </div>\n",
    "            \"\"\", unsafe_allow_html=True)\n",
    "            if st.form_submit_button(\"Continue as Job Seeker\"):\n",
    "                st.session_state.role = \"seeker\"\n",
    "    with col2:\n",
    "        with st.form(\"employer_form\"):\n",
    "            st.markdown(\"\"\"\n",
    "                <div class='role-card'>\n",
    "                    <h3 style='text-align: center'>Employer</h3>\n",
    "                    <p style='text-align: center'>Post job to find candidates</p>\n",
    "                </div>\n",
    "            \"\"\", unsafe_allow_html=True)\n",
    "            if st.form_submit_button(\"Continue as Employer\"):\n",
    "                st.session_state.role = \"employer\"\n",
    "\n",
    "# Main Interface\n",
    "else:\n",
    "    if st.button(\"← Change Role\"):\n",
    "        st.session_state.clear()\n",
    "        st.experimental_rerun()\n",
    "\n",
    "    st.title(f\"{'Job Seeker' if st.session_state.role == 'seeker' else 'Employer'} Portal\")\n",
    "\n",
    "    if st.session_state.role == \"seeker\":\n",
    "        uploaded_file = st.file_uploader(\"Upload Resume (PDF/DOCX/TXT)\", type=[\"pdf\", \"docx\", \"txt\"])\n",
    "        resume_text = \"\"\n",
    "        if uploaded_file:\n",
    "            try:\n",
    "                if uploaded_file.type == \"application/pdf\":\n",
    "                    reader = PdfReader(uploaded_file)\n",
    "                    resume_text = \"\\n\".join([p.extract_text() or \"\" for p in reader.pages])\n",
    "                elif uploaded_file.type == \"application/vnd.openxmlformats-officedocument.wordprocessingml.document\":\n",
    "                    doc = docx.Document(uploaded_file)\n",
    "                    resume_text = \"\\n\".join([p.text for p in doc.paragraphs])\n",
    "                elif uploaded_file.type == \"text/plain\":\n",
    "                    resume_text = uploaded_file.getvalue().decode()\n",
    "            except Exception as e:\n",
    "                st.error(f\"Error reading file: {str(e)}\")\n",
    "        resume_input = st.text_area(\"Or paste resume text:\", value=resume_text, height=200)\n",
    "        if st.button(\"Find Matching Jobs\"):\n",
    "            if not resume_input.strip():\n",
    "                st.warning(\"Please input resume text\")\n",
    "            else:\n",
    "                with st.spinner(\"Finding best matches...\"):\n",
    "                    try:\n",
    "                        cleaned = matcher.preprocess(resume_input)\n",
    "                        resume_emb = matcher.encode([cleaned])\n",
    "                        job_df = pd.read_csv(os.path.join(_drive_path, \"postings.csv\"))\n",
    "                        job_embs = np.load(os.path.join(_drive_path, \"job_embeddings.npy\"))\n",
    "                        if resume_emb.ndim == 1:\n",
    "                            resume_emb = resume_emb.reshape(1, -1)\n",
    "                        if job_embs.ndim == 1:\n",
    "                            job_embs = job_embs.reshape(1, -1)\n",
    "                        scores = cosine_similarity(resume_emb, job_embs)[0]\n",
    "                        top_indices = scores.argsort()[::-1][:5]\n",
    "                        st.session_state.results = {\n",
    "                            \"matches\": {\n",
    "                                \"data\": job_df.iloc[top_indices],\n",
    "                                \"scores\": scores[top_indices]\n",
    "                            }\n",
    "                        }\n",
    "                    except Exception as e:\n",
    "                        st.error(f\"Processing error: {str(e)}\")\n",
    "\n",
    "    elif st.session_state.role == \"employer\":\n",
    "        st.header(\"Post a Job Description\")\n",
    "        jd_input = st.text_area(\"Paste the job description here:\")\n",
    "        if st.button(\"Find Matching Resumes\"):\n",
    "            if not jd_input.strip():\n",
    "                st.warning(\"Please paste a job description to find candidates.\")\n",
    "            else:\n",
    "                try:\n",
    "                    cleaned = matcher.preprocess(jd_input)\n",
    "                    jd_emb = matcher.encode([cleaned])\n",
    "                    resume_df = pd.read_csv(os.path.join(_drive_path, \"Resume.csv\"))\n",
    "                    resume_embs = np.load(os.path.join(_drive_path, \"resume_embeddings.npy\"))\n",
    "                    if jd_emb.ndim == 1:\n",
    "                        jd_emb = jd_emb.reshape(1, -1)\n",
    "                    if resume_embs.ndim == 1:\n",
    "                        resume_embs = resume_embs.reshape(1, -1)\n",
    "                    scores = cosine_similarity(jd_emb, resume_embs)[0]\n",
    "                    top_indices = scores.argsort()[::-1][:5]\n",
    "                    st.subheader(\"Top Resume Matches\")\n",
    "                    for idx in top_indices:\n",
    "                        resume = resume_df.iloc[idx]\n",
    "                        st.markdown(f\"**Resume ID:** `{resume['ID']}`\")\n",
    "                        st.markdown(f\"**Snippet:** {resume['Resume_str'][:300]}...\")\n",
    "                        st.markdown(f\"**Similarity Score:** `{scores[idx]:.4f}`\")\n",
    "                        st.write(\"---\")\n",
    "                except Exception as e:\n",
    "                    st.error(f\"Error during resume matching: {e}\")\n",
    "\n",
    "    # Results Display for Job Seeker\n",
    "    if st.session_state.role == \"seeker\" and \"matches\" in st.session_state.results:\n",
    "        st.subheader(\"Top Job Matches\")\n",
    "        matches = st.session_state.results[\"matches\"]\n",
    "        for idx, (score, row) in enumerate(zip(matches[\"scores\"], matches[\"data\"].itertuples())):\n",
    "            with st.expander(f\"Match {idx+1} | Score: {score:.2f}\", expanded=True):\n",
    "                st.markdown(f\"**{row.title}**\")\n",
    "                st.write(f\"**ID:** {row.job_id}\")\n",
    "                st.write(\"---\")\n"
   ]
  },
  {
   "cell_type": "code",
   "execution_count": 71,
   "id": "d-FgJA9rke9i",
   "metadata": {
    "colab": {
     "base_uri": "https://localhost:8080/"
    },
    "id": "d-FgJA9rke9i",
    "outputId": "54171308-0c01-4872-9b42-469fb60b6f81"
   },
   "outputs": [
    {
     "name": "stdout",
     "output_type": "stream",
     "text": [
      "🚀 App running at: NgrokTunnel: \"https://9c83-34-169-230-218.ngrok-free.app\" -> \"http://localhost:8501\"\n"
     ]
    }
   ],
   "source": [
    "# To run the website\n",
    "if 'google.colab' in str(os.sys.modules):\n",
    "    from pyngrok import ngrok\n",
    "    import threading\n",
    "\n",
    "    def run_streamlit():\n",
    "        os.system(\"streamlit run app.py --server.port 8501\")\n",
    "\n",
    "    threading.Thread(target=run_streamlit).start()\n",
    "    public_url = ngrok.connect(8501)\n",
    "    print(f\"App running at: {public_url}\")"
   ]
  }
 ],
 "metadata": {
  "accelerator": "GPU",
  "colab": {
   "gpuType": "T4",
   "provenance": []
  },
  "kernelspec": {
   "display_name": "anaconda-panel-2023.05-py310",
   "language": "python",
   "name": "conda-env-anaconda-panel-2023.05-py310-py"
  },
  "language_info": {
   "codemirror_mode": {
    "name": "ipython",
    "version": 3
   },
   "file_extension": ".py",
   "mimetype": "text/x-python",
   "name": "python",
   "nbconvert_exporter": "python",
   "pygments_lexer": "ipython3",
   "version": "3.11.5"
  }
 },
 "nbformat": 4,
 "nbformat_minor": 5
}
