{
 "cells": [
  {
   "cell_type": "markdown",
   "id": "a6e037ff-9a81-48f5-b02e-624b1b62a65c",
   "metadata": {
    "id": "a6e037ff-9a81-48f5-b02e-624b1b62a65c"
   },
   "source": [
    "# UChicago - ML2 Final Project\n",
    "# Author: Akanksha Mathpati, Chris Tomaszkiewicz, Deepali Dagar, Sakshi Bokil\n",
    "## <b> Objective 2: Multi-Label Job Domain Classifier\n",
    "### Predict multiple job domains using extracted skills from job descriptions with NLP and ML techniques.\n"
   ]
  },
  {
   "cell_type": "code",
   "execution_count": 39,
   "id": "uqUA-VzUQeLR",
   "metadata": {
    "colab": {
     "base_uri": "https://localhost:8080/"
    },
    "id": "uqUA-VzUQeLR",
    "outputId": "c796434d-5bd5-4e10-ab4c-218dfe422b99"
   },
   "outputs": [
    {
     "name": "stdout",
     "output_type": "stream",
     "text": [
      "Drive already mounted at /content/drive; to attempt to forcibly remount, call drive.mount(\"/content/drive\", force_remount=True).\n"
     ]
    }
   ],
   "source": [
    "from google.colab import drive\n",
    "drive.mount('/content/drive')"
   ]
  },
  {
   "cell_type": "code",
   "execution_count": 40,
   "id": "myHuptm4QeOI",
   "metadata": {
    "colab": {
     "base_uri": "https://localhost:8080/"
    },
    "id": "myHuptm4QeOI",
    "outputId": "37ac2036-16c8-4b43-fe95-b3cb572eb577"
   },
   "outputs": [
    {
     "name": "stdout",
     "output_type": "stream",
     "text": [
      "/content/drive/MyDrive/UOC/ML2/Resume dataset\n"
     ]
    }
   ],
   "source": [
    "cd /content/drive/MyDrive/UOC/ML2/Resume dataset/"
   ]
  },
  {
   "cell_type": "code",
   "execution_count": 169,
   "id": "ZsaHJZFmQeRh",
   "metadata": {
    "colab": {
     "base_uri": "https://localhost:8080/"
    },
    "id": "ZsaHJZFmQeRh",
    "outputId": "f333978e-bbfa-47eb-d691-ae22a101397d"
   },
   "outputs": [
    {
     "name": "stdout",
     "output_type": "stream",
     "text": [
      " app.py              job1.jpg                      \u001b[0m\u001b[01;34mmodels_bundle\u001b[0m/\n",
      " cleaned_data.csv    job_embeddings.npy            models_bundle.zip\n",
      " combined_data.csv   \u001b[01;34mjobs\u001b[0m/                         \u001b[01;34mnlp_custom\u001b[0m/\n",
      " \u001b[01;34mcompanies\u001b[0m/         'jobseeker (1).jpg'            postings.csv\n",
      "'employer (1).jpg'  'jobseeker (2).jpg'            Resume.csv\n",
      "'employer (2).jpg'  'jobseeker (3).jpg'            resume_embeddings.npy\n",
      "'employer (3).jpg'   jobseeker.jpg                 \u001b[01;34mResume-job\u001b[0m/\n",
      " employer.jpg        \u001b[01;34mmappings\u001b[0m/                     \u001b[01;34msbert_model\u001b[0m/\n",
      " illustration.jpeg   matcher.pkl                   vectorizer.pkl\n",
      " integrated_app.py   mlb.pkl                       xgb_model.pkl\n",
      "'job1 (1).jpg'       ML_Project_classifier.ipynb\n"
     ]
    }
   ],
   "source": [
    "ls"
   ]
  },
  {
   "cell_type": "markdown",
   "id": "c8a67bf0-f904-4c9e-825a-a2fda90fb878",
   "metadata": {
    "id": "c8a67bf0-f904-4c9e-825a-a2fda90fb878"
   },
   "source": [
    "## Import Libraries"
   ]
  },
  {
   "cell_type": "code",
   "execution_count": null,
   "id": "e68c1d9f-535f-4fbc-8071-e07c4319b205",
   "metadata": {
    "id": "e68c1d9f-535f-4fbc-8071-e07c4319b205"
   },
   "outputs": [],
   "source": [
    "import pandas as pd, numpy as np, matplotlib.pyplot as plt, seaborn as sns\n",
    "from sklearn.model_selection import train_test_split, GridSearchCV\n",
    "from sklearn.metrics import classification_report, accuracy_score, f1_score, hamming_loss\n",
    "from sklearn.feature_extraction.text import TfidfVectorizer\n",
    "from sklearn.preprocessing import MultiLabelBinarizer\n",
    "from sklearn.multiclass import OneVsRestClassifier\n",
    "from sklearn.linear_model import LogisticRegression\n",
    "from sklearn.ensemble import RandomForestClassifier\n",
    "from sklearn.naive_bayes import MultinomialNB\n",
    "from xgboost import XGBClassifier\n",
    "import spacy\n",
    "import joblib\n",
    "import nltk"
   ]
  },
  {
   "cell_type": "markdown",
   "id": "sX4i7IAkit_b",
   "metadata": {
    "id": "sX4i7IAkit_b"
   },
   "source": [
    "## LOAD DATASETS"
   ]
  },
  {
   "cell_type": "code",
   "execution_count": null,
   "id": "0vrlAByjg-2q",
   "metadata": {
    "id": "0vrlAByjg-2q"
   },
   "outputs": [],
   "source": []
  },
  {
   "cell_type": "code",
   "execution_count": null,
   "id": "5d72d937-ec68-4145-871a-6ee5d4aabd3d",
   "metadata": {
    "id": "5d72d937-ec68-4145-871a-6ee5d4aabd3d"
   },
   "outputs": [],
   "source": [
    "postings_df = pd.read_csv('postings.csv')\n",
    "resume_df = pd.read_csv('Resume.csv')"
   ]
  },
  {
   "cell_type": "code",
   "execution_count": null,
   "id": "9b18b15c-b8d7-45e7-9860-cc8da03dc7e1",
   "metadata": {
    "colab": {
     "base_uri": "https://localhost:8080/",
     "height": 568
    },
    "id": "9b18b15c-b8d7-45e7-9860-cc8da03dc7e1",
    "outputId": "66b83fb1-e11a-4764-bb9a-cfa2abc6518a"
   },
   "outputs": [
    {
     "data": {
      "application/vnd.google.colaboratory.intrinsic+json": {
       "type": "dataframe",
       "variable_name": "postings_df"
      },
      "text/html": [
       "\n",
       "  <div id=\"df-656b6f8d-518b-442d-9822-960d2de3afc1\" class=\"colab-df-container\">\n",
       "    <div>\n",
       "<style scoped>\n",
       "    .dataframe tbody tr th:only-of-type {\n",
       "        vertical-align: middle;\n",
       "    }\n",
       "\n",
       "    .dataframe tbody tr th {\n",
       "        vertical-align: top;\n",
       "    }\n",
       "\n",
       "    .dataframe thead th {\n",
       "        text-align: right;\n",
       "    }\n",
       "</style>\n",
       "<table border=\"1\" class=\"dataframe\">\n",
       "  <thead>\n",
       "    <tr style=\"text-align: right;\">\n",
       "      <th></th>\n",
       "      <th>job_id</th>\n",
       "      <th>company_name</th>\n",
       "      <th>title</th>\n",
       "      <th>description</th>\n",
       "      <th>max_salary</th>\n",
       "      <th>pay_period</th>\n",
       "      <th>location</th>\n",
       "      <th>company_id</th>\n",
       "      <th>views</th>\n",
       "      <th>med_salary</th>\n",
       "      <th>...</th>\n",
       "      <th>skills_desc</th>\n",
       "      <th>listed_time</th>\n",
       "      <th>posting_domain</th>\n",
       "      <th>sponsored</th>\n",
       "      <th>work_type</th>\n",
       "      <th>currency</th>\n",
       "      <th>compensation_type</th>\n",
       "      <th>normalized_salary</th>\n",
       "      <th>zip_code</th>\n",
       "      <th>fips</th>\n",
       "    </tr>\n",
       "  </thead>\n",
       "  <tbody>\n",
       "    <tr>\n",
       "      <th>0</th>\n",
       "      <td>921716</td>\n",
       "      <td>Corcoran Sawyer Smith</td>\n",
       "      <td>Marketing Coordinator</td>\n",
       "      <td>Job descriptionA leading real estate firm in N...</td>\n",
       "      <td>20.0</td>\n",
       "      <td>HOURLY</td>\n",
       "      <td>Princeton, NJ</td>\n",
       "      <td>2774458.0</td>\n",
       "      <td>20.0</td>\n",
       "      <td>NaN</td>\n",
       "      <td>...</td>\n",
       "      <td>Requirements: \\n\\nWe are seeking a College or ...</td>\n",
       "      <td>1.713398e+12</td>\n",
       "      <td>NaN</td>\n",
       "      <td>0</td>\n",
       "      <td>FULL_TIME</td>\n",
       "      <td>USD</td>\n",
       "      <td>BASE_SALARY</td>\n",
       "      <td>38480.0</td>\n",
       "      <td>8540.0</td>\n",
       "      <td>34021.0</td>\n",
       "    </tr>\n",
       "    <tr>\n",
       "      <th>1</th>\n",
       "      <td>1829192</td>\n",
       "      <td>NaN</td>\n",
       "      <td>Mental Health Therapist/Counselor</td>\n",
       "      <td>At Aspen Therapy and Wellness , we are committ...</td>\n",
       "      <td>50.0</td>\n",
       "      <td>HOURLY</td>\n",
       "      <td>Fort Collins, CO</td>\n",
       "      <td>NaN</td>\n",
       "      <td>1.0</td>\n",
       "      <td>NaN</td>\n",
       "      <td>...</td>\n",
       "      <td>NaN</td>\n",
       "      <td>1.712858e+12</td>\n",
       "      <td>NaN</td>\n",
       "      <td>0</td>\n",
       "      <td>FULL_TIME</td>\n",
       "      <td>USD</td>\n",
       "      <td>BASE_SALARY</td>\n",
       "      <td>83200.0</td>\n",
       "      <td>80521.0</td>\n",
       "      <td>8069.0</td>\n",
       "    </tr>\n",
       "    <tr>\n",
       "      <th>2</th>\n",
       "      <td>10998357</td>\n",
       "      <td>The National Exemplar</td>\n",
       "      <td>Assitant Restaurant Manager</td>\n",
       "      <td>The National Exemplar is accepting application...</td>\n",
       "      <td>65000.0</td>\n",
       "      <td>YEARLY</td>\n",
       "      <td>Cincinnati, OH</td>\n",
       "      <td>64896719.0</td>\n",
       "      <td>8.0</td>\n",
       "      <td>NaN</td>\n",
       "      <td>...</td>\n",
       "      <td>We are currently accepting resumes for FOH - A...</td>\n",
       "      <td>1.713278e+12</td>\n",
       "      <td>NaN</td>\n",
       "      <td>0</td>\n",
       "      <td>FULL_TIME</td>\n",
       "      <td>USD</td>\n",
       "      <td>BASE_SALARY</td>\n",
       "      <td>55000.0</td>\n",
       "      <td>45202.0</td>\n",
       "      <td>39061.0</td>\n",
       "    </tr>\n",
       "    <tr>\n",
       "      <th>3</th>\n",
       "      <td>23221523</td>\n",
       "      <td>Abrams Fensterman, LLP</td>\n",
       "      <td>Senior Elder Law / Trusts and Estates Associat...</td>\n",
       "      <td>Senior Associate Attorney - Elder Law / Trusts...</td>\n",
       "      <td>175000.0</td>\n",
       "      <td>YEARLY</td>\n",
       "      <td>New Hyde Park, NY</td>\n",
       "      <td>766262.0</td>\n",
       "      <td>16.0</td>\n",
       "      <td>NaN</td>\n",
       "      <td>...</td>\n",
       "      <td>This position requires a baseline understandin...</td>\n",
       "      <td>1.712896e+12</td>\n",
       "      <td>NaN</td>\n",
       "      <td>0</td>\n",
       "      <td>FULL_TIME</td>\n",
       "      <td>USD</td>\n",
       "      <td>BASE_SALARY</td>\n",
       "      <td>157500.0</td>\n",
       "      <td>11040.0</td>\n",
       "      <td>36059.0</td>\n",
       "    </tr>\n",
       "    <tr>\n",
       "      <th>4</th>\n",
       "      <td>35982263</td>\n",
       "      <td>NaN</td>\n",
       "      <td>Service Technician</td>\n",
       "      <td>Looking for HVAC service tech with experience ...</td>\n",
       "      <td>80000.0</td>\n",
       "      <td>YEARLY</td>\n",
       "      <td>Burlington, IA</td>\n",
       "      <td>NaN</td>\n",
       "      <td>3.0</td>\n",
       "      <td>NaN</td>\n",
       "      <td>...</td>\n",
       "      <td>NaN</td>\n",
       "      <td>1.713452e+12</td>\n",
       "      <td>NaN</td>\n",
       "      <td>0</td>\n",
       "      <td>FULL_TIME</td>\n",
       "      <td>USD</td>\n",
       "      <td>BASE_SALARY</td>\n",
       "      <td>70000.0</td>\n",
       "      <td>52601.0</td>\n",
       "      <td>19057.0</td>\n",
       "    </tr>\n",
       "  </tbody>\n",
       "</table>\n",
       "<p>5 rows × 31 columns</p>\n",
       "</div>\n",
       "    <div class=\"colab-df-buttons\">\n",
       "\n",
       "  <div class=\"colab-df-container\">\n",
       "    <button class=\"colab-df-convert\" onclick=\"convertToInteractive('df-656b6f8d-518b-442d-9822-960d2de3afc1')\"\n",
       "            title=\"Convert this dataframe to an interactive table.\"\n",
       "            style=\"display:none;\">\n",
       "\n",
       "  <svg xmlns=\"http://www.w3.org/2000/svg\" height=\"24px\" viewBox=\"0 -960 960 960\">\n",
       "    <path d=\"M120-120v-720h720v720H120Zm60-500h600v-160H180v160Zm220 220h160v-160H400v160Zm0 220h160v-160H400v160ZM180-400h160v-160H180v160Zm440 0h160v-160H620v160ZM180-180h160v-160H180v160Zm440 0h160v-160H620v160Z\"/>\n",
       "  </svg>\n",
       "    </button>\n",
       "\n",
       "  <style>\n",
       "    .colab-df-container {\n",
       "      display:flex;\n",
       "      gap: 12px;\n",
       "    }\n",
       "\n",
       "    .colab-df-convert {\n",
       "      background-color: #E8F0FE;\n",
       "      border: none;\n",
       "      border-radius: 50%;\n",
       "      cursor: pointer;\n",
       "      display: none;\n",
       "      fill: #1967D2;\n",
       "      height: 32px;\n",
       "      padding: 0 0 0 0;\n",
       "      width: 32px;\n",
       "    }\n",
       "\n",
       "    .colab-df-convert:hover {\n",
       "      background-color: #E2EBFA;\n",
       "      box-shadow: 0px 1px 2px rgba(60, 64, 67, 0.3), 0px 1px 3px 1px rgba(60, 64, 67, 0.15);\n",
       "      fill: #174EA6;\n",
       "    }\n",
       "\n",
       "    .colab-df-buttons div {\n",
       "      margin-bottom: 4px;\n",
       "    }\n",
       "\n",
       "    [theme=dark] .colab-df-convert {\n",
       "      background-color: #3B4455;\n",
       "      fill: #D2E3FC;\n",
       "    }\n",
       "\n",
       "    [theme=dark] .colab-df-convert:hover {\n",
       "      background-color: #434B5C;\n",
       "      box-shadow: 0px 1px 3px 1px rgba(0, 0, 0, 0.15);\n",
       "      filter: drop-shadow(0px 1px 2px rgba(0, 0, 0, 0.3));\n",
       "      fill: #FFFFFF;\n",
       "    }\n",
       "  </style>\n",
       "\n",
       "    <script>\n",
       "      const buttonEl =\n",
       "        document.querySelector('#df-656b6f8d-518b-442d-9822-960d2de3afc1 button.colab-df-convert');\n",
       "      buttonEl.style.display =\n",
       "        google.colab.kernel.accessAllowed ? 'block' : 'none';\n",
       "\n",
       "      async function convertToInteractive(key) {\n",
       "        const element = document.querySelector('#df-656b6f8d-518b-442d-9822-960d2de3afc1');\n",
       "        const dataTable =\n",
       "          await google.colab.kernel.invokeFunction('convertToInteractive',\n",
       "                                                    [key], {});\n",
       "        if (!dataTable) return;\n",
       "\n",
       "        const docLinkHtml = 'Like what you see? Visit the ' +\n",
       "          '<a target=\"_blank\" href=https://colab.research.google.com/notebooks/data_table.ipynb>data table notebook</a>'\n",
       "          + ' to learn more about interactive tables.';\n",
       "        element.innerHTML = '';\n",
       "        dataTable['output_type'] = 'display_data';\n",
       "        await google.colab.output.renderOutput(dataTable, element);\n",
       "        const docLink = document.createElement('div');\n",
       "        docLink.innerHTML = docLinkHtml;\n",
       "        element.appendChild(docLink);\n",
       "      }\n",
       "    </script>\n",
       "  </div>\n",
       "\n",
       "\n",
       "    <div id=\"df-2890262f-73c2-44f6-88db-fa79e2f15c9f\">\n",
       "      <button class=\"colab-df-quickchart\" onclick=\"quickchart('df-2890262f-73c2-44f6-88db-fa79e2f15c9f')\"\n",
       "                title=\"Suggest charts\"\n",
       "                style=\"display:none;\">\n",
       "\n",
       "<svg xmlns=\"http://www.w3.org/2000/svg\" height=\"24px\"viewBox=\"0 0 24 24\"\n",
       "     width=\"24px\">\n",
       "    <g>\n",
       "        <path d=\"M19 3H5c-1.1 0-2 .9-2 2v14c0 1.1.9 2 2 2h14c1.1 0 2-.9 2-2V5c0-1.1-.9-2-2-2zM9 17H7v-7h2v7zm4 0h-2V7h2v10zm4 0h-2v-4h2v4z\"/>\n",
       "    </g>\n",
       "</svg>\n",
       "      </button>\n",
       "\n",
       "<style>\n",
       "  .colab-df-quickchart {\n",
       "      --bg-color: #E8F0FE;\n",
       "      --fill-color: #1967D2;\n",
       "      --hover-bg-color: #E2EBFA;\n",
       "      --hover-fill-color: #174EA6;\n",
       "      --disabled-fill-color: #AAA;\n",
       "      --disabled-bg-color: #DDD;\n",
       "  }\n",
       "\n",
       "  [theme=dark] .colab-df-quickchart {\n",
       "      --bg-color: #3B4455;\n",
       "      --fill-color: #D2E3FC;\n",
       "      --hover-bg-color: #434B5C;\n",
       "      --hover-fill-color: #FFFFFF;\n",
       "      --disabled-bg-color: #3B4455;\n",
       "      --disabled-fill-color: #666;\n",
       "  }\n",
       "\n",
       "  .colab-df-quickchart {\n",
       "    background-color: var(--bg-color);\n",
       "    border: none;\n",
       "    border-radius: 50%;\n",
       "    cursor: pointer;\n",
       "    display: none;\n",
       "    fill: var(--fill-color);\n",
       "    height: 32px;\n",
       "    padding: 0;\n",
       "    width: 32px;\n",
       "  }\n",
       "\n",
       "  .colab-df-quickchart:hover {\n",
       "    background-color: var(--hover-bg-color);\n",
       "    box-shadow: 0 1px 2px rgba(60, 64, 67, 0.3), 0 1px 3px 1px rgba(60, 64, 67, 0.15);\n",
       "    fill: var(--button-hover-fill-color);\n",
       "  }\n",
       "\n",
       "  .colab-df-quickchart-complete:disabled,\n",
       "  .colab-df-quickchart-complete:disabled:hover {\n",
       "    background-color: var(--disabled-bg-color);\n",
       "    fill: var(--disabled-fill-color);\n",
       "    box-shadow: none;\n",
       "  }\n",
       "\n",
       "  .colab-df-spinner {\n",
       "    border: 2px solid var(--fill-color);\n",
       "    border-color: transparent;\n",
       "    border-bottom-color: var(--fill-color);\n",
       "    animation:\n",
       "      spin 1s steps(1) infinite;\n",
       "  }\n",
       "\n",
       "  @keyframes spin {\n",
       "    0% {\n",
       "      border-color: transparent;\n",
       "      border-bottom-color: var(--fill-color);\n",
       "      border-left-color: var(--fill-color);\n",
       "    }\n",
       "    20% {\n",
       "      border-color: transparent;\n",
       "      border-left-color: var(--fill-color);\n",
       "      border-top-color: var(--fill-color);\n",
       "    }\n",
       "    30% {\n",
       "      border-color: transparent;\n",
       "      border-left-color: var(--fill-color);\n",
       "      border-top-color: var(--fill-color);\n",
       "      border-right-color: var(--fill-color);\n",
       "    }\n",
       "    40% {\n",
       "      border-color: transparent;\n",
       "      border-right-color: var(--fill-color);\n",
       "      border-top-color: var(--fill-color);\n",
       "    }\n",
       "    60% {\n",
       "      border-color: transparent;\n",
       "      border-right-color: var(--fill-color);\n",
       "    }\n",
       "    80% {\n",
       "      border-color: transparent;\n",
       "      border-right-color: var(--fill-color);\n",
       "      border-bottom-color: var(--fill-color);\n",
       "    }\n",
       "    90% {\n",
       "      border-color: transparent;\n",
       "      border-bottom-color: var(--fill-color);\n",
       "    }\n",
       "  }\n",
       "</style>\n",
       "\n",
       "      <script>\n",
       "        async function quickchart(key) {\n",
       "          const quickchartButtonEl =\n",
       "            document.querySelector('#' + key + ' button');\n",
       "          quickchartButtonEl.disabled = true;  // To prevent multiple clicks.\n",
       "          quickchartButtonEl.classList.add('colab-df-spinner');\n",
       "          try {\n",
       "            const charts = await google.colab.kernel.invokeFunction(\n",
       "                'suggestCharts', [key], {});\n",
       "          } catch (error) {\n",
       "            console.error('Error during call to suggestCharts:', error);\n",
       "          }\n",
       "          quickchartButtonEl.classList.remove('colab-df-spinner');\n",
       "          quickchartButtonEl.classList.add('colab-df-quickchart-complete');\n",
       "        }\n",
       "        (() => {\n",
       "          let quickchartButtonEl =\n",
       "            document.querySelector('#df-2890262f-73c2-44f6-88db-fa79e2f15c9f button');\n",
       "          quickchartButtonEl.style.display =\n",
       "            google.colab.kernel.accessAllowed ? 'block' : 'none';\n",
       "        })();\n",
       "      </script>\n",
       "    </div>\n",
       "\n",
       "    </div>\n",
       "  </div>\n"
      ],
      "text/plain": [
       "     job_id            company_name  \\\n",
       "0    921716   Corcoran Sawyer Smith   \n",
       "1   1829192                     NaN   \n",
       "2  10998357  The National Exemplar    \n",
       "3  23221523  Abrams Fensterman, LLP   \n",
       "4  35982263                     NaN   \n",
       "\n",
       "                                               title  \\\n",
       "0                              Marketing Coordinator   \n",
       "1                  Mental Health Therapist/Counselor   \n",
       "2                        Assitant Restaurant Manager   \n",
       "3  Senior Elder Law / Trusts and Estates Associat...   \n",
       "4                                 Service Technician   \n",
       "\n",
       "                                         description  max_salary pay_period  \\\n",
       "0  Job descriptionA leading real estate firm in N...        20.0     HOURLY   \n",
       "1  At Aspen Therapy and Wellness , we are committ...        50.0     HOURLY   \n",
       "2  The National Exemplar is accepting application...     65000.0     YEARLY   \n",
       "3  Senior Associate Attorney - Elder Law / Trusts...    175000.0     YEARLY   \n",
       "4  Looking for HVAC service tech with experience ...     80000.0     YEARLY   \n",
       "\n",
       "            location  company_id  views  med_salary  ...  \\\n",
       "0      Princeton, NJ   2774458.0   20.0         NaN  ...   \n",
       "1   Fort Collins, CO         NaN    1.0         NaN  ...   \n",
       "2     Cincinnati, OH  64896719.0    8.0         NaN  ...   \n",
       "3  New Hyde Park, NY    766262.0   16.0         NaN  ...   \n",
       "4     Burlington, IA         NaN    3.0         NaN  ...   \n",
       "\n",
       "                                         skills_desc   listed_time  \\\n",
       "0  Requirements: \\n\\nWe are seeking a College or ...  1.713398e+12   \n",
       "1                                                NaN  1.712858e+12   \n",
       "2  We are currently accepting resumes for FOH - A...  1.713278e+12   \n",
       "3  This position requires a baseline understandin...  1.712896e+12   \n",
       "4                                                NaN  1.713452e+12   \n",
       "\n",
       "   posting_domain  sponsored  work_type currency compensation_type  \\\n",
       "0             NaN          0  FULL_TIME      USD       BASE_SALARY   \n",
       "1             NaN          0  FULL_TIME      USD       BASE_SALARY   \n",
       "2             NaN          0  FULL_TIME      USD       BASE_SALARY   \n",
       "3             NaN          0  FULL_TIME      USD       BASE_SALARY   \n",
       "4             NaN          0  FULL_TIME      USD       BASE_SALARY   \n",
       "\n",
       "  normalized_salary  zip_code     fips  \n",
       "0           38480.0    8540.0  34021.0  \n",
       "1           83200.0   80521.0   8069.0  \n",
       "2           55000.0   45202.0  39061.0  \n",
       "3          157500.0   11040.0  36059.0  \n",
       "4           70000.0   52601.0  19057.0  \n",
       "\n",
       "[5 rows x 31 columns]"
      ]
     },
     "execution_count": 6,
     "metadata": {},
     "output_type": "execute_result"
    }
   ],
   "source": [
    "postings_df.head()"
   ]
  },
  {
   "cell_type": "code",
   "execution_count": null,
   "id": "ZdYWF9FJnRFt",
   "metadata": {
    "colab": {
     "base_uri": "https://localhost:8080/"
    },
    "id": "ZdYWF9FJnRFt",
    "outputId": "f6e26ec5-5216-4ef9-aa1f-8abd38b7aebf"
   },
   "outputs": [
    {
     "name": "stdout",
     "output_type": "stream",
     "text": [
      "<class 'pandas.core.frame.DataFrame'>\n",
      "RangeIndex: 123849 entries, 0 to 123848\n",
      "Data columns (total 31 columns):\n",
      " #   Column                      Non-Null Count   Dtype  \n",
      "---  ------                      --------------   -----  \n",
      " 0   job_id                      123849 non-null  int64  \n",
      " 1   company_name                122130 non-null  object \n",
      " 2   title                       123849 non-null  object \n",
      " 3   description                 123842 non-null  object \n",
      " 4   max_salary                  29793 non-null   float64\n",
      " 5   pay_period                  36073 non-null   object \n",
      " 6   location                    123849 non-null  object \n",
      " 7   company_id                  122132 non-null  float64\n",
      " 8   views                       122160 non-null  float64\n",
      " 9   med_salary                  6280 non-null    float64\n",
      " 10  min_salary                  29793 non-null   float64\n",
      " 11  formatted_work_type         123849 non-null  object \n",
      " 12  applies                     23320 non-null   float64\n",
      " 13  original_listed_time        123849 non-null  float64\n",
      " 14  remote_allowed              15246 non-null   float64\n",
      " 15  job_posting_url             123849 non-null  object \n",
      " 16  application_url             87184 non-null   object \n",
      " 17  application_type            123849 non-null  object \n",
      " 18  expiry                      123849 non-null  float64\n",
      " 19  closed_time                 1073 non-null    float64\n",
      " 20  formatted_experience_level  94440 non-null   object \n",
      " 21  skills_desc                 2439 non-null    object \n",
      " 22  listed_time                 123849 non-null  float64\n",
      " 23  posting_domain              83881 non-null   object \n",
      " 24  sponsored                   123849 non-null  int64  \n",
      " 25  work_type                   123849 non-null  object \n",
      " 26  currency                    36073 non-null   object \n",
      " 27  compensation_type           36073 non-null   object \n",
      " 28  normalized_salary           36073 non-null   float64\n",
      " 29  zip_code                    102977 non-null  float64\n",
      " 30  fips                        96434 non-null   float64\n",
      "dtypes: float64(14), int64(2), object(15)\n",
      "memory usage: 29.3+ MB\n"
     ]
    }
   ],
   "source": [
    "postings_df.info()"
   ]
  },
  {
   "cell_type": "code",
   "execution_count": null,
   "id": "_P4Ewr3atc_h",
   "metadata": {
    "colab": {
     "base_uri": "https://localhost:8080/"
    },
    "id": "_P4Ewr3atc_h",
    "outputId": "69992d4d-871d-467c-afc0-b84740da7b95"
   },
   "outputs": [
    {
     "data": {
      "text/plain": [
       "array([nan, 'arrowstaffingservices.thejobnetwork.com',\n",
       "       'williamsleagroupltd.thejobnetwork.com', ..., 'www.opswat.com',\n",
       "       'imec.csod.com', 'epsoperations.bamboohr.com'], dtype=object)"
      ]
     },
     "execution_count": 8,
     "metadata": {},
     "output_type": "execute_result"
    }
   ],
   "source": [
    "postings_df['posting_domain'].unique()"
   ]
  },
  {
   "cell_type": "code",
   "execution_count": null,
   "id": "A9Y0tzvXtmHa",
   "metadata": {
    "colab": {
     "base_uri": "https://localhost:8080/"
    },
    "id": "A9Y0tzvXtmHa",
    "outputId": "e5b4d5dd-c625-4ecd-8809-c0072e19c281"
   },
   "outputs": [
    {
     "data": {
      "text/plain": [
       "(123849, 31)"
      ]
     },
     "execution_count": 10,
     "metadata": {},
     "output_type": "execute_result"
    }
   ],
   "source": [
    "postings_df.shape"
   ]
  },
  {
   "cell_type": "code",
   "execution_count": null,
   "id": "fGVGehA6tm9j",
   "metadata": {
    "colab": {
     "base_uri": "https://localhost:8080/",
     "height": 206
    },
    "id": "fGVGehA6tm9j",
    "outputId": "cdf322a4-72cc-4ae4-af23-82884a55796d"
   },
   "outputs": [
    {
     "data": {
      "application/vnd.google.colaboratory.intrinsic+json": {
       "summary": "{\n  \"name\": \"resume_df\",\n  \"rows\": 2484,\n  \"fields\": [\n    {\n      \"column\": \"ID\",\n      \"properties\": {\n        \"dtype\": \"number\",\n        \"std\": 21457345,\n        \"min\": 3547447,\n        \"max\": 99806115,\n        \"num_unique_values\": 2484,\n        \"samples\": [\n          99244405,\n          17562754,\n          30311725\n        ],\n        \"semantic_type\": \"\",\n        \"description\": \"\"\n      }\n    },\n    {\n      \"column\": \"Resume_str\",\n      \"properties\": {\n        \"dtype\": \"string\",\n        \"num_unique_values\": 2482,\n        \"samples\": [\n          \"         INFORMATION TECHNOLOGY SPECIALIST(DISCOUNTPCFIX)       Summary     I am obsessed with technology. It's power to change everything. Technology fuels my passion and commitment to helping organizations do what they set out to. When I engage, I bring fresh ideas that help your team galvanize performance. Refine your strategy. Spark new energy. \\nThe future\\u2014and how we get there\\u2014depends on those who build, connect, create and transform our world.  Accomplished with over 10 years of information technology support experience.  Highly articulate Capable experienced installing and updating hardware and software systems for users. Known for effectively optimizing systems to meet changing demands, enhancing collaboration and improving security.  Experienced Operations Analyst with first-rate skills in organizing, problem solving and project management. Ready to apply experience and abilities to take on new professional challenges.  Passionate and driven professional with remarkable analytical and problem solving skills.  Expert quality assurance tester offering five years of experience in detailed technical and system specifications.  Provides a collaborative style and has well-developed communication skills. Seeking a role in test reporting and defect resolution.  Well-rounded team player with dynamic written and verbal communication skills.  Hardworking and resourceful team player.  History of going above and beyond to achieve notable results.  Offering excellent blend of technical aptitude and creative ability. Inspires design teams with engaging management techniques and innovative thinking. Resourceful Technical Support Engineer polished in restoring system functionality by quickly assessing and resolving diverse hardware and software problems.       Skills          Issue escalation  Reporting and analysis  Quality control  Schematic understanding  Critical thinking  Data management  Network Administration  Experience in leadership  Improvement plan knowledge  Supervision  Hardware repair  Computer configurations  System upgrades  New program installations  Organizational leadership  Troubleshooting and Maintenance  Equipment repair  Power and hand tool use  Troubleshooting and repairs  Preventative maintenance  Telecommunications systems  Component repairs  Multitasking  Part inspections  Friendly, positive attitude  LAN and WAN configurations      Server and System Administration  End-User Training  Program installations  Software testing  Server improvements  Data backups  Project management  Security technologies  Network configuration  Time management  Active Directory knowledge  Cybersecurity analysis  System Administration  Microsoft Office  MS Office  Apple iOS Technician  Help desk assistance  Application software testing  Mechanical abilities  Information Systems Security Professional  Advanced knowledge of Windows OS  Advanced knowledge of Google Chrome OS  Soldering  Database management  Technical knowledge of server system softwares  Servers, storage systems, network equipment, PCs or notebooks of any brands.            Experience      Information Technology Specialist(Discountpcfix)   |   11/2011   -   Current    Company Name    -    City  ,   State       Assisted client with new computer and network equipment purchases.  Updated or installed software for customers to ensure computer efficiency.  Checked in computers and performed diagnostics for repair.  Backed up data each evening, helping alleviate lost information following malware incident.  Updated software versions with patches and new installations to close security loopholes and protect users.  Identified hardware issues caused by component failures using approved diagnostic tools.  Installed over motherboards, processors and graphics cards.  Configured computers to network drivers and connected to printers and other peripheral equipment.  Upgraded laptops/desktops, improving speed and performance.  Fixed All Apple(iphone,imac,ipad,laptop) Products Screen damage.  Fixed any brand,Windows OS,Mac OS,Chrome OS products liquid damage.  Observed system functioning and entered commands to test different areas of operations.  Explained technology-related details in easy-to-understand terms to individuals from all walks of life and in various job positions.  Responded to assistance requests from users and directed individuals through basic troubleshooting tasks.  Reviewed current hardware and software configurations and recommended modifications to increase system speed.  Serviced and repaired equipment according to manufacturer guidelines.  Installed new systems and components according to service orders and manufacturer instructions.  Assessed and identified issues and quickly resolved to restore functionality.  Built and repaired computers according to schedule.  Installed, configured, and setup PCs in all stores for optimal operation and reporting.  Evaluated interfaces between hardware and software, testing performance requirements.  Studied complex technical issues and determined proper resolution methods.  Assisted with post-implementation troubleshooting of new applications and application upgrades.  Determined and alleviated hardware, software and network issues.  Installed and supported hardware and software, including desktops, servers and printers.  Identified operational and performance issues and worked with managers to resolve concerns.  Completed various reports and analyzed each report to decide where improvements could be made.  Recommended process and systems improvements such as changes to operations.  Updated hardware and software upon availability and supervised network to eliminate bottlenecks immediately.  Handled network configurations after hours and on weekends to alleviate downtime and maintain smooth operations.  Assisted customers with various types of technical issues via email, live chat and telephone.  Delivered local and remote Tier 1 IT support for hardware and software to company personnel.  Disassembled computer systems to troubleshoot and resolve hardware issues.  Increased overall company performance through improved IT uptime and cost reductions.         Quality Control Inspector Contractor   |   04/2019   -   Current    Company Name    -    City  ,   State       Conferred with scientific, engineering and technical personnel to resolve design, research and testing problems.  Worked with engineers to facilitate research and development testing, correct mechanical failures and generate technical specifications prior to release.  Developed and implemented best practices for defect prevention and continuous improvement.  Used specialized tools to take precise measurements of various aspects of samples.  Consulted with engineers to resolve quality, production and efficiency problems.  Wrote detailed reports outlining performance, quality and defect rates.  Completed non-destructive tests and visual inspections on a continuous basis.  Inspected quality of finished products, making minor repairs to meet project expectations.  Documented nonconformities immediately and recommended techniques for prompt resolution.  Completed non-destructive tests and visual inspections continuously.  Reviewed drawings and blueprints to determine appropriate level of inspection required.  Adhered to all safety protocols to minimize equipment damage and avoid injuries.  Assessed materials, parts and products for conformance with quality control requirements and production specifications.         Network Analyst   |   06/2016   -   05/2018    Company Name    -    City  ,   State       Identified operational and performance issues and worked with managers to resolve concerns.  Supporting of the following hardware types: servers, storage systems, network equipment, PCs ipad and notebooks of any brands.  Analyzed operational performance to identify pain points and provided actionable solutions to management.  Educated personnel on company policies to foster improved customer retention and increased revenue.  Technical knowledge of standard server system software (Linux, Windows, VMWare)  Drove revenue and customer retention by visiting corporate and franchise centers serving clients to educate staff on company policies and customer styling applications.  Wrote reports outlining results to facilitate management decision making.  Executed and monitored standards for user interfaces, page design and graphics development.  Provided senior technical support to both in-house staff and user departments for all network applications.  Monitored project budget through the careful assessment of resource usage and task management to ensure that costs were kept low.  Supported customers with password resets and account customization.  Recorded complaints, product deficiencies, returned orders and other customer documentation in system.  Supported customers having data connectivity issues, assisting with troubleshooting steps and rebooting of hardware.  Maintained composure and patience in face of difficult customer situations, applying de-escalation techniques and positive customer support.  Performed site evaluations, customer surveys and team audits.  Promoted continuous improvement for IT governance processes.  Spearheaded server infrastructure development, quality control, staging and production operations.         Quality Control Manager   |   07/2013   -   08/2015    Company Name    -    City  ,   State       Stayed well-informed of all company and federal regulations, which bolstered compliance of all corporate processes.  Used creative and professional policy to find solutions to issues while diminishing conflicts.  Handled all scheduling procedures for the department and directed team members in setting and achieving goals.  Observed customer specifications by monitoring the quality control of finished products.         Education and Training      The Federal Polytechnic, Ado-Ekiti    -    City  ,  State      |    Associate of Science    Science Technology  ,   2003          Phoenix East Aviation    -    City  ,  State      |    F.A.A  Aircraft Dispatcher License    Aviation  ,   2014          University Of Colorado At Boulder    -    City        |    Certificate    Cybersecurity Policy For Aviation And Internet   ,   07/2020          GOOGLE I.T SUPPORT    -    City        |    Certificate      03/2021     Completed professional Course in:   IT Security: Defense against the digital dark arts  Operating System and You: Becoming a power user  The Bits and Bytes of Computer Networking  System Administration and IT Infrastructure Service  Technical Support Fundamentals     \",\n          \"         BUSINESS DEVELOPMENT DIRECTOR       Summary     I collaborate with multiple stakeholders to determine audience needs, quickly developing strategic plans that align with my clients business priorities and strategies.       Experience      Business Development Director   05/1997   to   Current     Company Name   City  ,   State      Producing measurable results for my clients by designing unique engagement initiatives for employees, sales channel partners and consumers groups. Sales of performance improvement products, most being intangible services to Fortune 500 clients. Success at discovering and growing my business with customers who have the potential to spend more than $1 million with me each year.   I have designed innovative solutions, customized to each customers various objectives and end result needs.  Managing my internal teams to develop, design and operate complex custom projects ranging in value at least $150,000 to millions.  Titles called on include the entire C suite, CEO, COO, CFO, CMO, President, EVP's of Marketing, Sales, Human Resources & Finance.  Define business issues to improve revenue and penetrating existing accounts and opening new.  Sold 17 new accounts while in current position, managed sales volume and profit margin with long sales cycle.  Managed and hired staff of 4 to work with my major global account travel & meetings business over 8 years.  Total book of business constantly over $2.5 million each year.  Nearly twice the entertainment activity of other BDD's with similar tenure.  Achieved over $6 million in sales twice, becoming a trusted partner to my clients, customers want me to Win!          Account Territory & District Sales Manager / National Account Sales   08/1989   to   04/1997     Company Name   City  ,   State       Responsible for growth of distributor sales volume, product mix and motivation of DSR sales forces.  Developed my own custom local training and marketing materials, which were later adopted by the Nestle corporate.  Distributor and chain accounts accounted for over $11 million in sales.  Increased my chain accounts by over 75% while with national accounts.  Created sales forecasts, developed budgets, strategic plans and managed entire regional office staff. Working with my team we grew business at Nestle largest US account by nearly double.  Surpassed sales, budget goals every year as manager and twice led company nationally in new product introductions.  District sales grew from $16 million to over $22 million as district manager. Hired five salespeople and 4 direct reports were promoted, managed up to eight account managers at a time.  Developed new reports, marketing and promotional strategies for the field. Designed account reviews process, management and field training programs for the entire company.  Sold small business owners and managed distributor sales accounts, using strategic planning, innovative programming and by cultivating strong personal relationships. Took area territory sales from $500,000 to $2.9 million, with a mature company in an industry with an average annual increase of only 3-5%.          Financial Operations Executive and Department Merchandising Manager   04/1988   to   08/1989     Company Name   City  ,   State     Financial Operations Executive for the South Bend store. Volunteered to be merchandise manager for the stores largest department. While in this role the department had the highest per foot sales volume of any department in the entire corporation during the 4th quarter of 1988.        Accomplishments      4 times President Achievement Guild Award winner, award for sales volume and profit.  3 times President Achievement Award winner, award for sales volume and profit.  4 times Achievement Guild winner, for leadership in 3 year running combined volume.  Top travel and meetings sales several times since with BIW.  National sales contest \\\"the 1993 Superbowl\\\".  Twice awarded \\\"The Over Achiever of the Year\\\" by my most profitable direct customer.  Reviewed consistently by management throughout career as \\\"Outstanding or Exceeding Expectations\\\".  College: elected to executive positions with both Finance Club and Resident Housing Association.        Skills     Sales, Business Development, Distributor Sales, Territory Sales, District Sales, Sales of Solutions, Sales Teams, Sales Accounts, National Accounts, Sales Management, Strategic Accounts, Sales Promotions, Travel & Meeting Sales, Technology Application Sales, Clients Management, Marketing, Budget, Budgets, Forecasts, Promotional, Travel & Meeting Operations, Strategic Planning, Training, Training Development, Financial Operations, Merchandising, Corporate Operations, Employee Engagement, Managing Existing Accounts, Forecasting, Human Resources, Finding New Accounts, Relationship Building and Strategic Direction.       Education      Bachelor of Business Administration  :   Finance, General Business   1988       Western Michigan University   City  ,   State  ,   US      Earned over 85% of all educational/living costs. Jobs worked while in college, industrial heavy construction, excelled at several sales roles including at direct sales of home goods. While in direct sales I won a national trip and was ranked in the top 10 in the country in sales.  Started two successful on campus businesses. Member of the varsity division I football team for 4 years.         Organizations     IMEX, Milford Memories Planning Board, Huron Valley Youth Baseball President/Treasurer/Director of Travel Baseball, Lakeland Milford Travel Secretary and Milford High School baseball instructor.    \",\n          \"           ENGINEERING MANAGER         Professional Summary    Experienced product development Engineer and manager able to collaborate with cross functional team as well as customers and sales to bring brand new offerings to new markets. Skilled at managing cross functional team for continuous improvements and meeting project deadlines. Offering 6 years of experience in the field.      Skills          Microsoft Office  Microsoft Project  Product development  Quality  Research  Six Sigma Green Belt  Solid Works  Visio  Prioritization  Personnel management  Critical thinking skills  Team management  Analyst, Visio  Agency  Consulting  Cost analysis  Critical thinking  Designing  Dialysis  Direction      Develop drug  Functional  IIa  ISO  Leadership  Market and development  Microsoft Office  Microsoft Project  Personnel management  Design process  Product development  Product management  Quality  Researching  Research  Sales  Six Sigma  Solid Works  Team management  Validation            Work History      Engineering Manager  ,     03/2018   to   Current       City  ,   State      Create and maintain Technical Files per MDR requirements as well as attaining 510k on legacy products.  Assess testing gaps of legacy products and design creep.  Experienced in working with multiple departments.  Experienced in training and leading engineers in order to investigate field complaints, Gap analysis and building Technical files/DHF.  Experienced in leading team of engineers to lead all aspects of design process, including regulatory needs per market and development per design control.  Tasked to create test plan and analysis of existing Class I, II and III products and Testing per latest applicable requirements.  Trained team in conducting project related cost analysis, test gap analysis and researching ISO/EN ISO/ASTM requirements.  Leading companywide EU MDR product transfer and testing on Infusion products, Dialysis products and standalone products.  Provided technical direction on MDR and 510k related projects and initiatives to other engineers and technicians.         Project Engineer II  ,     03/2017   to   03/2018     Company Name   \\u2013   City  ,   State      Working with product management, Clinical Analyst, sales, and regulatory to determine optimal design inputs for new products.  Completed design transfer and attained 510k on Class IIb device in under year.  Lead cross functional team including consulting agency in order to Develop drug device combination product and research optimal process using DOE in order for mass production.  Leading all aspects of design control from designing on solid works to process validations and V&V Testing.  Analyzing and resolving field failures through investigation and testing.  Experienced in working with international regulatory teams in providing information for foreign registration.  Responsible for gap analysis and test planning in order to create and meet deadline for projects.  Experienced with reviewing and approving validation activities as well as provide support to staff to achieve project milestones.  Experienced working with cross functional teams to complete projects and tasks.         Engineer I  ,     06/2013   to   03/2017     Company Name   \\u2013   City  ,   State      Worked to bring Drug Device Combination product to mass production.  Completed new Class IIa product and completed project in 10 months.  Completing CAPAs and resolving field failures by research and testing.  Developed new testing methods and designed tooling for new testing.  Experienced in using Injection Molding Machine to Create and Test Prototypes.  Found cheaper and more responsible vendor for MRI related testing.         Education      Bachelor of Science  :   Mechanical Engineering  ,   05/2013     Temple University   -   City  ,   State           Certifications\\nManagement Leadership Certification and Six Sigma Greenbelt certification              Work History      Engineering Manager  ,   03/2018   to   Current       City  ,   State      Create and maintain Technical Files per MDR requirements as well as attaining 510k on legacy products.  Assess testing gaps of legacy products and design creep.  Experienced in working with multiple departments.  Experienced in training and leading engineers in order to investigate field complaints, Gap analysis and building Technical files/DHF.  Experienced in leading team of engineers to lead all aspects of design process, including regulatory needs per market and development per design control.  Tasked to create test plan and analysis of existing Class I, II and III products and Testing per latest applicable requirements.  Trained team in conducting project related cost analysis, test gap analysis and researching ISO/EN ISO/ASTM requirements.  Leading companywide EU MDR product transfer and testing on Infusion products, Dialysis products and standalone products.  Provided technical direction on MDR and 510k related projects and initiatives to other engineers and technicians.         Project Engineer II  ,   03/2017   to   03/2018     Company Name   \\u2013   City  ,   State      Working with product management, Clinical Analyst, sales, and regulatory to determine optimal design inputs for new products.  Completed design transfer and attained 510k on Class IIb device in under year.  Lead cross functional team including consulting agency in order to Develop drug device combination product and research optimal process using DOE in order for mass production.  Leading all aspects of design control from designing on solid works to process validations and V&V Testing.  Analyzing and resolving field failures through investigation and testing.  Experienced in working with international regulatory teams in providing information for foreign registration.  Responsible for gap analysis and test planning in order to create and meet deadline for projects.  Experienced with reviewing and approving validation activities as well as provide support to staff to achieve project milestones.  Experienced working with cross functional teams to complete projects and tasks.         Engineer I  ,   06/2013   to   03/2017     Company Name   \\u2013   City  ,   State      Worked to bring Drug Device Combination product to mass production.  Completed new Class IIa product and completed project in 10 months.  Completing CAPAs and resolving field failures by research and testing.  Developed new testing methods and designed tooling for new testing.  Experienced in using Injection Molding Machine to Create and Test Prototypes.  Found cheaper and more responsible vendor for MRI related testing.         Skills     Microsoft Office  Microsoft Project  Product development  Quality  Research  Six Sigma Green Belt  Solid Works  Visio  Prioritization  Personnel management  Critical thinking skills  Team management,  Analyst, agency, consulting, cost analysis, Critical thinking, Designing, Dialysis, direction, Develop drug, functional, IIa, ISO, Leadership, market and development, Microsoft Office, Microsoft Project, Personnel management, design process, Product development, product management, Quality, researching, Research, sales, Six Sigma, Solid Works, Team management, validation, Visio    \"\n        ],\n        \"semantic_type\": \"\",\n        \"description\": \"\"\n      }\n    },\n    {\n      \"column\": \"Resume_html\",\n      \"properties\": {\n        \"dtype\": \"string\",\n        \"num_unique_values\": 2482,\n        \"samples\": [\n          \"<div class=\\\"RNA skn-hdr3 fontsize fontface vmargins hmargins pagesize dynamicbg\\\" id=\\\"document\\\"> <div class=\\\"section nameSec firstsection\\\" id=\\\"SECTION_NAME5550d5fc-bc70-476b-a324-a96a5f8e4c39\\\"> <div class=\\\"paragraph PARAGRAPH_NAME firstparagraph\\\" id=\\\"PARAGRAPH_5550d5fc-bc70-476b-a324-a96a5f8e4c39_1_ac85099c-62cd-4861-9279-8510832b3240\\\"> <div class=\\\"name\\\" itemprop=\\\"name\\\"> <span class=\\\"field\\\" id=\\\"5550d5fc-bc70-476b-a324-a96a5f8e4c39FNAM1\\\"> </span> <span> </span> <span class=\\\"field\\\" id=\\\"5550d5fc-bc70-476b-a324-a96a5f8e4c39LNAM1\\\"> INFORMATION TECHNOLOGY SPECIALIST(DISCOUNTPCFIX)</span> </div> </div> </div> <div class=\\\"section\\\" id=\\\"SECTION_SUMM8fa0a5f9-217d-41cc-b98a-09b71ea76797\\\"> <div class=\\\"heading\\\"> <div class=\\\"sectiontitle\\\" id=\\\"SECTNAME_SUMM8fa0a5f9-217d-41cc-b98a-09b71ea76797\\\"> Summary</div> </div> <div class=\\\"paragraph firstparagraph\\\" id=\\\"PARAGRAPH_8fa0a5f9-217d-41cc-b98a-09b71ea76797_1_b1625863-b3c3-4df6-a204-60ccb0054f3f\\\"> <div class=\\\"field singlecolumn\\\" id=\\\"8fa0a5f9-217d-41cc-b98a-09b71ea76797FRFM1\\\"> <p> I am obsessed with technology. It's power to change everything. Technology fuels my passion and commitment to helping organizations do what they set out to. When I engage, I bring fresh ideas that help your team galvanize performance. Refine your strategy. Spark new energy.<br/> \\nThe future\\u2014and how we get there\\u2014depends on those who build, connect, create and transform our world.</p> <p> Accomplished with over 10 years of information technology support experience.</p> <p> Highly articulate Capable experienced installing and updating hardware and software systems for users. Known for effectively optimizing systems to meet changing demands, enhancing collaboration and improving security.</p> <p> Experienced Operations Analyst with first-rate skills in organizing, problem solving and project management. Ready to apply experience and abilities to take on new professional challenges.</p> <p> Passionate and driven professional with remarkable analytical and problem solving skills.</p> <p> Expert quality assurance tester offering five years of experience in detailed technical and system specifications.</p> <p> Provides a collaborative style and has well-developed communication skills. Seeking a role in test reporting and defect resolution.</p> <p> Well-rounded team player with dynamic written and verbal communication skills.</p> <p> Hardworking and resourceful team player.</p> <p> History of going above and beyond to achieve notable results.</p> <p> Offering excellent blend of technical aptitude and creative ability. Inspires design teams with engaging management techniques and innovative thinking. Resourceful Technical Support Engineer polished in restoring system functionality by quickly assessing and resolving diverse hardware and software problems.</p> </div> </div> </div> <div class=\\\"section\\\" id=\\\"SECTION_HILT5097c9f6-be4d-4c96-87af-1703d29f3ed4\\\"> <div class=\\\"heading\\\"> <div class=\\\"sectiontitle\\\" id=\\\"SECTNAME_HILT5097c9f6-be4d-4c96-87af-1703d29f3ed4\\\"> Skills</div> </div> <div class=\\\"paragraph firstparagraph\\\" id=\\\"PARAGRAPH_5097c9f6-be4d-4c96-87af-1703d29f3ed4_1_9fc9ac29-6c45-ccc1-e402-f68d67a6ce51\\\"> <div class=\\\"singlecolumn maincolumn\\\"> <table class=\\\"twocol\\\"> <tbody> <tr> <td class=\\\"field twocol_1\\\" id=\\\"5097c9f6-be4d-4c96-87af-1703d29f3ed4SKC10\\\"> <ul> <li> Issue escalation</li> <li> Reporting and analysis</li> <li> Quality control</li> <li> Schematic understanding</li> <li> Critical thinking</li> <li> Data management</li> <li> Network Administration</li> <li> Experience in leadership</li> <li> Improvement plan knowledge</li> <li> Supervision</li> <li> Hardware repair</li> <li> Computer configurations</li> <li> System upgrades</li> <li> New program installations</li> <li> Organizational leadership</li> <li> Troubleshooting and Maintenance</li> <li> Equipment repair</li> <li> Power and hand tool use</li> <li> Troubleshooting and repairs</li> <li> Preventative maintenance</li> <li> Telecommunications systems</li> <li> Component repairs</li> <li> Multitasking</li> <li> Part inspections</li> <li> Friendly, positive attitude</li> <li> LAN and WAN configurations</li> </ul> </td> <td class=\\\"field twocol_2\\\" id=\\\"5097c9f6-be4d-4c96-87af-1703d29f3ed4SKC20\\\"> <ul> <li> Server and System Administration</li> <li> End-User Training</li> <li> Program installations</li> <li> Software testing</li> <li> Server improvements</li> <li> Data backups</li> <li> Project management</li> <li> Security technologies</li> <li> Network configuration</li> <li> Time management</li> <li> Active Directory knowledge</li> <li> Cybersecurity analysis</li> <li> System Administration</li> <li> Microsoft Office</li> <li> MS Office</li> <li> Apple iOS Technician</li> <li> Help desk assistance</li> <li> Application software testing</li> <li> Mechanical abilities</li> <li> Information Systems Security Professional</li> <li> Advanced knowledge of Windows OS</li> <li> Advanced knowledge of Google Chrome OS</li> <li> Soldering</li> <li> Database management</li> <li> Technical knowledge of server system softwares</li> <li> Servers, storage systems, network equipment, PCs or notebooks of any brands.</li> </ul> </td> </tr> </tbody> </table> </div> </div> </div> <div class=\\\"section\\\" id=\\\"SECTION_EXPRc16bd516-88f5-4d05-a0b1-689c93d7a610\\\"> <div class=\\\"heading\\\"> <div class=\\\"sectiontitle\\\" id=\\\"SECTNAME_EXPRc16bd516-88f5-4d05-a0b1-689c93d7a610\\\"> Experience</div> </div> <div class=\\\"paragraph firstparagraph\\\" id=\\\"PARAGRAPH_c16bd516-88f5-4d05-a0b1-689c93d7a610_1_c1bf6f2f-bff5-4a86-ae5b-879a7f9c292a\\\" itemscope=\\\"\\\" itemtype=\\\"https://schema.org/Organization\\\"> <div class=\\\"singlecolumn\\\"> <span class=\\\"paddedline\\\"> <span class=\\\"jobtitle\\\" id=\\\"c16bd516-88f5-4d05-a0b1-689c93d7a610JTIT1\\\"> Information Technology Specialist(Discountpcfix)</span> <span>  | </span> <span class=\\\"jobdates\\\" format=\\\"%m/%Y\\\" id=\\\"c16bd516-88f5-4d05-a0b1-689c93d7a610JSTD1\\\"> 11/2011</span> <span>  - </span> <span class=\\\"jobdates\\\" format=\\\"%m/%Y\\\" id=\\\"c16bd516-88f5-4d05-a0b1-689c93d7a610EDDT1\\\"> Current</span> </span> <span class=\\\"paddedline txt-bold\\\" itemscope=\\\"\\\" itemtype=\\\"https://schema.org/postalAddress\\\"> <span class=\\\"companyname\\\" id=\\\"c16bd516-88f5-4d05-a0b1-689c93d7a610COMP1\\\" itemprop=\\\"name\\\"> Company Name</span> <span> <span>  - </span> </span> <span class=\\\"joblocation jobcity\\\" id=\\\"c16bd516-88f5-4d05-a0b1-689c93d7a610JCIT1\\\" itemprop=\\\"addressLocality\\\"> City</span> <span> , </span> <span class=\\\"joblocation jobstate\\\" id=\\\"c16bd516-88f5-4d05-a0b1-689c93d7a610JSTA1\\\" itemprop=\\\"addressRegion\\\"> State</span> <span class=\\\"joblocation jobcountry\\\" id=\\\"c16bd516-88f5-4d05-a0b1-689c93d7a610JCNT1\\\"> </span> </span> <span class=\\\"jobline\\\" id=\\\"c16bd516-88f5-4d05-a0b1-689c93d7a610JDES1\\\" itemprop=\\\"description\\\"> <ul> <li> Assisted client with new computer and network equipment purchases.</li> <li> Updated or installed software for customers to ensure computer efficiency.</li> <li> Checked in computers and performed diagnostics for repair.</li> <li> Backed up data each evening, helping alleviate lost information following malware incident.</li> <li> Updated software versions with patches and new installations to close security loopholes and protect users.</li> <li> Identified hardware issues caused by component failures using approved diagnostic tools.</li> <li> Installed over motherboards, processors and graphics cards.</li> <li> Configured computers to network drivers and connected to printers and other peripheral equipment.</li> <li> Upgraded laptops/desktops, improving speed and performance.</li> <li> Fixed All Apple(iphone,imac,ipad,laptop) Products Screen damage.</li> <li> Fixed any brand,Windows OS,Mac OS,Chrome OS products liquid damage.</li> <li> Observed system functioning and entered commands to test different areas of operations.</li> <li> Explained technology-related details in easy-to-understand terms to individuals from all walks of life and in various job positions.</li> <li> Responded to assistance requests from users and directed individuals through basic troubleshooting tasks.</li> <li> Reviewed current hardware and software configurations and recommended modifications to increase system speed.</li> <li> Serviced and repaired equipment according to manufacturer guidelines.</li> <li> Installed new systems and components according to service orders and manufacturer instructions.</li> <li> Assessed and identified issues and quickly resolved to restore functionality.</li> <li> Built and repaired computers according to schedule.</li> <li> Installed, configured, and setup PCs in all stores for optimal operation and reporting.</li> <li> Evaluated interfaces between hardware and software, testing performance requirements.</li> <li> Studied complex technical issues and determined proper resolution methods.</li> <li> Assisted with post-implementation troubleshooting of new applications and application upgrades.</li> <li> Determined and alleviated hardware, software and network issues.</li> <li> Installed and supported hardware and software, including desktops, servers and printers.</li> <li> Identified operational and performance issues and worked with managers to resolve concerns.</li> <li> Completed various reports and analyzed each report to decide where improvements could be made.</li> <li> Recommended process and systems improvements such as changes to operations.</li> <li> Updated hardware and software upon availability and supervised network to eliminate bottlenecks immediately.</li> <li> Handled network configurations after hours and on weekends to alleviate downtime and maintain smooth operations.</li> <li> Assisted customers with various types of technical issues via email, live chat and telephone.</li> <li> Delivered local and remote Tier 1 IT support for hardware and software to company personnel.</li> <li> Disassembled computer systems to troubleshoot and resolve hardware issues.</li> <li> Increased overall company performance through improved IT uptime and cost reductions.</li> </ul> </span> </div> </div> <div class=\\\"paragraph\\\" id=\\\"PARAGRAPH_c16bd516-88f5-4d05-a0b1-689c93d7a610_2_50ce6831-7e0f-447d-a3fc-61036d2a57d9\\\" itemscope=\\\"\\\" itemtype=\\\"https://schema.org/Organization\\\"> <div class=\\\"singlecolumn\\\"> <span class=\\\"paddedline\\\"> <span class=\\\"jobtitle\\\" id=\\\"c16bd516-88f5-4d05-a0b1-689c93d7a610JTIT2\\\"> Quality Control Inspector Contractor</span> <span>  | </span> <span class=\\\"jobdates\\\" format=\\\"%m/%Y\\\" id=\\\"c16bd516-88f5-4d05-a0b1-689c93d7a610JSTD2\\\"> 04/2019</span> <span>  - </span> <span class=\\\"jobdates\\\" format=\\\"%m/%Y\\\" id=\\\"c16bd516-88f5-4d05-a0b1-689c93d7a610EDDT2\\\"> Current</span> </span> <span class=\\\"paddedline txt-bold\\\" itemscope=\\\"\\\" itemtype=\\\"https://schema.org/postalAddress\\\"> <span class=\\\"companyname\\\" id=\\\"c16bd516-88f5-4d05-a0b1-689c93d7a610COMP2\\\" itemprop=\\\"name\\\"> Company Name</span> <span> <span>  - </span> </span> <span class=\\\"joblocation jobcity\\\" id=\\\"c16bd516-88f5-4d05-a0b1-689c93d7a610JCIT2\\\" itemprop=\\\"addressLocality\\\"> City</span> <span> , </span> <span class=\\\"joblocation jobstate\\\" id=\\\"c16bd516-88f5-4d05-a0b1-689c93d7a610JSTA2\\\" itemprop=\\\"addressRegion\\\"> State</span> <span class=\\\"joblocation jobcountry\\\" id=\\\"c16bd516-88f5-4d05-a0b1-689c93d7a610JCNT2\\\"> </span> </span> <span class=\\\"jobline\\\" id=\\\"c16bd516-88f5-4d05-a0b1-689c93d7a610JDES2\\\" itemprop=\\\"description\\\"> <ul> <li> Conferred with scientific, engineering and technical personnel to resolve design, research and testing problems.</li> <li> Worked with engineers to facilitate research and development testing, correct mechanical failures and generate technical specifications prior to release.</li> <li> Developed and implemented best practices for defect prevention and continuous improvement.</li> <li> Used specialized tools to take precise measurements of various aspects of samples.</li> <li> Consulted with engineers to resolve quality, production and efficiency problems.</li> <li> Wrote detailed reports outlining performance, quality and defect rates.</li> <li> Completed non-destructive tests and visual inspections on a continuous basis.</li> <li> Inspected quality of finished products, making minor repairs to meet project expectations.</li> <li> Documented nonconformities immediately and recommended techniques for prompt resolution.</li> <li> Completed non-destructive tests and visual inspections continuously.</li> <li> Reviewed drawings and blueprints to determine appropriate level of inspection required.</li> <li> Adhered to all safety protocols to minimize equipment damage and avoid injuries.</li> <li> Assessed materials, parts and products for conformance with quality control requirements and production specifications.</li> </ul> </span> </div> </div> <div class=\\\"paragraph\\\" id=\\\"PARAGRAPH_c16bd516-88f5-4d05-a0b1-689c93d7a610_3_f9296837-feb0-4c87-abc1-66dabd9087ac\\\" itemscope=\\\"\\\" itemtype=\\\"https://schema.org/Organization\\\"> <div class=\\\"singlecolumn\\\"> <span class=\\\"paddedline\\\"> <span class=\\\"jobtitle\\\" id=\\\"c16bd516-88f5-4d05-a0b1-689c93d7a610JTIT3\\\"> Network Analyst</span> <span>  | </span> <span class=\\\"jobdates\\\" format=\\\"%m/%Y\\\" id=\\\"c16bd516-88f5-4d05-a0b1-689c93d7a610JSTD3\\\"> 06/2016</span> <span>  - </span> <span class=\\\"jobdates\\\" format=\\\"%m/%Y\\\" id=\\\"c16bd516-88f5-4d05-a0b1-689c93d7a610EDDT3\\\"> 05/2018</span> </span> <span class=\\\"paddedline txt-bold\\\" itemscope=\\\"\\\" itemtype=\\\"https://schema.org/postalAddress\\\"> <span class=\\\"companyname\\\" id=\\\"c16bd516-88f5-4d05-a0b1-689c93d7a610COMP3\\\" itemprop=\\\"name\\\"> Company Name</span> <span> <span>  - </span> </span> <span class=\\\"joblocation jobcity\\\" id=\\\"c16bd516-88f5-4d05-a0b1-689c93d7a610JCIT3\\\" itemprop=\\\"addressLocality\\\"> City</span> <span> , </span> <span class=\\\"joblocation jobstate\\\" id=\\\"c16bd516-88f5-4d05-a0b1-689c93d7a610JSTA3\\\" itemprop=\\\"addressRegion\\\"> State</span> <span class=\\\"joblocation jobcountry\\\" id=\\\"c16bd516-88f5-4d05-a0b1-689c93d7a610JCNT3\\\"> </span> </span> <span class=\\\"jobline\\\" id=\\\"c16bd516-88f5-4d05-a0b1-689c93d7a610JDES3\\\" itemprop=\\\"description\\\"> <ul> <li> Identified operational and performance issues and worked with managers to resolve concerns.</li> <li> Supporting of the following hardware types: servers, storage systems, network equipment, PCs ipad and notebooks of any brands.</li> <li> Analyzed operational performance to identify pain points and provided actionable solutions to management.</li> <li> Educated personnel on company policies to foster improved customer retention and increased revenue.</li> <li> Technical knowledge of standard server system software (Linux, Windows, VMWare)</li> <li> Drove revenue and customer retention by visiting corporate and franchise centers serving clients to educate staff on company policies and customer styling applications.</li> <li> Wrote reports outlining results to facilitate management decision making.</li> <li> Executed and monitored standards for user interfaces, page design and graphics development.</li> <li> Provided senior technical support to both in-house staff and user departments for all network applications.</li> <li> Monitored project budget through the careful assessment of resource usage and task management to ensure that costs were kept low.</li> <li> Supported customers with password resets and account customization.</li> <li> Recorded complaints, product deficiencies, returned orders and other customer documentation in system.</li> <li> Supported customers having data connectivity issues, assisting with troubleshooting steps and rebooting of hardware.</li> <li> Maintained composure and patience in face of difficult customer situations, applying de-escalation techniques and positive customer support.</li> <li> Performed site evaluations, customer surveys and team audits.</li> <li> Promoted continuous improvement for IT governance processes.</li> <li> Spearheaded server infrastructure development, quality control, staging and production operations.</li> </ul> </span> </div> </div> <div class=\\\"paragraph\\\" id=\\\"PARAGRAPH_c16bd516-88f5-4d05-a0b1-689c93d7a610_4_8635d1c3-f58e-4d33-a87b-ad847a7c7337\\\" itemscope=\\\"\\\" itemtype=\\\"https://schema.org/Organization\\\"> <div class=\\\"singlecolumn\\\"> <span class=\\\"paddedline\\\"> <span class=\\\"jobtitle\\\" id=\\\"c16bd516-88f5-4d05-a0b1-689c93d7a610JTIT4\\\"> Quality Control Manager</span> <span>  | </span> <span class=\\\"jobdates\\\" format=\\\"%m/%Y\\\" id=\\\"c16bd516-88f5-4d05-a0b1-689c93d7a610JSTD4\\\"> 07/2013</span> <span>  - </span> <span class=\\\"jobdates\\\" format=\\\"%m/%Y\\\" id=\\\"c16bd516-88f5-4d05-a0b1-689c93d7a610EDDT4\\\"> 08/2015</span> </span> <span class=\\\"paddedline txt-bold\\\" itemscope=\\\"\\\" itemtype=\\\"https://schema.org/postalAddress\\\"> <span class=\\\"companyname\\\" id=\\\"c16bd516-88f5-4d05-a0b1-689c93d7a610COMP4\\\" itemprop=\\\"name\\\"> Company Name</span> <span> <span>  - </span> </span> <span class=\\\"joblocation jobcity\\\" id=\\\"c16bd516-88f5-4d05-a0b1-689c93d7a610JCIT4\\\" itemprop=\\\"addressLocality\\\"> City</span> <span> , </span> <span class=\\\"joblocation jobstate\\\" id=\\\"c16bd516-88f5-4d05-a0b1-689c93d7a610JSTA4\\\" itemprop=\\\"addressRegion\\\"> State</span> <span class=\\\"joblocation jobcountry\\\" id=\\\"c16bd516-88f5-4d05-a0b1-689c93d7a610JCNT4\\\"> </span> </span> <span class=\\\"jobline\\\" id=\\\"c16bd516-88f5-4d05-a0b1-689c93d7a610JDES4\\\" itemprop=\\\"description\\\"> <ul> <li> Stayed well-informed of all company and federal regulations, which bolstered compliance of all corporate processes.</li> <li> Used creative and professional policy to find solutions to issues while diminishing conflicts.</li> <li> Handled all scheduling procedures for the department and directed team members in setting and achieving goals.</li> <li> Observed customer specifications by monitoring the quality control of finished products.</li> </ul> </span> </div> </div> </div> <div class=\\\"section\\\" id=\\\"SECTION_EDUC95e45d01-3d53-473f-b805-14cee808ebae\\\"> <div class=\\\"heading\\\"> <div class=\\\"sectiontitle\\\" id=\\\"SECTNAME_EDUC95e45d01-3d53-473f-b805-14cee808ebae\\\"> Education and Training</div> </div> <div class=\\\"paragraph firstparagraph\\\" id=\\\"PARAGRAPH_95e45d01-3d53-473f-b805-14cee808ebae_1_35f5f03a-98c1-408c-8fe8-23fc8e31363b\\\" itemscope=\\\"\\\" itemtype=\\\"https://schema.org/EducationalOrganization\\\"> <div class=\\\"singlecolumn\\\"> <span class=\\\"paddedline txt-bold\\\" itemprop=\\\"description\\\"> <span class=\\\"companyname companyname_educ\\\" id=\\\"95e45d01-3d53-473f-b805-14cee808ebaeSCHO1\\\" itemprop=\\\"name\\\"> The Federal Polytechnic, Ado-Ekiti</span> <span> <span>  - </span> </span> <span class=\\\"joblocation jobcity\\\" id=\\\"95e45d01-3d53-473f-b805-14cee808ebaeSCIT1\\\"> City</span> <span> ,</span> <span class=\\\"joblocation jobstate\\\" id=\\\"95e45d01-3d53-473f-b805-14cee808ebaeSSTA1\\\"> State</span> <span class=\\\"joblocation jobcountry\\\" id=\\\"95e45d01-3d53-473f-b805-14cee808ebaeSCNT1\\\"> </span> <span> <span>  | </span> </span> <span class=\\\"degree\\\" id=\\\"95e45d01-3d53-473f-b805-14cee808ebaeDGRE1\\\" itemprop=\\\"name\\\"> Associate of Science</span> </span> <span class=\\\"paddedline\\\"> <span class=\\\"programline\\\" id=\\\"95e45d01-3d53-473f-b805-14cee808ebaeSTUY1\\\"> Science Technology</span> <span> , </span> <span format=\\\"%m/%Y\\\" id=\\\"95e45d01-3d53-473f-b805-14cee808ebaeGRYR1\\\"> 2003</span> </span> <span class=\\\"field\\\" id=\\\"95e45d01-3d53-473f-b805-14cee808ebaeFRFM1\\\"> </span> </div> </div> <div class=\\\"paragraph\\\" id=\\\"PARAGRAPH_95e45d01-3d53-473f-b805-14cee808ebae_2_a2729674-384f-4d1c-958a-35b2563e76c4\\\" itemscope=\\\"\\\" itemtype=\\\"https://schema.org/EducationalOrganization\\\"> <div class=\\\"singlecolumn\\\"> <span class=\\\"paddedline txt-bold\\\" itemprop=\\\"description\\\"> <span class=\\\"companyname companyname_educ\\\" id=\\\"95e45d01-3d53-473f-b805-14cee808ebaeSCHO2\\\" itemprop=\\\"name\\\"> Phoenix East Aviation</span> <span> <span>  - </span> </span> <span class=\\\"joblocation jobcity\\\" id=\\\"95e45d01-3d53-473f-b805-14cee808ebaeSCIT2\\\"> City</span> <span> ,</span> <span class=\\\"joblocation jobstate\\\" id=\\\"95e45d01-3d53-473f-b805-14cee808ebaeSSTA2\\\"> State</span> <span class=\\\"joblocation jobcountry\\\" id=\\\"95e45d01-3d53-473f-b805-14cee808ebaeSCNT2\\\"> </span> <span> <span>  | </span> </span> <span class=\\\"degree\\\" id=\\\"95e45d01-3d53-473f-b805-14cee808ebaeDGRE2\\\" itemprop=\\\"name\\\"> F.A.A  Aircraft Dispatcher License</span> </span> <span class=\\\"paddedline\\\"> <span class=\\\"programline\\\" id=\\\"95e45d01-3d53-473f-b805-14cee808ebaeSTUY2\\\"> Aviation</span> <span> , </span> <span format=\\\"%m/%Y\\\" id=\\\"95e45d01-3d53-473f-b805-14cee808ebaeGRYR2\\\"> 2014</span> </span> <span class=\\\"field\\\" id=\\\"95e45d01-3d53-473f-b805-14cee808ebaeFRFM2\\\"> </span> </div> </div> <div class=\\\"paragraph\\\" id=\\\"PARAGRAPH_95e45d01-3d53-473f-b805-14cee808ebae_3_aadb2d22-49ea-47b0-8fe0-86d66a1003c0\\\" itemscope=\\\"\\\" itemtype=\\\"https://schema.org/EducationalOrganization\\\"> <div class=\\\"singlecolumn\\\"> <span class=\\\"paddedline txt-bold\\\" itemprop=\\\"description\\\"> <span class=\\\"companyname companyname_educ\\\" id=\\\"95e45d01-3d53-473f-b805-14cee808ebaeSCHO3\\\" itemprop=\\\"name\\\"> University Of Colorado At Boulder</span> <span> <span>  - </span> </span> <span class=\\\"joblocation jobcity\\\" id=\\\"95e45d01-3d53-473f-b805-14cee808ebaeSCIT3\\\"> City</span> <span class=\\\"joblocation jobstate\\\" id=\\\"95e45d01-3d53-473f-b805-14cee808ebaeSSTA3\\\"> </span> <span class=\\\"joblocation jobcountry\\\" id=\\\"95e45d01-3d53-473f-b805-14cee808ebaeSCNT3\\\"> </span> <span> <span>  | </span> </span> <span class=\\\"degree\\\" id=\\\"95e45d01-3d53-473f-b805-14cee808ebaeDGRE3\\\" itemprop=\\\"name\\\"> Certificate</span> </span> <span class=\\\"paddedline\\\"> <span class=\\\"programline\\\" id=\\\"95e45d01-3d53-473f-b805-14cee808ebaeSTUY3\\\"> Cybersecurity Policy For Aviation And Internet </span> <span> , </span> <span format=\\\"%m/%Y\\\" id=\\\"95e45d01-3d53-473f-b805-14cee808ebaeGRYR3\\\"> 07/2020</span> </span> <span class=\\\"field\\\" id=\\\"95e45d01-3d53-473f-b805-14cee808ebaeFRFM3\\\"> </span> </div> </div> <div class=\\\"paragraph\\\" id=\\\"PARAGRAPH_95e45d01-3d53-473f-b805-14cee808ebae_4_928da07f-2964-852f-d35b-2700b04793b3\\\" itemscope=\\\"\\\" itemtype=\\\"https://schema.org/EducationalOrganization\\\"> <div class=\\\"singlecolumn\\\"> <span class=\\\"paddedline txt-bold\\\" itemprop=\\\"description\\\"> <span class=\\\"companyname companyname_educ\\\" id=\\\"95e45d01-3d53-473f-b805-14cee808ebaeSCHO4\\\" itemprop=\\\"name\\\"> GOOGLE I.T SUPPORT</span> <span> <span>  - </span> </span> <span class=\\\"joblocation jobcity\\\" id=\\\"95e45d01-3d53-473f-b805-14cee808ebaeSCIT4\\\"> City</span> <span class=\\\"joblocation jobstate\\\" id=\\\"95e45d01-3d53-473f-b805-14cee808ebaeSSTA4\\\"> </span> <span class=\\\"joblocation jobcountry\\\" id=\\\"95e45d01-3d53-473f-b805-14cee808ebaeSCNT4\\\"> </span> <span> <span>  | </span> </span> <span class=\\\"degree\\\" id=\\\"95e45d01-3d53-473f-b805-14cee808ebaeDGRE4\\\" itemprop=\\\"name\\\"> Certificate</span> </span> <span class=\\\"paddedline\\\"> <span class=\\\"programline\\\" id=\\\"95e45d01-3d53-473f-b805-14cee808ebaeSTUY4\\\"> </span> <span format=\\\"%m/%Y\\\" id=\\\"95e45d01-3d53-473f-b805-14cee808ebaeGRYR4\\\"> 03/2021</span> </span> <span class=\\\"field\\\" id=\\\"95e45d01-3d53-473f-b805-14cee808ebaeFRFM4\\\"> <p> <strong> Completed professional Course in:</strong> </p> <p> IT Security: Defense against the digital dark arts</p> <p> Operating System and You: Becoming a power user</p> <p> The Bits and Bytes of Computer Networking</p> <p> System Administration and IT Infrastructure Service</p> <p> Technical Support Fundamentals</p> </span> </div> </div> </div> </div>\",\n          \"<div class=\\\"fontsize fontface vmargins hmargins linespacing pagesize\\\" id=\\\"document\\\"> <div class=\\\"section firstsection\\\" id=\\\"SECTION_NAME588215279\\\" style=\\\"\\n      padding-top:0px;\\n    \\\"> <div class=\\\"paragraph PARAGRAPH_NAME firstparagraph\\\" id=\\\"PARAGRAPH_588215279_1_382804811\\\" style=\\\"\\n      padding-top:0px;\\n    \\\"> <div class=\\\"name\\\" itemprop=\\\"name\\\"> <span class=\\\"field\\\" id=\\\"588215279FNAM1\\\"> </span> <span> </span> <span class=\\\"field lName\\\" id=\\\"588215279LNAM1\\\"> BUSINESS DEVELOPMENT DIRECTOR</span> </div> </div> </div> <div class=\\\"section\\\" id=\\\"SECTION_SUMM588215281\\\" style=\\\"\\n      padding-top:0px;\\n    \\\"> <div class=\\\"heading\\\"> <div class=\\\"sectiontitle\\\" id=\\\"SECTNAME_SUMM588215281\\\"> Summary</div> </div> <div class=\\\"paragraph firstparagraph\\\" id=\\\"PARAGRAPH_588215281_1_382804813\\\" style=\\\"\\n      padding-top:0px;\\n    \\\"> <div class=\\\"field singlecolumn\\\" id=\\\"588215281FRFM1\\\"> <p align=\\\"LEFT\\\"> I collaborate with multiple stakeholders to determine audience needs, quickly developing strategic plans that align with my clients business priorities and strategies.</p> </div> </div> </div> <div class=\\\"section\\\" id=\\\"SECTION_EXPR588215283\\\" style=\\\"\\n      padding-top:0px;\\n    \\\"> <div class=\\\"heading\\\"> <div class=\\\"sectiontitle\\\" id=\\\"SECTNAME_EXPR588215283\\\"> Experience</div> </div> <div class=\\\"paragraph firstparagraph\\\" id=\\\"PARAGRAPH_588215283_1_382804816\\\" itemscope=\\\"\\\" itemtype=\\\"https://schema.org/Organization\\\" style=\\\"\\n      padding-top:0px;\\n    \\\"> <div class=\\\"singlecolumn\\\"> <span class=\\\"paddedline\\\"> <span class=\\\"jobtitle\\\" id=\\\"588215283JTIT1\\\"> Business Development Director</span> <span class=\\\"datesWrapper\\\"> <span class=\\\"jobdates\\\" format=\\\"%m/%Y\\\" id=\\\"588215283JSTD1\\\"> 05/1997</span> <span class=\\\"jobdates\\\">  to </span> <span class=\\\"jobdates\\\" format=\\\"%m/%Y\\\" id=\\\"588215283EDDT1\\\"> Current</span> </span> </span> <span class=\\\"paddedline\\\" itemscope=\\\"\\\" itemtype=\\\"https://schema.org/postalAddress\\\"> <span class=\\\"companyname\\\" id=\\\"588215283COMP1\\\" itemprop=\\\"name\\\"> Company Name</span> <span class=\\\"datesWrapper\\\"> <span class=\\\"joblocation jobcity\\\" id=\\\"588215283JCIT1\\\" itemprop=\\\"addressLocality\\\"> City</span> <span class=\\\"joblocation\\\"> , </span> <span class=\\\"joblocation jobstate\\\" id=\\\"588215283JSTA1\\\" itemprop=\\\"addressRegion\\\"> State</span> </span> </span> <span class=\\\"paddedline\\\"> <span class=\\\"jobline\\\" id=\\\"588215283JDES1\\\" itemprop=\\\"description\\\"> <p align=\\\"LEFT\\\"> Producing measurable results for my clients by designing unique engagement initiatives for employees, sales channel partners and consumers groups. Sales of performance improvement products, most being intangible services to Fortune 500 clients. Success at discovering and growing my business with customers who have the potential to spend more than $1 million with me each year.</p> <ul> <li> I have designed innovative solutions, customized to each customers various objectives and end result needs.</li> <li> Managing my internal teams to develop, design and operate complex custom projects ranging in value at least $150,000 to millions.</li> <li> Titles called on include the entire C suite, CEO, COO, CFO, CMO, President, EVP's of Marketing, Sales, Human Resources &amp; Finance.</li> <li> Define business issues to improve revenue and penetrating existing accounts and opening new.</li> <li> Sold 17 new accounts while in current position, managed sales volume and profit margin with long sales cycle.</li> <li> Managed and hired staff of 4 to work with my major global account travel &amp; meetings business over 8 years.</li> <li> Total book of business constantly over $2.5 million each year.</li> <li> Nearly twice the entertainment activity of other BDD's with similar tenure.</li> <li> Achieved over $6 million in sales twice, becoming a trusted partner to my clients, customers want me to Win!</li> </ul> </span> </span> </div> </div> <div class=\\\"paragraph\\\" id=\\\"PARAGRAPH_588215283_2_382804817\\\" itemscope=\\\"\\\" itemtype=\\\"https://schema.org/Organization\\\" style=\\\"\\n      padding-top:0px;\\n    \\\"> <div class=\\\"singlecolumn\\\"> <span class=\\\"paddedline\\\"> <span class=\\\"jobtitle\\\" id=\\\"588215283JTIT2\\\"> Account Territory &amp; District Sales Manager / National Account Sales</span> <span class=\\\"datesWrapper\\\"> <span class=\\\"jobdates\\\" format=\\\"%m/%Y\\\" id=\\\"588215283JSTD2\\\"> 08/1989</span> <span class=\\\"jobdates\\\">  to </span> <span class=\\\"jobdates\\\" format=\\\"%m/%Y\\\" id=\\\"588215283EDDT2\\\"> 04/1997</span> </span> </span> <span class=\\\"paddedline\\\" itemscope=\\\"\\\" itemtype=\\\"https://schema.org/postalAddress\\\"> <span class=\\\"companyname\\\" id=\\\"588215283COMP2\\\" itemprop=\\\"name\\\"> Company Name</span> <span class=\\\"datesWrapper\\\"> <span class=\\\"joblocation jobcity\\\" id=\\\"588215283JCIT2\\\" itemprop=\\\"addressLocality\\\"> City</span> <span class=\\\"joblocation\\\"> , </span> <span class=\\\"joblocation jobstate\\\" id=\\\"588215283JSTA2\\\" itemprop=\\\"addressRegion\\\"> State</span> </span> </span> <span class=\\\"paddedline\\\"> <span class=\\\"jobline\\\" id=\\\"588215283JDES2\\\" itemprop=\\\"description\\\"> <ul> <li> Responsible for growth of distributor sales volume, product mix and motivation of DSR sales forces.</li> <li> Developed my own custom local training and marketing materials, which were later adopted by the Nestle corporate.</li> <li> Distributor and chain accounts accounted for over $11 million in sales.</li> <li> Increased my chain accounts by over 75% while with national accounts.</li> <li> Created sales forecasts, developed budgets, strategic plans and managed entire regional office staff. Working with my team we grew business at Nestle largest US account by nearly double.</li> <li> Surpassed sales, budget goals every year as manager and twice led company nationally in new product introductions.</li> <li> District sales grew from $16 million to over $22 million as district manager. Hired five salespeople and 4 direct reports were promoted, managed up to eight account managers at a time.</li> <li> Developed new reports, marketing and promotional strategies for the field. Designed account reviews process, management and field training programs for the entire company.</li> <li> Sold small business owners and managed distributor sales accounts, using strategic planning, innovative programming and by cultivating strong personal relationships. Took area territory sales from $500,000 to $2.9 million, with a mature company in an industry with an average annual increase of only 3-5%.</li> </ul> </span> </span> </div> </div> <div class=\\\"paragraph\\\" id=\\\"PARAGRAPH_588215283_3_382804818\\\" itemscope=\\\"\\\" itemtype=\\\"https://schema.org/Organization\\\" style=\\\"\\n      padding-top:0px;\\n    \\\"> <div class=\\\"singlecolumn\\\"> <span class=\\\"paddedline\\\"> <span class=\\\"jobtitle\\\" id=\\\"588215283JTIT3\\\"> Financial Operations Executive and Department Merchandising Manager</span> <span class=\\\"datesWrapper\\\"> <span class=\\\"jobdates\\\" format=\\\"%m/%Y\\\" id=\\\"588215283JSTD3\\\"> 04/1988</span> <span class=\\\"jobdates\\\">  to </span> <span class=\\\"jobdates\\\" format=\\\"%m/%Y\\\" id=\\\"588215283EDDT3\\\"> 08/1989</span> </span> </span> <span class=\\\"paddedline\\\" itemscope=\\\"\\\" itemtype=\\\"https://schema.org/postalAddress\\\"> <span class=\\\"companyname\\\" id=\\\"588215283COMP3\\\" itemprop=\\\"name\\\"> Company Name</span> <span class=\\\"datesWrapper\\\"> <span class=\\\"joblocation jobcity\\\" id=\\\"588215283JCIT3\\\" itemprop=\\\"addressLocality\\\"> City</span> <span class=\\\"joblocation\\\"> , </span> <span class=\\\"joblocation jobstate\\\" id=\\\"588215283JSTA3\\\" itemprop=\\\"addressRegion\\\"> State</span> </span> </span> <span class=\\\"paddedline\\\"> <span class=\\\"jobline\\\" id=\\\"588215283JDES3\\\" itemprop=\\\"description\\\"> Financial Operations Executive for the South Bend store. Volunteered to be merchandise manager for the stores largest department. While in this role the department had the highest per foot sales volume of any department in the entire corporation during the 4th quarter of 1988.</span> </span> </div> </div> </div> <div class=\\\"section\\\" id=\\\"SECTION_ACCM588215285\\\" style=\\\"\\n      padding-top:0px;\\n    \\\"> <div class=\\\"heading\\\"> <div class=\\\"sectiontitle\\\" id=\\\"SECTNAME_ACCM588215285\\\"> Accomplishments</div> </div> <div class=\\\"paragraph firstparagraph\\\" id=\\\"PARAGRAPH_588215285_1_382804815\\\" style=\\\"\\n      padding-top:0px;\\n    \\\"> <div class=\\\"field singlecolumn\\\" id=\\\"588215285FRFM1\\\"> <ul> <li> 4 times President Achievement Guild Award winner, award for sales volume and profit.</li> <li> 3 times President Achievement Award winner, award for sales volume and profit.</li> <li> 4 times Achievement Guild winner, for leadership in 3 year running combined volume.</li> <li> Top travel and meetings sales several times since with BIW.</li> <li> National sales contest \\\"the 1993 Superbowl\\\".</li> <li> Twice awarded \\\"The Over Achiever of the Year\\\" by my most profitable direct customer.</li> <li> Reviewed consistently by management throughout career as \\\"Outstanding or Exceeding Expectations\\\".</li> <li> College: elected to executive positions with both Finance Club and Resident Housing Association.</li> </ul> </div> </div> </div> <div class=\\\"section\\\" id=\\\"SECTION_SKLL588215288\\\" style=\\\"\\n      padding-top:0px;\\n    \\\"> <div class=\\\"heading\\\"> <div class=\\\"sectiontitle\\\" id=\\\"SECTNAME_SKLL588215288\\\"> Skills</div> </div> <div class=\\\"paragraph firstparagraph\\\" id=\\\"PARAGRAPH_588215288_1_382804821\\\" style=\\\"\\n      padding-top:0px;\\n    \\\"> <div class=\\\"field singlecolumn\\\" id=\\\"588215288FRFM1\\\"> <p align=\\\"LEFT\\\"> Sales, Business Development, Distributor Sales, Territory Sales, District Sales, Sales of Solutions, Sales Teams, Sales Accounts, National Accounts, Sales Management, Strategic Accounts, Sales Promotions, Travel &amp; Meeting Sales, Technology Application Sales, Clients Management, Marketing, Budget, Budgets, Forecasts, Promotional, Travel &amp; Meeting Operations, Strategic Planning, Training, Training Development, Financial Operations, Merchandising, Corporate Operations, Employee Engagement, Managing Existing Accounts, Forecasting, Human Resources, Finding New Accounts, Relationship Building and Strategic Direction.</p> </div> </div> </div> <div class=\\\"section\\\" id=\\\"SECTION_EDUC588215284\\\" style=\\\"\\n      padding-top:0px;\\n    \\\"> <div class=\\\"heading\\\"> <div class=\\\"sectiontitle\\\" id=\\\"SECTNAME_EDUC588215284\\\"> Education</div> </div> <div class=\\\"paragraph firstparagraph\\\" id=\\\"PARAGRAPH_588215284_1_382804819\\\" itemscope=\\\"\\\" itemtype=\\\"https://schema.org/EducationalOrganization\\\" style=\\\"\\n      padding-top:0px;\\n    \\\"> <div class=\\\"singlecolumn\\\"> <span class=\\\"paddedline\\\" itemprop=\\\"description\\\"> <span class=\\\"degree\\\" id=\\\"588215284DGRE1\\\" itemprop=\\\"name\\\"> Bachelor of Business Administration</span> <span> : </span> <span class=\\\"programline\\\" id=\\\"588215284STUY1\\\"> Finance, General Business</span> <span class=\\\"datesWrapper\\\"> <span class=\\\"jobdates\\\" id=\\\"588215284GRYR1\\\"> 1988</span> <span> </span> </span> </span> <span class=\\\"paddedline\\\"> <span class=\\\"companyname companyname_educ\\\" id=\\\"588215284SCHO1\\\" itemprop=\\\"name\\\"> Western Michigan University</span> <span class=\\\"datesWrapper\\\"> <span class=\\\"joblocation jobcity educity\\\" id=\\\"588215284SCIT1\\\"> City</span> <span> , </span> <span class=\\\"joblocation jobstate edustate\\\" id=\\\"588215284SSTA1\\\"> State</span> <span> , </span> <span class=\\\"joblocation eduCountry\\\" id=\\\"588215284SCNT1\\\"> US</span> </span> </span> <span class=\\\"paddedline\\\"> <span class=\\\"field\\\" id=\\\"588215284FRFM1\\\"> <p align=\\\"LEFT\\\"> Earned over 85% of all educational/living costs. Jobs worked while in college, industrial heavy construction, excelled at several sales roles including at direct sales of home goods. While in direct sales I won a national trip and was ranked in the top 10 in the country in sales.  Started two successful on campus businesses. Member of the varsity division I football team for 4 years.</p> </span> </span> </div> </div> </div> <div class=\\\"section\\\" id=\\\"SECTION_AFIL588215287\\\" style=\\\"\\n      padding-top:0px;\\n    \\\"> <div class=\\\"heading\\\"> <div class=\\\"sectiontitle\\\" id=\\\"SECTNAME_AFIL588215287\\\"> Organizations</div> </div> <div class=\\\"paragraph firstparagraph\\\" id=\\\"PARAGRAPH_588215287_1_382804820\\\" style=\\\"\\n      padding-top:0px;\\n    \\\"> <div class=\\\"field singlecolumn\\\" id=\\\"588215287FRFM1\\\"> <p align=\\\"LEFT\\\"> IMEX, Milford Memories Planning Board, Huron Valley Youth Baseball President/Treasurer/Director of Travel Baseball, Lakeland Milford Travel Secretary and Milford High School baseball instructor.</p> </div> </div> </div> </div>\",\n          \"<div class=\\\"MPR skn-cbg1 fontsize fontface vmargins hmargins pagesize\\\" id=\\\"document\\\"> <div class=\\\"firstsection\\\" id=\\\"SECTION_PICT1c54d90b-f210-4994-a2df-6f797170b266\\\" style=\\\"padding-top:0px;\\\"> </div> <div class=\\\"section\\\" id=\\\"SECTION_NAMEafa5029c-ed20-4905-9618-559ac6326521\\\" style=\\\"padding-top:0px;\\\"> <div class=\\\"paragraph PARAGRAPH_NAME firstparagraph\\\" id=\\\"PARAGRAPH_afa5029c-ed20-4905-9618-559ac6326521_1_b72ebc9d-ef20-449c-9e46-f7af6ed76f8e\\\" style=\\\"padding-top:NaNpx;\\\"> <div class=\\\"name\\\" itemprop=\\\"name\\\"> <span class=\\\"field\\\" id=\\\"afa5029c-ed20-4905-9618-559ac6326521FNAM1\\\"> </span> <span> </span> <span class=\\\"field\\\" id=\\\"afa5029c-ed20-4905-9618-559ac6326521LNAM1\\\"> ENGINEERING MANAGER</span> </div> <div class=\\\"lowerborder\\\"> </div> </div> </div> <div class=\\\"section\\\" id=\\\"SECTION_SUMMa79b81cd-ed26-40a6-a71d-d369a97aaddf\\\" style=\\\"padding-top:0px;\\\"> <div class=\\\"heading\\\"> <div class=\\\"sectiontitle\\\" id=\\\"SECTNAME_SUMMa79b81cd-ed26-40a6-a71d-d369a97aaddf\\\"> Professional Summary</div> </div> <div class=\\\"paragraph firstparagraph\\\" id=\\\"PARAGRAPH_a79b81cd-ed26-40a6-a71d-d369a97aaddf_1_d37148e5-8011-49d3-b6b5-15a08f038d2a\\\" style=\\\"padding-top:NaNpx;\\\"> <div class=\\\"field singlecolumn\\\" id=\\\"a79b81cd-ed26-40a6-a71d-d369a97aaddfFRFM1\\\"> Experienced product development Engineer and manager able to collaborate with cross functional team as well as customers and sales to bring brand new offerings to new markets. Skilled at managing cross functional team for continuous improvements and meeting project deadlines. Offering 6 years of experience in the field.</div> </div> </div> <div class=\\\"section\\\" id=\\\"SECTION_HILT59198e28-8127-4e19-8680-aeff6e4e9111\\\" style=\\\"padding-top:0px;\\\"> <div class=\\\"heading\\\"> <div class=\\\"sectiontitle\\\" id=\\\"SECTNAME_HILT59198e28-8127-4e19-8680-aeff6e4e9111\\\"> Skills</div> </div> <div class=\\\"paragraph firstparagraph\\\" id=\\\"PARAGRAPH_59198e28-8127-4e19-8680-aeff6e4e9111_1_91ac5bb4-454c-4ef4-8ce9-93cfbec48dd8\\\" style=\\\"padding-top:NaNpx;\\\"> <div class=\\\"singlecolumn maincolumn\\\"> <table class=\\\"twocol\\\"> <tbody> <tr> <td class=\\\"field twocol_1\\\" id=\\\"59198e28-8127-4e19-8680-aeff6e4e9111SKC11\\\"> <ul> <li> Microsoft Office</li> <li> Microsoft Project</li> <li> Product development</li> <li> Quality</li> <li> Research</li> <li> Six Sigma Green Belt</li> <li> Solid Works</li> <li> Visio</li> <li> Prioritization</li> <li> Personnel management</li> <li> Critical thinking skills</li> <li> Team management</li> <li> Analyst, Visio</li> <li> Agency</li> <li> Consulting</li> <li> Cost analysis</li> <li> Critical thinking</li> <li> Designing</li> <li> Dialysis</li> <li> Direction</li> </ul> </td> <td class=\\\"field twocol_2\\\" id=\\\"59198e28-8127-4e19-8680-aeff6e4e9111SKC21\\\"> <ul> <li> Develop drug</li> <li> Functional</li> <li> IIa</li> <li> ISO</li> <li> Leadership</li> <li> Market and development</li> <li> Microsoft Office</li> <li> Microsoft Project</li> <li> Personnel management</li> <li> Design process</li> <li> Product development</li> <li> Product management</li> <li> Quality</li> <li> Researching</li> <li> Research</li> <li> Sales</li> <li> Six Sigma</li> <li> Solid Works</li> <li> Team management</li> <li> Validation</li> </ul> </td> </tr> </tbody> </table> </div> </div> </div> <div class=\\\"section\\\" id=\\\"SECTION_EXPR57f7e681-47f6-4b9d-bd84-cbc638b40345\\\" style=\\\"padding-top:0px;\\\"> <div class=\\\"heading\\\"> <div class=\\\"sectiontitle\\\" id=\\\"SECTNAME_EXPR57f7e681-47f6-4b9d-bd84-cbc638b40345\\\"> Work History</div> </div> <div class=\\\"paragraph firstparagraph\\\" id=\\\"PARAGRAPH_57f7e681-47f6-4b9d-bd84-cbc638b40345_1_81f1c5da-b869-42af-94e3-cacd539a1040\\\" itemscope=\\\"\\\" itemtype=\\\"https://schema.org/Organization\\\" style=\\\"padding-top:NaNpx;\\\"> <div class=\\\"singlecolumn\\\"> <span class=\\\"paddedline\\\" style=\\\"display: inline;\\\"> <span class=\\\"jobtitle\\\" id=\\\"57f7e681-47f6-4b9d-bd84-cbc638b40345JTIT1\\\"> Engineering Manager</span> <span> , </span> </span> <span class=\\\"paddedline\\\" style=\\\"display: inline;\\\"> <span class=\\\"jobdates\\\" format=\\\"%m/%Y\\\" id=\\\"57f7e681-47f6-4b9d-bd84-cbc638b40345JSTD1\\\"> 03/2018</span> <span>  to </span> <span class=\\\"jobdates\\\" format=\\\"%m/%Y\\\" id=\\\"57f7e681-47f6-4b9d-bd84-cbc638b40345EDDT1\\\"> Current</span> <br/> </span> <span class=\\\"paddedline\\\" itemscope=\\\"\\\" itemtype=\\\"https://schema.org/postalAddress\\\"> <span class=\\\"companyname\\\" id=\\\"57f7e681-47f6-4b9d-bd84-cbc638b40345COMP1\\\" itemprop=\\\"name\\\"> </span> <span class=\\\"joblocation jobcity\\\" id=\\\"57f7e681-47f6-4b9d-bd84-cbc638b40345JCIT1\\\" itemprop=\\\"addressLocality\\\"> City</span> <span> , </span> <span class=\\\"joblocation jobstate\\\" id=\\\"57f7e681-47f6-4b9d-bd84-cbc638b40345JSTA1\\\" itemprop=\\\"addressRegion\\\"> State</span> <br/> </span> <span class=\\\"jobline\\\" id=\\\"57f7e681-47f6-4b9d-bd84-cbc638b40345JDES1\\\" itemprop=\\\"description\\\"> <ul> <li> Create and maintain Technical Files per MDR requirements as well as attaining 510k on legacy products.</li> <li> Assess testing gaps of legacy products and design creep.</li> <li> Experienced in working with multiple departments.</li> <li> Experienced in training and leading engineers in order to investigate field complaints, Gap analysis and building Technical files/DHF.</li> <li> Experienced in leading team of engineers to lead all aspects of design process, including regulatory needs per market and development per design control.</li> <li> Tasked to create test plan and analysis of existing Class I, II and III products and Testing per latest applicable requirements.</li> <li> Trained team in conducting project related cost analysis, test gap analysis and researching ISO/EN ISO/ASTM requirements.</li> <li> Leading companywide EU MDR product transfer and testing on Infusion products, Dialysis products and standalone products.</li> <li> Provided technical direction on MDR and 510k related projects and initiatives to other engineers and technicians.</li> </ul> </span> </div> </div> <div class=\\\"paragraph\\\" id=\\\"PARAGRAPH_57f7e681-47f6-4b9d-bd84-cbc638b40345_2_c5e121c4-d6fe-4d94-bb47-2d7a992e1427\\\" itemscope=\\\"\\\" itemtype=\\\"https://schema.org/Organization\\\" style=\\\"padding-top:NaNpx;\\\"> <div class=\\\"singlecolumn\\\"> <span class=\\\"paddedline\\\" style=\\\"display: inline;\\\"> <span class=\\\"jobtitle\\\" id=\\\"57f7e681-47f6-4b9d-bd84-cbc638b40345JTIT2\\\"> Project Engineer II</span> <span> , </span> </span> <span class=\\\"paddedline\\\" style=\\\"display: inline;\\\"> <span class=\\\"jobdates\\\" format=\\\"%m/%Y\\\" id=\\\"57f7e681-47f6-4b9d-bd84-cbc638b40345JSTD2\\\"> 03/2017</span> <span>  to </span> <span class=\\\"jobdates\\\" format=\\\"%m/%Y\\\" id=\\\"57f7e681-47f6-4b9d-bd84-cbc638b40345EDDT2\\\"> 03/2018</span> <br/> </span> <span class=\\\"paddedline\\\" itemscope=\\\"\\\" itemtype=\\\"https://schema.org/postalAddress\\\"> <span class=\\\"companyname\\\" id=\\\"57f7e681-47f6-4b9d-bd84-cbc638b40345COMP2\\\" itemprop=\\\"name\\\"> Company Name</span> <span>  \\u2013 </span> <span class=\\\"joblocation jobcity\\\" id=\\\"57f7e681-47f6-4b9d-bd84-cbc638b40345JCIT2\\\" itemprop=\\\"addressLocality\\\"> City</span> <span> , </span> <span class=\\\"joblocation jobstate\\\" id=\\\"57f7e681-47f6-4b9d-bd84-cbc638b40345JSTA2\\\" itemprop=\\\"addressRegion\\\"> State</span> <br/> </span> <span class=\\\"jobline\\\" id=\\\"57f7e681-47f6-4b9d-bd84-cbc638b40345JDES2\\\" itemprop=\\\"description\\\"> <ul> <li> Working with product management, Clinical Analyst, sales, and regulatory to determine optimal design inputs for new products.</li> <li> Completed design transfer and attained 510k on Class IIb device in under year.</li> <li> Lead cross functional team including consulting agency in order to Develop drug device combination product and research optimal process using DOE in order for mass production.</li> <li> Leading all aspects of design control from designing on solid works to process validations and V&amp;V Testing.</li> <li> Analyzing and resolving field failures through investigation and testing.</li> <li> Experienced in working with international regulatory teams in providing information for foreign registration.</li> <li> Responsible for gap analysis and test planning in order to create and meet deadline for projects.</li> <li> Experienced with reviewing and approving validation activities as well as provide support to staff to achieve project milestones.</li> <li> Experienced working with cross functional teams to complete projects and tasks.</li> </ul> </span> </div> </div> <div class=\\\"paragraph\\\" id=\\\"PARAGRAPH_57f7e681-47f6-4b9d-bd84-cbc638b40345_3_491b8c27-b7f3-4db9-a48d-46bfa2dd83ee\\\" itemscope=\\\"\\\" itemtype=\\\"https://schema.org/Organization\\\" style=\\\"padding-top:NaNpx;\\\"> <div class=\\\"singlecolumn\\\"> <span class=\\\"paddedline\\\" style=\\\"display: inline;\\\"> <span class=\\\"jobtitle\\\" id=\\\"57f7e681-47f6-4b9d-bd84-cbc638b40345JTIT3\\\"> Engineer I</span> <span> , </span> </span> <span class=\\\"paddedline\\\" style=\\\"display: inline;\\\"> <span class=\\\"jobdates\\\" format=\\\"%m/%Y\\\" id=\\\"57f7e681-47f6-4b9d-bd84-cbc638b40345JSTD3\\\"> 06/2013</span> <span>  to </span> <span class=\\\"jobdates\\\" format=\\\"%m/%Y\\\" id=\\\"57f7e681-47f6-4b9d-bd84-cbc638b40345EDDT3\\\"> 03/2017</span> <br/> </span> <span class=\\\"paddedline\\\" itemscope=\\\"\\\" itemtype=\\\"https://schema.org/postalAddress\\\"> <span class=\\\"companyname\\\" id=\\\"57f7e681-47f6-4b9d-bd84-cbc638b40345COMP3\\\" itemprop=\\\"name\\\"> Company Name</span> <span>  \\u2013 </span> <span class=\\\"joblocation jobcity\\\" id=\\\"57f7e681-47f6-4b9d-bd84-cbc638b40345JCIT3\\\" itemprop=\\\"addressLocality\\\"> City</span> <span> , </span> <span class=\\\"joblocation jobstate\\\" id=\\\"57f7e681-47f6-4b9d-bd84-cbc638b40345JSTA3\\\" itemprop=\\\"addressRegion\\\"> State</span> <br/> </span> <span class=\\\"jobline\\\" id=\\\"57f7e681-47f6-4b9d-bd84-cbc638b40345JDES3\\\" itemprop=\\\"description\\\"> <ul> <li> Worked to bring Drug Device Combination product to mass production.</li> <li> Completed new Class IIa product and completed project in 10 months.</li> <li> Completing CAPAs and resolving field failures by research and testing.</li> <li> Developed new testing methods and designed tooling for new testing.</li> <li> Experienced in using Injection Molding Machine to Create and Test Prototypes.</li> <li> Found cheaper and more responsible vendor for MRI related testing.</li> </ul> </span> </div> </div> </div> <div class=\\\"section\\\" id=\\\"SECTION_EDUCc3ff1b76-45c2-4256-801f-1d93a6d48a74\\\" style=\\\"padding-top:0px;\\\"> <div class=\\\"heading\\\"> <div class=\\\"sectiontitle\\\" id=\\\"SECTNAME_EDUCc3ff1b76-45c2-4256-801f-1d93a6d48a74\\\"> Education</div> </div> <div class=\\\"paragraph firstparagraph\\\" id=\\\"PARAGRAPH_c3ff1b76-45c2-4256-801f-1d93a6d48a74_1_7d553f36-a7b2-4ee5-ada1-c08888ca8509\\\" itemscope=\\\"\\\" itemtype=\\\"https://schema.org/EducationalOrganization\\\" style=\\\"padding-top:NaNpx;\\\"> <div class=\\\"singlecolumn\\\"> <span class=\\\"paddedline\\\" itemprop=\\\"description\\\"> <span class=\\\"degree\\\" id=\\\"c3ff1b76-45c2-4256-801f-1d93a6d48a74DGRE1\\\" itemprop=\\\"name\\\"> Bachelor of Science</span> <span> : </span> <span class=\\\"programline\\\" id=\\\"c3ff1b76-45c2-4256-801f-1d93a6d48a74STUY1\\\"> Mechanical Engineering</span> <span> , </span> <span format=\\\"%m/%Y\\\" id=\\\"c3ff1b76-45c2-4256-801f-1d93a6d48a74GRYR1\\\"> 05/2013</span> <br/> </span> <span class=\\\"paddedline\\\"> <span class=\\\"companyname companyname_educ\\\" id=\\\"c3ff1b76-45c2-4256-801f-1d93a6d48a74SCHO1\\\" itemprop=\\\"name\\\"> Temple University</span> <span>  - </span> <span class=\\\"joblocation jobcity\\\" id=\\\"c3ff1b76-45c2-4256-801f-1d93a6d48a74SCIT1\\\"> City</span> <span> , </span> <span class=\\\"joblocation jobstate\\\" id=\\\"c3ff1b76-45c2-4256-801f-1d93a6d48a74SSTA1\\\"> State</span> <br/> </span> <span class=\\\"field\\\" id=\\\"c3ff1b76-45c2-4256-801f-1d93a6d48a74FRFM1\\\"> </span> </div> </div> <div class=\\\"paragraph\\\" id=\\\"PARAGRAPH_c3ff1b76-45c2-4256-801f-1d93a6d48a74_2_927d72ba-b039-4a46-970c-25339dd8e216\\\" itemscope=\\\"\\\" itemtype=\\\"https://schema.org/EducationalOrganization\\\" style=\\\"padding-top:NaNpx;\\\"> <div class=\\\"singlecolumn\\\"> <span class=\\\"paddedline\\\" itemprop=\\\"description\\\"> <span class=\\\"degree\\\" id=\\\"c3ff1b76-45c2-4256-801f-1d93a6d48a74DGRE2\\\" itemprop=\\\"name\\\"> Certifications\\nManagement Leadership Certification and Six Sigma Greenbelt certification</span> <span class=\\\"programline\\\" id=\\\"c3ff1b76-45c2-4256-801f-1d93a6d48a74STUY2\\\"> </span> <span format=\\\"%m/%Y\\\" id=\\\"c3ff1b76-45c2-4256-801f-1d93a6d48a74GRYR2\\\"> </span> </span> <span class=\\\"field\\\" id=\\\"c3ff1b76-45c2-4256-801f-1d93a6d48a74FRFM2\\\"> </span> </div> </div> </div> <div class=\\\"section\\\" id=\\\"SECTION_WRKH94eaceaf-fc70-4558-aae7-c02aa39afdaa\\\" style=\\\"padding-top:0px;\\\"> <div class=\\\"heading\\\"> <div class=\\\"sectiontitle\\\" id=\\\"SECTNAME_WRKH94eaceaf-fc70-4558-aae7-c02aa39afdaa\\\"> Work History</div> </div> <div class=\\\"paragraph firstparagraph\\\" id=\\\"PARAGRAPH_94eaceaf-fc70-4558-aae7-c02aa39afdaa_1_683ed507-7415-4bc5-b721-adecaa5a90b4\\\" itemscope=\\\"\\\" itemtype=\\\"https://schema.org/Organization\\\" style=\\\"padding-top:NaNpx;\\\"> <div class=\\\"singlecolumn\\\"> <span class=\\\"paddedline\\\"> <span class=\\\"jobtitle\\\" id=\\\"94eaceaf-fc70-4558-aae7-c02aa39afdaaJTIT1\\\"> Engineering Manager</span> <span> , </span> <span class=\\\"jobdates\\\" format=\\\"%m/%Y\\\" id=\\\"94eaceaf-fc70-4558-aae7-c02aa39afdaaJSTD1\\\"> 03/2018</span> <span>  to </span> <span class=\\\"jobdates\\\" format=\\\"%m/%Y\\\" id=\\\"94eaceaf-fc70-4558-aae7-c02aa39afdaaEDDT1\\\"> Current</span> <br/> </span> <span class=\\\"paddedline\\\" itemscope=\\\"\\\" itemtype=\\\"https://schema.org/postalAddress\\\"> <span class=\\\"companyname\\\" id=\\\"94eaceaf-fc70-4558-aae7-c02aa39afdaaCOMP1\\\" itemprop=\\\"name\\\"> </span> <span class=\\\"joblocation jobcity\\\" id=\\\"94eaceaf-fc70-4558-aae7-c02aa39afdaaJCIT1\\\" itemprop=\\\"addressLocality\\\"> City</span> <span> , </span> <span class=\\\"joblocation jobstate\\\" id=\\\"94eaceaf-fc70-4558-aae7-c02aa39afdaaJSTA1\\\" itemprop=\\\"addressRegion\\\"> State</span> <br/> </span> <span class=\\\"jobline\\\" id=\\\"94eaceaf-fc70-4558-aae7-c02aa39afdaaJDES1\\\" itemprop=\\\"description\\\"> <ul> <li> Create and maintain Technical Files per MDR requirements as well as attaining 510k on legacy products.</li> <li> Assess testing gaps of legacy products and design creep.</li> <li> Experienced in working with multiple departments.</li> <li> Experienced in training and leading engineers in order to investigate field complaints, Gap analysis and building Technical files/DHF.</li> <li> Experienced in leading team of engineers to lead all aspects of design process, including regulatory needs per market and development per design control.</li> <li> Tasked to create test plan and analysis of existing Class I, II and III products and Testing per latest applicable requirements.</li> <li> Trained team in conducting project related cost analysis, test gap analysis and researching ISO/EN ISO/ASTM requirements.</li> <li> Leading companywide EU MDR product transfer and testing on Infusion products, Dialysis products and standalone products.</li> <li> Provided technical direction on MDR and 510k related projects and initiatives to other engineers and technicians.</li> </ul> </span> </div> </div> <div class=\\\"paragraph\\\" id=\\\"PARAGRAPH_94eaceaf-fc70-4558-aae7-c02aa39afdaa_2_ec8a0290-f8d6-49f4-917e-1272dd2fa499\\\" itemscope=\\\"\\\" itemtype=\\\"https://schema.org/Organization\\\" style=\\\"padding-top:NaNpx;\\\"> <div class=\\\"singlecolumn\\\"> <span class=\\\"paddedline\\\"> <span class=\\\"jobtitle\\\" id=\\\"94eaceaf-fc70-4558-aae7-c02aa39afdaaJTIT2\\\"> Project Engineer II</span> <span> , </span> <span class=\\\"jobdates\\\" format=\\\"%m/%Y\\\" id=\\\"94eaceaf-fc70-4558-aae7-c02aa39afdaaJSTD2\\\"> 03/2017</span> <span>  to </span> <span class=\\\"jobdates\\\" format=\\\"%m/%Y\\\" id=\\\"94eaceaf-fc70-4558-aae7-c02aa39afdaaEDDT2\\\"> 03/2018</span> <br/> </span> <span class=\\\"paddedline\\\" itemscope=\\\"\\\" itemtype=\\\"https://schema.org/postalAddress\\\"> <span class=\\\"companyname\\\" id=\\\"94eaceaf-fc70-4558-aae7-c02aa39afdaaCOMP2\\\" itemprop=\\\"name\\\"> Company Name</span> <span>  \\u2013 </span> <span class=\\\"joblocation jobcity\\\" id=\\\"94eaceaf-fc70-4558-aae7-c02aa39afdaaJCIT2\\\" itemprop=\\\"addressLocality\\\"> City</span> <span> , </span> <span class=\\\"joblocation jobstate\\\" id=\\\"94eaceaf-fc70-4558-aae7-c02aa39afdaaJSTA2\\\" itemprop=\\\"addressRegion\\\"> State</span> <br/> </span> <span class=\\\"jobline\\\" id=\\\"94eaceaf-fc70-4558-aae7-c02aa39afdaaJDES2\\\" itemprop=\\\"description\\\"> <ul> <li> Working with product management, Clinical Analyst, sales, and regulatory to determine optimal design inputs for new products.</li> <li> Completed design transfer and attained 510k on Class IIb device in under year.</li> <li> Lead cross functional team including consulting agency in order to Develop drug device combination product and research optimal process using DOE in order for mass production.</li> <li> Leading all aspects of design control from designing on solid works to process validations and V&amp;V Testing.</li> <li> Analyzing and resolving field failures through investigation and testing.</li> <li> Experienced in working with international regulatory teams in providing information for foreign registration.</li> <li> Responsible for gap analysis and test planning in order to create and meet deadline for projects.</li> <li> Experienced with reviewing and approving validation activities as well as provide support to staff to achieve project milestones.</li> <li> Experienced working with cross functional teams to complete projects and tasks.</li> </ul> </span> </div> </div> <div class=\\\"paragraph\\\" id=\\\"PARAGRAPH_94eaceaf-fc70-4558-aae7-c02aa39afdaa_3_95104344-4f04-46e2-9f70-7d9cc463a747\\\" itemscope=\\\"\\\" itemtype=\\\"https://schema.org/Organization\\\" style=\\\"padding-top:NaNpx;\\\"> <div class=\\\"singlecolumn\\\"> <span class=\\\"paddedline\\\"> <span class=\\\"jobtitle\\\" id=\\\"94eaceaf-fc70-4558-aae7-c02aa39afdaaJTIT3\\\"> Engineer I</span> <span> , </span> <span class=\\\"jobdates\\\" format=\\\"%m/%Y\\\" id=\\\"94eaceaf-fc70-4558-aae7-c02aa39afdaaJSTD3\\\"> 06/2013</span> <span>  to </span> <span class=\\\"jobdates\\\" format=\\\"%m/%Y\\\" id=\\\"94eaceaf-fc70-4558-aae7-c02aa39afdaaEDDT3\\\"> 03/2017</span> <br/> </span> <span class=\\\"paddedline\\\" itemscope=\\\"\\\" itemtype=\\\"https://schema.org/postalAddress\\\"> <span class=\\\"companyname\\\" id=\\\"94eaceaf-fc70-4558-aae7-c02aa39afdaaCOMP3\\\" itemprop=\\\"name\\\"> Company Name</span> <span>  \\u2013 </span> <span class=\\\"joblocation jobcity\\\" id=\\\"94eaceaf-fc70-4558-aae7-c02aa39afdaaJCIT3\\\" itemprop=\\\"addressLocality\\\"> City</span> <span> , </span> <span class=\\\"joblocation jobstate\\\" id=\\\"94eaceaf-fc70-4558-aae7-c02aa39afdaaJSTA3\\\" itemprop=\\\"addressRegion\\\"> State</span> <br/> </span> <span class=\\\"jobline\\\" id=\\\"94eaceaf-fc70-4558-aae7-c02aa39afdaaJDES3\\\" itemprop=\\\"description\\\"> <ul> <li> Worked to bring Drug Device Combination product to mass production.</li> <li> Completed new Class IIa product and completed project in 10 months.</li> <li> Completing CAPAs and resolving field failures by research and testing.</li> <li> Developed new testing methods and designed tooling for new testing.</li> <li> Experienced in using Injection Molding Machine to Create and Test Prototypes.</li> <li> Found cheaper and more responsible vendor for MRI related testing.</li> </ul> </span> </div> </div> </div> <div class=\\\"section\\\" id=\\\"SECTION_SKLL76d684b9-d30d-44de-810c-b0f4c84e80c1\\\" style=\\\"padding-top:0px;\\\"> <div class=\\\"heading\\\"> <div class=\\\"sectiontitle\\\" id=\\\"SECTNAME_SKLL76d684b9-d30d-44de-810c-b0f4c84e80c1\\\"> Skills</div> </div> <div class=\\\"paragraph firstparagraph\\\" id=\\\"PARAGRAPH_76d684b9-d30d-44de-810c-b0f4c84e80c1_1_6b2d0ea2-b0fe-4911-af72-588efa1c02a6\\\" style=\\\"padding-top:NaNpx;\\\"> <div class=\\\"field singlecolumn\\\" id=\\\"76d684b9-d30d-44de-810c-b0f4c84e80c1FRFM1\\\"> <li> Microsoft Office</li> <li> Microsoft Project</li> <li> Product development</li> <li> Quality</li> <li> Research</li> <li> Six Sigma Green Belt</li> <li> Solid Works</li> <li> Visio</li> <li> Prioritization</li> <li> Personnel management</li> <li> Critical thinking skills</li> <li> Team management,</li> <li> Analyst, agency, consulting, cost analysis, Critical thinking, Designing, Dialysis, direction, Develop drug, functional, IIa, ISO, Leadership, market and development, Microsoft Office, Microsoft Project, Personnel management, design process, Product development, product management, Quality, researching, Research, sales, Six Sigma, Solid Works, Team management, validation, Visio</li> </div> </div> </div> </div>\"\n        ],\n        \"semantic_type\": \"\",\n        \"description\": \"\"\n      }\n    },\n    {\n      \"column\": \"Category\",\n      \"properties\": {\n        \"dtype\": \"category\",\n        \"num_unique_values\": 24,\n        \"samples\": [\n          \"AGRICULTURE\",\n          \"APPAREL\",\n          \"HR\"\n        ],\n        \"semantic_type\": \"\",\n        \"description\": \"\"\n      }\n    }\n  ]\n}",
       "type": "dataframe",
       "variable_name": "resume_df"
      },
      "text/html": [
       "\n",
       "  <div id=\"df-6937279b-5ddd-4cfd-b70f-85fbc17583cd\" class=\"colab-df-container\">\n",
       "    <div>\n",
       "<style scoped>\n",
       "    .dataframe tbody tr th:only-of-type {\n",
       "        vertical-align: middle;\n",
       "    }\n",
       "\n",
       "    .dataframe tbody tr th {\n",
       "        vertical-align: top;\n",
       "    }\n",
       "\n",
       "    .dataframe thead th {\n",
       "        text-align: right;\n",
       "    }\n",
       "</style>\n",
       "<table border=\"1\" class=\"dataframe\">\n",
       "  <thead>\n",
       "    <tr style=\"text-align: right;\">\n",
       "      <th></th>\n",
       "      <th>ID</th>\n",
       "      <th>Resume_str</th>\n",
       "      <th>Resume_html</th>\n",
       "      <th>Category</th>\n",
       "    </tr>\n",
       "  </thead>\n",
       "  <tbody>\n",
       "    <tr>\n",
       "      <th>0</th>\n",
       "      <td>16852973</td>\n",
       "      <td>HR ADMINISTRATOR/MARKETING ASSOCIATE\\...</td>\n",
       "      <td>&lt;div class=\"fontsize fontface vmargins hmargin...</td>\n",
       "      <td>HR</td>\n",
       "    </tr>\n",
       "    <tr>\n",
       "      <th>1</th>\n",
       "      <td>22323967</td>\n",
       "      <td>HR SPECIALIST, US HR OPERATIONS      ...</td>\n",
       "      <td>&lt;div class=\"fontsize fontface vmargins hmargin...</td>\n",
       "      <td>HR</td>\n",
       "    </tr>\n",
       "    <tr>\n",
       "      <th>2</th>\n",
       "      <td>33176873</td>\n",
       "      <td>HR DIRECTOR       Summary      Over 2...</td>\n",
       "      <td>&lt;div class=\"fontsize fontface vmargins hmargin...</td>\n",
       "      <td>HR</td>\n",
       "    </tr>\n",
       "    <tr>\n",
       "      <th>3</th>\n",
       "      <td>27018550</td>\n",
       "      <td>HR SPECIALIST       Summary    Dedica...</td>\n",
       "      <td>&lt;div class=\"fontsize fontface vmargins hmargin...</td>\n",
       "      <td>HR</td>\n",
       "    </tr>\n",
       "    <tr>\n",
       "      <th>4</th>\n",
       "      <td>17812897</td>\n",
       "      <td>HR MANAGER         Skill Highlights  ...</td>\n",
       "      <td>&lt;div class=\"fontsize fontface vmargins hmargin...</td>\n",
       "      <td>HR</td>\n",
       "    </tr>\n",
       "  </tbody>\n",
       "</table>\n",
       "</div>\n",
       "    <div class=\"colab-df-buttons\">\n",
       "\n",
       "  <div class=\"colab-df-container\">\n",
       "    <button class=\"colab-df-convert\" onclick=\"convertToInteractive('df-6937279b-5ddd-4cfd-b70f-85fbc17583cd')\"\n",
       "            title=\"Convert this dataframe to an interactive table.\"\n",
       "            style=\"display:none;\">\n",
       "\n",
       "  <svg xmlns=\"http://www.w3.org/2000/svg\" height=\"24px\" viewBox=\"0 -960 960 960\">\n",
       "    <path d=\"M120-120v-720h720v720H120Zm60-500h600v-160H180v160Zm220 220h160v-160H400v160Zm0 220h160v-160H400v160ZM180-400h160v-160H180v160Zm440 0h160v-160H620v160ZM180-180h160v-160H180v160Zm440 0h160v-160H620v160Z\"/>\n",
       "  </svg>\n",
       "    </button>\n",
       "\n",
       "  <style>\n",
       "    .colab-df-container {\n",
       "      display:flex;\n",
       "      gap: 12px;\n",
       "    }\n",
       "\n",
       "    .colab-df-convert {\n",
       "      background-color: #E8F0FE;\n",
       "      border: none;\n",
       "      border-radius: 50%;\n",
       "      cursor: pointer;\n",
       "      display: none;\n",
       "      fill: #1967D2;\n",
       "      height: 32px;\n",
       "      padding: 0 0 0 0;\n",
       "      width: 32px;\n",
       "    }\n",
       "\n",
       "    .colab-df-convert:hover {\n",
       "      background-color: #E2EBFA;\n",
       "      box-shadow: 0px 1px 2px rgba(60, 64, 67, 0.3), 0px 1px 3px 1px rgba(60, 64, 67, 0.15);\n",
       "      fill: #174EA6;\n",
       "    }\n",
       "\n",
       "    .colab-df-buttons div {\n",
       "      margin-bottom: 4px;\n",
       "    }\n",
       "\n",
       "    [theme=dark] .colab-df-convert {\n",
       "      background-color: #3B4455;\n",
       "      fill: #D2E3FC;\n",
       "    }\n",
       "\n",
       "    [theme=dark] .colab-df-convert:hover {\n",
       "      background-color: #434B5C;\n",
       "      box-shadow: 0px 1px 3px 1px rgba(0, 0, 0, 0.15);\n",
       "      filter: drop-shadow(0px 1px 2px rgba(0, 0, 0, 0.3));\n",
       "      fill: #FFFFFF;\n",
       "    }\n",
       "  </style>\n",
       "\n",
       "    <script>\n",
       "      const buttonEl =\n",
       "        document.querySelector('#df-6937279b-5ddd-4cfd-b70f-85fbc17583cd button.colab-df-convert');\n",
       "      buttonEl.style.display =\n",
       "        google.colab.kernel.accessAllowed ? 'block' : 'none';\n",
       "\n",
       "      async function convertToInteractive(key) {\n",
       "        const element = document.querySelector('#df-6937279b-5ddd-4cfd-b70f-85fbc17583cd');\n",
       "        const dataTable =\n",
       "          await google.colab.kernel.invokeFunction('convertToInteractive',\n",
       "                                                    [key], {});\n",
       "        if (!dataTable) return;\n",
       "\n",
       "        const docLinkHtml = 'Like what you see? Visit the ' +\n",
       "          '<a target=\"_blank\" href=https://colab.research.google.com/notebooks/data_table.ipynb>data table notebook</a>'\n",
       "          + ' to learn more about interactive tables.';\n",
       "        element.innerHTML = '';\n",
       "        dataTable['output_type'] = 'display_data';\n",
       "        await google.colab.output.renderOutput(dataTable, element);\n",
       "        const docLink = document.createElement('div');\n",
       "        docLink.innerHTML = docLinkHtml;\n",
       "        element.appendChild(docLink);\n",
       "      }\n",
       "    </script>\n",
       "  </div>\n",
       "\n",
       "\n",
       "    <div id=\"df-5ba43d38-5d65-4c8b-85c4-49ba6e0b1329\">\n",
       "      <button class=\"colab-df-quickchart\" onclick=\"quickchart('df-5ba43d38-5d65-4c8b-85c4-49ba6e0b1329')\"\n",
       "                title=\"Suggest charts\"\n",
       "                style=\"display:none;\">\n",
       "\n",
       "<svg xmlns=\"http://www.w3.org/2000/svg\" height=\"24px\"viewBox=\"0 0 24 24\"\n",
       "     width=\"24px\">\n",
       "    <g>\n",
       "        <path d=\"M19 3H5c-1.1 0-2 .9-2 2v14c0 1.1.9 2 2 2h14c1.1 0 2-.9 2-2V5c0-1.1-.9-2-2-2zM9 17H7v-7h2v7zm4 0h-2V7h2v10zm4 0h-2v-4h2v4z\"/>\n",
       "    </g>\n",
       "</svg>\n",
       "      </button>\n",
       "\n",
       "<style>\n",
       "  .colab-df-quickchart {\n",
       "      --bg-color: #E8F0FE;\n",
       "      --fill-color: #1967D2;\n",
       "      --hover-bg-color: #E2EBFA;\n",
       "      --hover-fill-color: #174EA6;\n",
       "      --disabled-fill-color: #AAA;\n",
       "      --disabled-bg-color: #DDD;\n",
       "  }\n",
       "\n",
       "  [theme=dark] .colab-df-quickchart {\n",
       "      --bg-color: #3B4455;\n",
       "      --fill-color: #D2E3FC;\n",
       "      --hover-bg-color: #434B5C;\n",
       "      --hover-fill-color: #FFFFFF;\n",
       "      --disabled-bg-color: #3B4455;\n",
       "      --disabled-fill-color: #666;\n",
       "  }\n",
       "\n",
       "  .colab-df-quickchart {\n",
       "    background-color: var(--bg-color);\n",
       "    border: none;\n",
       "    border-radius: 50%;\n",
       "    cursor: pointer;\n",
       "    display: none;\n",
       "    fill: var(--fill-color);\n",
       "    height: 32px;\n",
       "    padding: 0;\n",
       "    width: 32px;\n",
       "  }\n",
       "\n",
       "  .colab-df-quickchart:hover {\n",
       "    background-color: var(--hover-bg-color);\n",
       "    box-shadow: 0 1px 2px rgba(60, 64, 67, 0.3), 0 1px 3px 1px rgba(60, 64, 67, 0.15);\n",
       "    fill: var(--button-hover-fill-color);\n",
       "  }\n",
       "\n",
       "  .colab-df-quickchart-complete:disabled,\n",
       "  .colab-df-quickchart-complete:disabled:hover {\n",
       "    background-color: var(--disabled-bg-color);\n",
       "    fill: var(--disabled-fill-color);\n",
       "    box-shadow: none;\n",
       "  }\n",
       "\n",
       "  .colab-df-spinner {\n",
       "    border: 2px solid var(--fill-color);\n",
       "    border-color: transparent;\n",
       "    border-bottom-color: var(--fill-color);\n",
       "    animation:\n",
       "      spin 1s steps(1) infinite;\n",
       "  }\n",
       "\n",
       "  @keyframes spin {\n",
       "    0% {\n",
       "      border-color: transparent;\n",
       "      border-bottom-color: var(--fill-color);\n",
       "      border-left-color: var(--fill-color);\n",
       "    }\n",
       "    20% {\n",
       "      border-color: transparent;\n",
       "      border-left-color: var(--fill-color);\n",
       "      border-top-color: var(--fill-color);\n",
       "    }\n",
       "    30% {\n",
       "      border-color: transparent;\n",
       "      border-left-color: var(--fill-color);\n",
       "      border-top-color: var(--fill-color);\n",
       "      border-right-color: var(--fill-color);\n",
       "    }\n",
       "    40% {\n",
       "      border-color: transparent;\n",
       "      border-right-color: var(--fill-color);\n",
       "      border-top-color: var(--fill-color);\n",
       "    }\n",
       "    60% {\n",
       "      border-color: transparent;\n",
       "      border-right-color: var(--fill-color);\n",
       "    }\n",
       "    80% {\n",
       "      border-color: transparent;\n",
       "      border-right-color: var(--fill-color);\n",
       "      border-bottom-color: var(--fill-color);\n",
       "    }\n",
       "    90% {\n",
       "      border-color: transparent;\n",
       "      border-bottom-color: var(--fill-color);\n",
       "    }\n",
       "  }\n",
       "</style>\n",
       "\n",
       "      <script>\n",
       "        async function quickchart(key) {\n",
       "          const quickchartButtonEl =\n",
       "            document.querySelector('#' + key + ' button');\n",
       "          quickchartButtonEl.disabled = true;  // To prevent multiple clicks.\n",
       "          quickchartButtonEl.classList.add('colab-df-spinner');\n",
       "          try {\n",
       "            const charts = await google.colab.kernel.invokeFunction(\n",
       "                'suggestCharts', [key], {});\n",
       "          } catch (error) {\n",
       "            console.error('Error during call to suggestCharts:', error);\n",
       "          }\n",
       "          quickchartButtonEl.classList.remove('colab-df-spinner');\n",
       "          quickchartButtonEl.classList.add('colab-df-quickchart-complete');\n",
       "        }\n",
       "        (() => {\n",
       "          let quickchartButtonEl =\n",
       "            document.querySelector('#df-5ba43d38-5d65-4c8b-85c4-49ba6e0b1329 button');\n",
       "          quickchartButtonEl.style.display =\n",
       "            google.colab.kernel.accessAllowed ? 'block' : 'none';\n",
       "        })();\n",
       "      </script>\n",
       "    </div>\n",
       "\n",
       "    </div>\n",
       "  </div>\n"
      ],
      "text/plain": [
       "         ID                                         Resume_str  \\\n",
       "0  16852973           HR ADMINISTRATOR/MARKETING ASSOCIATE\\...   \n",
       "1  22323967           HR SPECIALIST, US HR OPERATIONS      ...   \n",
       "2  33176873           HR DIRECTOR       Summary      Over 2...   \n",
       "3  27018550           HR SPECIALIST       Summary    Dedica...   \n",
       "4  17812897           HR MANAGER         Skill Highlights  ...   \n",
       "\n",
       "                                         Resume_html Category  \n",
       "0  <div class=\"fontsize fontface vmargins hmargin...       HR  \n",
       "1  <div class=\"fontsize fontface vmargins hmargin...       HR  \n",
       "2  <div class=\"fontsize fontface vmargins hmargin...       HR  \n",
       "3  <div class=\"fontsize fontface vmargins hmargin...       HR  \n",
       "4  <div class=\"fontsize fontface vmargins hmargin...       HR  "
      ]
     },
     "execution_count": 11,
     "metadata": {},
     "output_type": "execute_result"
    }
   ],
   "source": [
    "resume_df.head()"
   ]
  },
  {
   "cell_type": "code",
   "execution_count": null,
   "id": "u9tWVxxKtnDi",
   "metadata": {
    "colab": {
     "base_uri": "https://localhost:8080/"
    },
    "id": "u9tWVxxKtnDi",
    "outputId": "74458667-afaf-4cb5-f598-54bd020f69f6"
   },
   "outputs": [
    {
     "data": {
      "text/plain": [
       "(2484, 4)"
      ]
     },
     "execution_count": 12,
     "metadata": {},
     "output_type": "execute_result"
    }
   ],
   "source": [
    "resume_df.shape"
   ]
  },
  {
   "cell_type": "code",
   "execution_count": null,
   "id": "Az3jvk1TtnEo",
   "metadata": {
    "id": "Az3jvk1TtnEo"
   },
   "outputs": [],
   "source": [
    "postings_sample_df = postings_df.sample(3000, random_state=42).copy()\n",
    "resume_sample_df = resume_df"
   ]
  },
  {
   "cell_type": "markdown",
   "id": "PNc4I86RlgJj",
   "metadata": {
    "id": "PNc4I86RlgJj"
   },
   "source": [
    "## <b> TEXT PREPROCESSING"
   ]
  },
  {
   "cell_type": "code",
   "execution_count": null,
   "id": "xRwZ6KiDtnGH",
   "metadata": {
    "id": "xRwZ6KiDtnGH"
   },
   "outputs": [],
   "source": [
    "import spacy\n",
    "nlp = spacy.load('en_core_web_sm')\n",
    "\n",
    "# Define lists of skills and job domains to extract from text\n",
    "SKILLS = ['javascript', 'node.js', 'aws', 'kubernetes', 'go lang', 'ruby', 'python', 'sql', 'java',\n",
    "          'docker', 'html', 'management', 'engineering', 'marketing', 'design', 'sales', 'software',\n",
    "          'development', 'communication', 'leadership', 'installation', 'technical', 'automation', 'power systems']\n",
    "DOMAINS = ['healthcare', 'finance', 'tech', 'education', 'manufacturing', 'retail', 'sales',\n",
    "           'construction', 'hospitality', 'engineering', 'legal', 'marketing', 'government']\n"
   ]
  },
  {
   "cell_type": "code",
   "execution_count": null,
   "id": "45PPbtuhtvvw",
   "metadata": {
    "id": "45PPbtuhtvvw"
   },
   "outputs": [],
   "source": [
    "# Function to preprocess job text\n",
    "def preprocess_text(text):\n",
    "    if pd.isna(text): return \"\"\n",
    "    doc = nlp(text.lower())\n",
    "    original_terms = [token.text for token in doc]\n",
    "    lemmatized = ' '.join([token.lemma_ for token in doc if not token.is_stop])\n",
    "    return {'original': original_terms, 'lemmatized': lemmatized}\n",
    "\n",
    "# Function to extract known skills from text\n",
    "def extract_skills(text_data):\n",
    "    if not isinstance(text_data, dict): return []\n",
    "    return [skill for skill in SKILLS if any(skill in term for term in text_data['original'])]\n",
    "\n",
    "# Function to infer job domains from text and skills\n",
    "def extract_domains(text_data, skills=None):\n",
    "    if not isinstance(text_data, dict): return []\n",
    "    original_terms = text_data['original']\n",
    "    domains = [domain for domain in DOMAINS if any(domain in term for term in original_terms)]\n",
    "    if skills:\n",
    "        if any(skill in skills for skill in ['aws', 'kubernetes', 'docker']):\n",
    "            domains.append('tech')\n",
    "        if any(skill in skills for skill in ['management', 'leadership']):\n",
    "            domains.append('business')\n",
    "    return list(set(domains))"
   ]
  },
  {
   "cell_type": "code",
   "execution_count": null,
   "id": "1SbwmlcktvzH",
   "metadata": {
    "id": "1SbwmlcktvzH"
   },
   "outputs": [],
   "source": [
    "# Apply preprocessing functions to job postings\n",
    "postings_sample_df['processed_desc'] = postings_sample_df['description'].apply(preprocess_text)\n",
    "postings_sample_df['job_skills'] = postings_sample_df['processed_desc'].apply(extract_skills)\n",
    "postings_sample_df['job_domain'] = postings_sample_df.apply(lambda x: extract_domains(x['processed_desc'], x['job_skills']), axis=1)"
   ]
  },
  {
   "cell_type": "markdown",
   "id": "0aFGRcvSmZ-U",
   "metadata": {
    "id": "0aFGRcvSmZ-U"
   },
   "source": [
    "## COMBINE & CLEAN DATA"
   ]
  },
  {
   "cell_type": "code",
   "execution_count": null,
   "id": "YbtjefXMmfVj",
   "metadata": {
    "id": "YbtjefXMmfVj"
   },
   "outputs": [],
   "source": [
    "# Clean and prepare the dataset for modeling\n",
    "combined_data = postings_sample_df[['job_id', 'title', 'processed_desc', 'job_skills', 'job_domain']].copy()\n",
    "combined_data['job_skills'] = combined_data['job_skills'].apply(lambda x: x if isinstance(x, list) else [])\n",
    "combined_data['job_domain'] = combined_data['job_domain'].apply(lambda x: x if isinstance(x, list) else [])\n",
    "combined_data['skill_text'] = combined_data['job_skills'].apply(lambda x: ' '.join(x))\n"
   ]
  },
  {
   "cell_type": "code",
   "execution_count": null,
   "id": "MHDjaqwyUvcG",
   "metadata": {
    "colab": {
     "base_uri": "https://localhost:8080/",
     "height": 206
    },
    "id": "MHDjaqwyUvcG",
    "outputId": "91c1f128-de95-4524-a1e0-fa285cca32e7"
   },
   "outputs": [
    {
     "data": {
      "application/vnd.google.colaboratory.intrinsic+json": {
       "summary": "{\n  \"name\": \"combined_data\",\n  \"rows\": 3000,\n  \"fields\": [\n    {\n      \"column\": \"job_id\",\n      \"properties\": {\n        \"dtype\": \"number\",\n        \"std\": 68264641,\n        \"min\": 258868844,\n        \"max\": 3906265233,\n        \"num_unique_values\": 3000,\n        \"samples\": [\n          3901936545,\n          3904059200,\n          3904724534\n        ],\n        \"semantic_type\": \"\",\n        \"description\": \"\"\n      }\n    },\n    {\n      \"column\": \"title\",\n      \"properties\": {\n        \"dtype\": \"string\",\n        \"num_unique_values\": 2653,\n        \"samples\": [\n          \"Salesperson- Remote opportunity! No experience necessary! 65k-180k\",\n          \"Senior Channel Marketing Manager or Channel Marketing Manager\",\n          \"Program Manager, Marketplace\"\n        ],\n        \"semantic_type\": \"\",\n        \"description\": \"\"\n      }\n    },\n    {\n      \"column\": \"processed_desc\",\n      \"properties\": {\n        \"dtype\": \"object\",\n        \"semantic_type\": \"\",\n        \"description\": \"\"\n      }\n    },\n    {\n      \"column\": \"job_skills\",\n      \"properties\": {\n        \"dtype\": \"object\",\n        \"semantic_type\": \"\",\n        \"description\": \"\"\n      }\n    },\n    {\n      \"column\": \"job_domain\",\n      \"properties\": {\n        \"dtype\": \"object\",\n        \"semantic_type\": \"\",\n        \"description\": \"\"\n      }\n    },\n    {\n      \"column\": \"skill_text\",\n      \"properties\": {\n        \"dtype\": \"category\",\n        \"num_unique_values\": 991,\n        \"samples\": [\n          \"management engineering design software communication installation technical\",\n          \"management engineering design software communication leadership technical\",\n          \"java development\"\n        ],\n        \"semantic_type\": \"\",\n        \"description\": \"\"\n      }\n    }\n  ]\n}",
       "type": "dataframe",
       "variable_name": "combined_data"
      },
      "text/html": [
       "\n",
       "  <div id=\"df-56ab49fc-5914-4b8c-9465-b51647d67e22\" class=\"colab-df-container\">\n",
       "    <div>\n",
       "<style scoped>\n",
       "    .dataframe tbody tr th:only-of-type {\n",
       "        vertical-align: middle;\n",
       "    }\n",
       "\n",
       "    .dataframe tbody tr th {\n",
       "        vertical-align: top;\n",
       "    }\n",
       "\n",
       "    .dataframe thead th {\n",
       "        text-align: right;\n",
       "    }\n",
       "</style>\n",
       "<table border=\"1\" class=\"dataframe\">\n",
       "  <thead>\n",
       "    <tr style=\"text-align: right;\">\n",
       "      <th></th>\n",
       "      <th>job_id</th>\n",
       "      <th>title</th>\n",
       "      <th>processed_desc</th>\n",
       "      <th>job_skills</th>\n",
       "      <th>job_domain</th>\n",
       "      <th>skill_text</th>\n",
       "    </tr>\n",
       "  </thead>\n",
       "  <tbody>\n",
       "    <tr>\n",
       "      <th>73989</th>\n",
       "      <td>3902944011</td>\n",
       "      <td>Senior Automation Engineer - Power Systems</td>\n",
       "      <td>{'original': ['the', 'senior', 'automation', '...</td>\n",
       "      <td>[engineering, design, development, communicati...</td>\n",
       "      <td>[engineering, tech]</td>\n",
       "      <td>engineering design development communication a...</td>\n",
       "    </tr>\n",
       "    <tr>\n",
       "      <th>59308</th>\n",
       "      <td>3901960222</td>\n",
       "      <td>DISH Installation Technician - Field</td>\n",
       "      <td>{'original': ['company', 'summary', '\n",
       "\n",
       "', 'dis...</td>\n",
       "      <td>[leadership, installation]</td>\n",
       "      <td>[tech, business]</td>\n",
       "      <td>leadership installation</td>\n",
       "    </tr>\n",
       "    <tr>\n",
       "      <th>44663</th>\n",
       "      <td>3900944095</td>\n",
       "      <td>Order Builder</td>\n",
       "      <td>{'original': ['division', ':', 'north', 'alaba...</td>\n",
       "      <td>[management]</td>\n",
       "      <td>[tech, education, business]</td>\n",
       "      <td>management</td>\n",
       "    </tr>\n",
       "    <tr>\n",
       "      <th>81954</th>\n",
       "      <td>3903878594</td>\n",
       "      <td>Mountain Multimedia Journalist, KMGH</td>\n",
       "      <td>{'original': ['kmgh', ',', 'the', 'e.w', '.', ...</td>\n",
       "      <td>[aws, leadership]</td>\n",
       "      <td>[tech, business]</td>\n",
       "      <td>aws leadership</td>\n",
       "    </tr>\n",
       "    <tr>\n",
       "      <th>113151</th>\n",
       "      <td>3905670593</td>\n",
       "      <td>Licensed Practical Nurse (LPN)</td>\n",
       "      <td>{'original': ['come', 'for', 'the', 'flexibili...</td>\n",
       "      <td>[aws]</td>\n",
       "      <td>[tech]</td>\n",
       "      <td>aws</td>\n",
       "    </tr>\n",
       "  </tbody>\n",
       "</table>\n",
       "</div>\n",
       "    <div class=\"colab-df-buttons\">\n",
       "\n",
       "  <div class=\"colab-df-container\">\n",
       "    <button class=\"colab-df-convert\" onclick=\"convertToInteractive('df-56ab49fc-5914-4b8c-9465-b51647d67e22')\"\n",
       "            title=\"Convert this dataframe to an interactive table.\"\n",
       "            style=\"display:none;\">\n",
       "\n",
       "  <svg xmlns=\"http://www.w3.org/2000/svg\" height=\"24px\" viewBox=\"0 -960 960 960\">\n",
       "    <path d=\"M120-120v-720h720v720H120Zm60-500h600v-160H180v160Zm220 220h160v-160H400v160Zm0 220h160v-160H400v160ZM180-400h160v-160H180v160Zm440 0h160v-160H620v160ZM180-180h160v-160H180v160Zm440 0h160v-160H620v160Z\"/>\n",
       "  </svg>\n",
       "    </button>\n",
       "\n",
       "  <style>\n",
       "    .colab-df-container {\n",
       "      display:flex;\n",
       "      gap: 12px;\n",
       "    }\n",
       "\n",
       "    .colab-df-convert {\n",
       "      background-color: #E8F0FE;\n",
       "      border: none;\n",
       "      border-radius: 50%;\n",
       "      cursor: pointer;\n",
       "      display: none;\n",
       "      fill: #1967D2;\n",
       "      height: 32px;\n",
       "      padding: 0 0 0 0;\n",
       "      width: 32px;\n",
       "    }\n",
       "\n",
       "    .colab-df-convert:hover {\n",
       "      background-color: #E2EBFA;\n",
       "      box-shadow: 0px 1px 2px rgba(60, 64, 67, 0.3), 0px 1px 3px 1px rgba(60, 64, 67, 0.15);\n",
       "      fill: #174EA6;\n",
       "    }\n",
       "\n",
       "    .colab-df-buttons div {\n",
       "      margin-bottom: 4px;\n",
       "    }\n",
       "\n",
       "    [theme=dark] .colab-df-convert {\n",
       "      background-color: #3B4455;\n",
       "      fill: #D2E3FC;\n",
       "    }\n",
       "\n",
       "    [theme=dark] .colab-df-convert:hover {\n",
       "      background-color: #434B5C;\n",
       "      box-shadow: 0px 1px 3px 1px rgba(0, 0, 0, 0.15);\n",
       "      filter: drop-shadow(0px 1px 2px rgba(0, 0, 0, 0.3));\n",
       "      fill: #FFFFFF;\n",
       "    }\n",
       "  </style>\n",
       "\n",
       "    <script>\n",
       "      const buttonEl =\n",
       "        document.querySelector('#df-56ab49fc-5914-4b8c-9465-b51647d67e22 button.colab-df-convert');\n",
       "      buttonEl.style.display =\n",
       "        google.colab.kernel.accessAllowed ? 'block' : 'none';\n",
       "\n",
       "      async function convertToInteractive(key) {\n",
       "        const element = document.querySelector('#df-56ab49fc-5914-4b8c-9465-b51647d67e22');\n",
       "        const dataTable =\n",
       "          await google.colab.kernel.invokeFunction('convertToInteractive',\n",
       "                                                    [key], {});\n",
       "        if (!dataTable) return;\n",
       "\n",
       "        const docLinkHtml = 'Like what you see? Visit the ' +\n",
       "          '<a target=\"_blank\" href=https://colab.research.google.com/notebooks/data_table.ipynb>data table notebook</a>'\n",
       "          + ' to learn more about interactive tables.';\n",
       "        element.innerHTML = '';\n",
       "        dataTable['output_type'] = 'display_data';\n",
       "        await google.colab.output.renderOutput(dataTable, element);\n",
       "        const docLink = document.createElement('div');\n",
       "        docLink.innerHTML = docLinkHtml;\n",
       "        element.appendChild(docLink);\n",
       "      }\n",
       "    </script>\n",
       "  </div>\n",
       "\n",
       "\n",
       "    <div id=\"df-41af3c79-ccab-4151-88db-957fe4946756\">\n",
       "      <button class=\"colab-df-quickchart\" onclick=\"quickchart('df-41af3c79-ccab-4151-88db-957fe4946756')\"\n",
       "                title=\"Suggest charts\"\n",
       "                style=\"display:none;\">\n",
       "\n",
       "<svg xmlns=\"http://www.w3.org/2000/svg\" height=\"24px\"viewBox=\"0 0 24 24\"\n",
       "     width=\"24px\">\n",
       "    <g>\n",
       "        <path d=\"M19 3H5c-1.1 0-2 .9-2 2v14c0 1.1.9 2 2 2h14c1.1 0 2-.9 2-2V5c0-1.1-.9-2-2-2zM9 17H7v-7h2v7zm4 0h-2V7h2v10zm4 0h-2v-4h2v4z\"/>\n",
       "    </g>\n",
       "</svg>\n",
       "      </button>\n",
       "\n",
       "<style>\n",
       "  .colab-df-quickchart {\n",
       "      --bg-color: #E8F0FE;\n",
       "      --fill-color: #1967D2;\n",
       "      --hover-bg-color: #E2EBFA;\n",
       "      --hover-fill-color: #174EA6;\n",
       "      --disabled-fill-color: #AAA;\n",
       "      --disabled-bg-color: #DDD;\n",
       "  }\n",
       "\n",
       "  [theme=dark] .colab-df-quickchart {\n",
       "      --bg-color: #3B4455;\n",
       "      --fill-color: #D2E3FC;\n",
       "      --hover-bg-color: #434B5C;\n",
       "      --hover-fill-color: #FFFFFF;\n",
       "      --disabled-bg-color: #3B4455;\n",
       "      --disabled-fill-color: #666;\n",
       "  }\n",
       "\n",
       "  .colab-df-quickchart {\n",
       "    background-color: var(--bg-color);\n",
       "    border: none;\n",
       "    border-radius: 50%;\n",
       "    cursor: pointer;\n",
       "    display: none;\n",
       "    fill: var(--fill-color);\n",
       "    height: 32px;\n",
       "    padding: 0;\n",
       "    width: 32px;\n",
       "  }\n",
       "\n",
       "  .colab-df-quickchart:hover {\n",
       "    background-color: var(--hover-bg-color);\n",
       "    box-shadow: 0 1px 2px rgba(60, 64, 67, 0.3), 0 1px 3px 1px rgba(60, 64, 67, 0.15);\n",
       "    fill: var(--button-hover-fill-color);\n",
       "  }\n",
       "\n",
       "  .colab-df-quickchart-complete:disabled,\n",
       "  .colab-df-quickchart-complete:disabled:hover {\n",
       "    background-color: var(--disabled-bg-color);\n",
       "    fill: var(--disabled-fill-color);\n",
       "    box-shadow: none;\n",
       "  }\n",
       "\n",
       "  .colab-df-spinner {\n",
       "    border: 2px solid var(--fill-color);\n",
       "    border-color: transparent;\n",
       "    border-bottom-color: var(--fill-color);\n",
       "    animation:\n",
       "      spin 1s steps(1) infinite;\n",
       "  }\n",
       "\n",
       "  @keyframes spin {\n",
       "    0% {\n",
       "      border-color: transparent;\n",
       "      border-bottom-color: var(--fill-color);\n",
       "      border-left-color: var(--fill-color);\n",
       "    }\n",
       "    20% {\n",
       "      border-color: transparent;\n",
       "      border-left-color: var(--fill-color);\n",
       "      border-top-color: var(--fill-color);\n",
       "    }\n",
       "    30% {\n",
       "      border-color: transparent;\n",
       "      border-left-color: var(--fill-color);\n",
       "      border-top-color: var(--fill-color);\n",
       "      border-right-color: var(--fill-color);\n",
       "    }\n",
       "    40% {\n",
       "      border-color: transparent;\n",
       "      border-right-color: var(--fill-color);\n",
       "      border-top-color: var(--fill-color);\n",
       "    }\n",
       "    60% {\n",
       "      border-color: transparent;\n",
       "      border-right-color: var(--fill-color);\n",
       "    }\n",
       "    80% {\n",
       "      border-color: transparent;\n",
       "      border-right-color: var(--fill-color);\n",
       "      border-bottom-color: var(--fill-color);\n",
       "    }\n",
       "    90% {\n",
       "      border-color: transparent;\n",
       "      border-bottom-color: var(--fill-color);\n",
       "    }\n",
       "  }\n",
       "</style>\n",
       "\n",
       "      <script>\n",
       "        async function quickchart(key) {\n",
       "          const quickchartButtonEl =\n",
       "            document.querySelector('#' + key + ' button');\n",
       "          quickchartButtonEl.disabled = true;  // To prevent multiple clicks.\n",
       "          quickchartButtonEl.classList.add('colab-df-spinner');\n",
       "          try {\n",
       "            const charts = await google.colab.kernel.invokeFunction(\n",
       "                'suggestCharts', [key], {});\n",
       "          } catch (error) {\n",
       "            console.error('Error during call to suggestCharts:', error);\n",
       "          }\n",
       "          quickchartButtonEl.classList.remove('colab-df-spinner');\n",
       "          quickchartButtonEl.classList.add('colab-df-quickchart-complete');\n",
       "        }\n",
       "        (() => {\n",
       "          let quickchartButtonEl =\n",
       "            document.querySelector('#df-41af3c79-ccab-4151-88db-957fe4946756 button');\n",
       "          quickchartButtonEl.style.display =\n",
       "            google.colab.kernel.accessAllowed ? 'block' : 'none';\n",
       "        })();\n",
       "      </script>\n",
       "    </div>\n",
       "\n",
       "    </div>\n",
       "  </div>\n"
      ],
      "text/plain": [
       "            job_id                                       title  \\\n",
       "73989   3902944011  Senior Automation Engineer - Power Systems   \n",
       "59308   3901960222        DISH Installation Technician - Field   \n",
       "44663   3900944095                               Order Builder   \n",
       "81954   3903878594        Mountain Multimedia Journalist, KMGH   \n",
       "113151  3905670593              Licensed Practical Nurse (LPN)   \n",
       "\n",
       "                                           processed_desc  \\\n",
       "73989   {'original': ['the', 'senior', 'automation', '...   \n",
       "59308   {'original': ['company', 'summary', '\n",
       "\n",
       "', 'dis...   \n",
       "44663   {'original': ['division', ':', 'north', 'alaba...   \n",
       "81954   {'original': ['kmgh', ',', 'the', 'e.w', '.', ...   \n",
       "113151  {'original': ['come', 'for', 'the', 'flexibili...   \n",
       "\n",
       "                                               job_skills  \\\n",
       "73989   [engineering, design, development, communicati...   \n",
       "59308                          [leadership, installation]   \n",
       "44663                                        [management]   \n",
       "81954                                   [aws, leadership]   \n",
       "113151                                              [aws]   \n",
       "\n",
       "                         job_domain  \\\n",
       "73989           [engineering, tech]   \n",
       "59308              [tech, business]   \n",
       "44663   [tech, education, business]   \n",
       "81954              [tech, business]   \n",
       "113151                       [tech]   \n",
       "\n",
       "                                               skill_text  \n",
       "73989   engineering design development communication a...  \n",
       "59308                             leadership installation  \n",
       "44663                                          management  \n",
       "81954                                      aws leadership  \n",
       "113151                                                aws  "
      ]
     },
     "execution_count": 27,
     "metadata": {},
     "output_type": "execute_result"
    }
   ],
   "source": [
    "combined_data.head()"
   ]
  },
  {
   "cell_type": "code",
   "execution_count": null,
   "id": "2NkCSatbGzcS",
   "metadata": {
    "colab": {
     "base_uri": "https://localhost:8080/",
     "height": 272
    },
    "id": "2NkCSatbGzcS",
    "outputId": "71383a81-782f-490f-dd4f-f99fa16d6bd3"
   },
   "outputs": [
    {
     "data": {
      "text/html": [
       "<div>\n",
       "<style scoped>\n",
       "    .dataframe tbody tr th:only-of-type {\n",
       "        vertical-align: middle;\n",
       "    }\n",
       "\n",
       "    .dataframe tbody tr th {\n",
       "        vertical-align: top;\n",
       "    }\n",
       "\n",
       "    .dataframe thead th {\n",
       "        text-align: right;\n",
       "    }\n",
       "</style>\n",
       "<table border=\"1\" class=\"dataframe\">\n",
       "  <thead>\n",
       "    <tr style=\"text-align: right;\">\n",
       "      <th></th>\n",
       "      <th>0</th>\n",
       "    </tr>\n",
       "  </thead>\n",
       "  <tbody>\n",
       "    <tr>\n",
       "      <th>job_id</th>\n",
       "      <td>0</td>\n",
       "    </tr>\n",
       "    <tr>\n",
       "      <th>title</th>\n",
       "      <td>0</td>\n",
       "    </tr>\n",
       "    <tr>\n",
       "      <th>processed_desc</th>\n",
       "      <td>0</td>\n",
       "    </tr>\n",
       "    <tr>\n",
       "      <th>job_skills</th>\n",
       "      <td>0</td>\n",
       "    </tr>\n",
       "    <tr>\n",
       "      <th>job_domain</th>\n",
       "      <td>0</td>\n",
       "    </tr>\n",
       "    <tr>\n",
       "      <th>skill_text</th>\n",
       "      <td>0</td>\n",
       "    </tr>\n",
       "  </tbody>\n",
       "</table>\n",
       "</div><br><label><b>dtype:</b> int64</label>"
      ],
      "text/plain": [
       "job_id            0\n",
       "title             0\n",
       "processed_desc    0\n",
       "job_skills        0\n",
       "job_domain        0\n",
       "skill_text        0\n",
       "dtype: int64"
      ]
     },
     "execution_count": 28,
     "metadata": {},
     "output_type": "execute_result"
    }
   ],
   "source": [
    "combined_data.isnull().sum()"
   ]
  },
  {
   "cell_type": "markdown",
   "id": "wHBDYIoZkT1b",
   "metadata": {
    "id": "wHBDYIoZkT1b"
   },
   "source": [
    "## <b> What are the most common job domains?"
   ]
  },
  {
   "cell_type": "code",
   "execution_count": null,
   "id": "eMRpZyaUtzYE",
   "metadata": {
    "colab": {
     "base_uri": "https://localhost:8080/",
     "height": 594
    },
    "id": "eMRpZyaUtzYE",
    "outputId": "66facc72-5460-4bbb-9d1f-247dfe69dce3"
   },
   "outputs": [
    {
     "name": "stderr",
     "output_type": "stream",
     "text": [
      "<ipython-input-60-6aa8412d8fca>:8: FutureWarning: \n",
      "\n",
      "Passing `palette` without assigning `hue` is deprecated and will be removed in v0.14.0. Assign the `y` variable to `hue` and set `legend=False` for the same effect.\n",
      "\n",
      "  sns.countplot(y=domain_counts, order=domain_counts.value_counts().index, palette=\"crest\")\n"
     ]
    },
    {
     "data": {
      "image/png": "[encoded data removed]",
      "text/plain": [
       "<Figure size 1000x500 with 1 Axes>"
      ]
     },
     "metadata": {},
     "output_type": "display_data"
    }
   ],
   "source": [
    "# Ensure all values in job_domain are lists\n",
    "combined_data['job_domain'] = combined_data['job_domain'].apply(lambda x: x if isinstance(x, list) else [])\n",
    "\n",
    "domain_counts = pd.Series([d for sublist in combined_data['job_domain'] for d in sublist])\n",
    "\n",
    "# Plot\n",
    "plt.figure(figsize=(10, 5))\n",
    "sns.countplot(y=domain_counts, order=domain_counts.value_counts().index, palette=\"crest\")\n",
    "plt.title(\"Job Domain Frequency\")\n",
    "plt.xlabel(\"Count\")\n",
    "plt.ylabel(\"Domain\")\n",
    "plt.tight_layout()\n",
    "plt.show()\n"
   ]
  },
  {
   "cell_type": "code",
   "execution_count": null,
   "id": "7R9HzQlMtv5A",
   "metadata": {
    "colab": {
     "base_uri": "https://localhost:8080/"
    },
    "id": "7R9HzQlMtv5A",
    "outputId": "bc0b5514-5e90-42db-fb05-83dfc414304b"
   },
   "outputs": [
    {
     "name": "stdout",
     "output_type": "stream",
     "text": [
      "<class 'pandas.core.series.Series'>\n"
     ]
    }
   ],
   "source": [
    "\n",
    "print(type(combined_data['job_skills']))\n"
   ]
  },
  {
   "cell_type": "markdown",
   "id": "o3AiHwGomqzq",
   "metadata": {
    "id": "o3AiHwGomqzq"
   },
   "source": [
    "## LABEL BINARIZATION"
   ]
  },
  {
   "cell_type": "code",
   "execution_count": null,
   "id": "J1VUiVPqtd2B",
   "metadata": {
    "id": "J1VUiVPqtd2B"
   },
   "outputs": [],
   "source": [
    "# Convert list of job domains into multi-hot encoded format\n",
    "combined_data['job_domain'] = combined_data['job_domain'].apply(\n",
    "    lambda x: x if isinstance(x, list) else []\n",
    ")\n",
    "\n",
    "y_raw = mlb.fit_transform(combined_data['job_domain'])\n",
    "\n"
   ]
  },
  {
   "cell_type": "code",
   "execution_count": null,
   "id": "BZQA30NO4n8D",
   "metadata": {
    "id": "BZQA30NO4n8D"
   },
   "outputs": [],
   "source": [
    "# Address class imbalance using class weights\n",
    "from sklearn.utils.class_weight import compute_class_weight\n",
    "from sklearn.preprocessing import LabelBinarizer\n",
    "\n",
    "# Compute weights for each class\n",
    "class_weights = {}\n",
    "for i, class_name in enumerate(mlb.classes_):\n",
    "    binary_labels = y_raw[:, i]\n",
    "    weights = compute_class_weight(\n",
    "        class_weight='balanced',\n",
    "        classes=np.array([0, 1]),\n",
    "        y=binary_labels\n",
    "    )\n",
    "    class_weights[i] = {0: weights[0], 1: weights[1]}\n",
    "\n",
    "y = y_raw"
   ]
  },
  {
   "cell_type": "code",
   "execution_count": null,
   "id": "GPa37BGAyVvC",
   "metadata": {
    "colab": {
     "base_uri": "https://localhost:8080/"
    },
    "id": "GPa37BGAyVvC",
    "outputId": "62ee33dc-9631-4be1-f298-b2f23b01e236"
   },
   "outputs": [
    {
     "name": "stdout",
     "output_type": "stream",
     "text": [
      "                                               job_skills  \\\n",
      "73989   [engineering, design, development, communicati...   \n",
      "59308                          [leadership, installation]   \n",
      "44663                                        [management]   \n",
      "81954                                   [aws, leadership]   \n",
      "113151                                              [aws]   \n",
      "\n",
      "                                               skill_text  \n",
      "73989   engineering design development communication a...  \n",
      "59308                             leadership installation  \n",
      "44663                                          management  \n",
      "81954                                      aws leadership  \n",
      "113151                                                aws  \n"
     ]
    }
   ],
   "source": [
    "print(combined_data[['job_skills', 'skill_text']].head())\n"
   ]
  },
  {
   "cell_type": "markdown",
   "id": "ylQEoABAm3yY",
   "metadata": {
    "id": "ylQEoABAm3yY"
   },
   "source": [
    "## TF-IDF FEATURE EXTRACTION"
   ]
  },
  {
   "cell_type": "code",
   "execution_count": null,
   "id": "mcecQE_7ybRm",
   "metadata": {
    "id": "mcecQE_7ybRm"
   },
   "outputs": [],
   "source": [
    "# Convert skill text into TF-IDF features\n",
    "vectorizer = TfidfVectorizer(binary=True)\n",
    "X = vectorizer.fit_transform(combined_data['skill_text'])"
   ]
  },
  {
   "cell_type": "markdown",
   "id": "SGqFuhjWnI9W",
   "metadata": {
    "id": "SGqFuhjWnI9W"
   },
   "source": [
    "## TRAIN-TEST SPLIT"
   ]
  },
  {
   "cell_type": "code",
   "execution_count": null,
   "id": "qCFMq7OPyl4q",
   "metadata": {
    "id": "qCFMq7OPyl4q"
   },
   "outputs": [],
   "source": [
    "X_train, X_test, y_train, y_test = train_test_split(X, y, test_size=0.2, random_state=42)"
   ]
  },
  {
   "cell_type": "markdown",
   "id": "8v2W1JwBnVWl",
   "metadata": {
    "id": "8v2W1JwBnVWl"
   },
   "source": [
    "## <b>Compare models</b>\n",
    "GRID SEARCH: MODEL TUNING"
   ]
  },
  {
   "cell_type": "code",
   "execution_count": null,
   "id": "Z5yPaOYZ5ERz",
   "metadata": {
    "id": "Z5yPaOYZ5ERz"
   },
   "outputs": [],
   "source": [
    "# Tune multiple models and store best estimators\n",
    "tuned_models = {}"
   ]
  },
  {
   "cell_type": "markdown",
   "id": "344NvDDk9nz8",
   "metadata": {
    "id": "344NvDDk9nz8"
   },
   "source": [
    " ## **XGBoost**"
   ]
  },
  {
   "cell_type": "code",
   "execution_count": null,
   "id": "0Z7j46dN9MG3",
   "metadata": {
    "colab": {
     "base_uri": "https://localhost:8080/"
    },
    "id": "0Z7j46dN9MG3",
    "outputId": "827a56b6-3a1c-465f-9b7d-aa32533b4217"
   },
   "outputs": [
    {
     "name": "stderr",
     "output_type": "stream",
     "text": [
      "/usr/local/lib/python3.11/dist-packages/xgboost/core.py:158: UserWarning: [07:55:56] WARNING: /workspace/src/learner.cc:740: \n",
      "Parameters: { \"use_label_encoder\" } are not used.\n",
      "\n",
      "  warnings.warn(smsg, UserWarning)\n",
      "/usr/local/lib/python3.11/dist-packages/xgboost/core.py:158: UserWarning: [07:55:57] WARNING: /workspace/src/learner.cc:740: \n",
      "Parameters: { \"use_label_encoder\" } are not used.\n",
      "\n",
      "  warnings.warn(smsg, UserWarning)\n",
      "/usr/local/lib/python3.11/dist-packages/xgboost/core.py:158: UserWarning: [07:55:58] WARNING: /workspace/src/learner.cc:740: \n",
      "Parameters: { \"use_label_encoder\" } are not used.\n",
      "\n",
      "  warnings.warn(smsg, UserWarning)\n",
      "/usr/local/lib/python3.11/dist-packages/xgboost/core.py:158: UserWarning: [07:55:59] WARNING: /workspace/src/learner.cc:740: \n",
      "Parameters: { \"use_label_encoder\" } are not used.\n",
      "\n",
      "  warnings.warn(smsg, UserWarning)\n",
      "/usr/local/lib/python3.11/dist-packages/xgboost/core.py:158: UserWarning: [07:56:00] WARNING: /workspace/src/learner.cc:740: \n",
      "Parameters: { \"use_label_encoder\" } are not used.\n",
      "\n",
      "  warnings.warn(smsg, UserWarning)\n"
     ]
    }
   ],
   "source": [
    "param_xgb = {'estimator__n_estimators': [100, 200], 'estimator__max_depth': [3, 5], 'estimator__learning_rate': [0.05, 0.1]}\n",
    "grid_xgb = GridSearchCV(OneVsRestClassifier(XGBClassifier(use_label_encoder=False, eval_metric='logloss')), param_grid=param_xgb, cv=3, scoring='f1_micro', n_jobs=-1)\n",
    "grid_xgb.fit(X_train, y_train)\n",
    "tuned_models['XGBoost'] = grid_xgb.best_estimator_"
   ]
  },
  {
   "cell_type": "markdown",
   "id": "CcLLuAtN9rCL",
   "metadata": {
    "id": "CcLLuAtN9rCL"
   },
   "source": [
    "## **Logistic Regression**"
   ]
  },
  {
   "cell_type": "code",
   "execution_count": null,
   "id": "ObHGrFEK9eid",
   "metadata": {
    "id": "ObHGrFEK9eid"
   },
   "outputs": [],
   "source": [
    "param_logreg = {'estimator__C': [0.1, 1, 10], 'estimator__penalty': ['l2'], 'estimator__solver': ['lbfgs']}\n",
    "grid_logreg = GridSearchCV(OneVsRestClassifier(LogisticRegression(max_iter=1000)), param_grid=param_logreg, cv=3, scoring='f1_micro', n_jobs=-1)\n",
    "grid_logreg.fit(X_train, y_train)\n",
    "tuned_models['Logistic Regression'] = grid_logreg.best_estimator_"
   ]
  },
  {
   "cell_type": "markdown",
   "id": "BU6vFz4G9vM1",
   "metadata": {
    "id": "BU6vFz4G9vM1"
   },
   "source": [
    "## **Random Forest**"
   ]
  },
  {
   "cell_type": "code",
   "execution_count": null,
   "id": "lxpjyNsF9emd",
   "metadata": {
    "id": "lxpjyNsF9emd"
   },
   "outputs": [],
   "source": [
    "param_rf = {'estimator__n_estimators': [100, 200], 'estimator__max_depth': [None, 20], 'estimator__min_samples_split': [2, 5]}\n",
    "grid_rf = GridSearchCV(OneVsRestClassifier(RandomForestClassifier()), param_grid=param_rf, cv=3, scoring='f1_micro', n_jobs=-1)\n",
    "grid_rf.fit(X_train, y_train)\n",
    "tuned_models['Random Forest'] = grid_rf.best_estimator_"
   ]
  },
  {
   "cell_type": "markdown",
   "id": "fpWclsfH9zS1",
   "metadata": {
    "id": "fpWclsfH9zS1"
   },
   "source": [
    "## **Naive Bayes**"
   ]
  },
  {
   "cell_type": "code",
   "execution_count": null,
   "id": "rjm7jFsI9iPA",
   "metadata": {
    "id": "rjm7jFsI9iPA"
   },
   "outputs": [],
   "source": [
    "nb = OneVsRestClassifier(MultinomialNB())\n",
    "nb.fit(X_train, y_train)\n",
    "tuned_models['Naive Bayes'] = nb"
   ]
  },
  {
   "cell_type": "code",
   "execution_count": null,
   "id": "5c1WEpbLz8bz",
   "metadata": {
    "colab": {
     "base_uri": "https://localhost:8080/"
    },
    "id": "5c1WEpbLz8bz",
    "outputId": "a22687ee-1cfb-451f-bd90-037fe1b7cb3d"
   },
   "outputs": [
    {
     "data": {
      "text/plain": [
       "{'XGBoost': OneVsRestClassifier(estimator=XGBClassifier(base_score=None, booster=None,\n",
       "                                             callbacks=None,\n",
       "                                             colsample_bylevel=None,\n",
       "                                             colsample_bynode=None,\n",
       "                                             colsample_bytree=None, device=None,\n",
       "                                             early_stopping_rounds=None,\n",
       "                                             enable_categorical=False,\n",
       "                                             eval_metric='logloss',\n",
       "                                             feature_types=None, gamma=None,\n",
       "                                             grow_policy=None,\n",
       "                                             importance_type=None,\n",
       "                                             interaction_constraints=None,\n",
       "                                             learning_rate=0.05, max_bin=None,\n",
       "                                             max_cat_threshold=None,\n",
       "                                             max_cat_to_onehot=None,\n",
       "                                             max_delta_step=None, max_depth=5,\n",
       "                                             max_leaves=None,\n",
       "                                             min_child_weight=None, missing=nan,\n",
       "                                             monotone_constraints=None,\n",
       "                                             multi_strategy=None,\n",
       "                                             n_estimators=200, n_jobs=None,\n",
       "                                             num_parallel_tree=None,\n",
       "                                             random_state=None, ...)),\n",
       " 'Logistic Regression': OneVsRestClassifier(estimator=LogisticRegression(C=10, max_iter=1000)),\n",
       " 'Random Forest': OneVsRestClassifier(estimator=RandomForestClassifier(min_samples_split=5)),\n",
       " 'Naive Bayes': OneVsRestClassifier(estimator=MultinomialNB())}"
      ]
     },
     "execution_count": 72,
     "metadata": {},
     "output_type": "execute_result"
    }
   ],
   "source": [
    "tuned_models"
   ]
  },
  {
   "cell_type": "markdown",
   "id": "o0-knlEtn724",
   "metadata": {
    "id": "o0-knlEtn724"
   },
   "source": [
    "## <b> MODEL COMPARISON"
   ]
  },
  {
   "cell_type": "code",
   "execution_count": null,
   "id": "OQ0IQKlR5IVh",
   "metadata": {
    "colab": {
     "base_uri": "https://localhost:8080/",
     "height": 1000
    },
    "id": "OQ0IQKlR5IVh",
    "outputId": "76a9ddae-4dcf-4018-ab61-8e0b91236fd8"
   },
   "outputs": [
    {
     "name": "stdout",
     "output_type": "stream",
     "text": [
      "\n",
      "XGBoost Report:\n",
      "\n",
      "               precision    recall  f1-score   support\n",
      "\n",
      "     business       1.00      1.00      1.00       362\n",
      " construction       0.00      0.00      0.00        35\n",
      "    education       0.50      0.28      0.36       222\n",
      "  engineering       1.00      1.00      1.00       105\n",
      "      finance       0.42      0.10      0.16        50\n",
      "   government       0.00      0.00      0.00        41\n",
      "   healthcare       0.33      0.02      0.04        86\n",
      "  hospitality       0.00      0.00      0.00        15\n",
      "        legal       0.25      0.01      0.02        94\n",
      "manufacturing       0.46      0.09      0.15        65\n",
      "    marketing       1.00      1.00      1.00        73\n",
      "       retail       0.56      0.18      0.28        76\n",
      "        sales       1.00      1.00      1.00       170\n",
      "         tech       0.91      0.70      0.79       356\n",
      "\n",
      "    micro avg       0.89      0.60      0.72      1750\n",
      "    macro avg       0.53      0.39      0.42      1750\n",
      " weighted avg       0.74      0.60      0.64      1750\n",
      "  samples avg       0.73      0.55      0.60      1750\n",
      "\n",
      "\n",
      "Logistic Regression Report:\n",
      "\n",
      "               precision    recall  f1-score   support\n",
      "\n",
      "     business       1.00      1.00      1.00       362\n",
      " construction       0.00      0.00      0.00        35\n",
      "    education       0.55      0.22      0.31       222\n",
      "  engineering       1.00      1.00      1.00       105\n",
      "      finance       0.00      0.00      0.00        50\n",
      "   government       0.00      0.00      0.00        41\n",
      "   healthcare       0.00      0.00      0.00        86\n",
      "  hospitality       0.00      0.00      0.00        15\n",
      "        legal       0.00      0.00      0.00        94\n",
      "manufacturing       0.00      0.00      0.00        65\n",
      "    marketing       1.00      1.00      1.00        73\n",
      "       retail       0.00      0.00      0.00        76\n",
      "        sales       1.00      0.99      1.00       170\n",
      "         tech       0.90      0.69      0.78       356\n",
      "\n",
      "    micro avg       0.94      0.57      0.71      1750\n",
      "    macro avg       0.39      0.35      0.36      1750\n",
      " weighted avg       0.66      0.57      0.60      1750\n",
      "  samples avg       0.76      0.52      0.60      1750\n",
      "\n"
     ]
    },
    {
     "name": "stderr",
     "output_type": "stream",
     "text": [
      "/usr/local/lib/python3.11/dist-packages/sklearn/metrics/_classification.py:1565: UndefinedMetricWarning: Precision is ill-defined and being set to 0.0 in samples with no predicted labels. Use `zero_division` parameter to control this behavior.\n",
      "  _warn_prf(average, modifier, f\"{metric.capitalize()} is\", len(result))\n",
      "/usr/local/lib/python3.11/dist-packages/sklearn/metrics/_classification.py:1565: UndefinedMetricWarning: Recall is ill-defined and being set to 0.0 in samples with no true labels. Use `zero_division` parameter to control this behavior.\n",
      "  _warn_prf(average, modifier, f\"{metric.capitalize()} is\", len(result))\n",
      "/usr/local/lib/python3.11/dist-packages/sklearn/metrics/_classification.py:1565: UndefinedMetricWarning: F-score is ill-defined and being set to 0.0 in samples with no true nor predicted labels. Use `zero_division` parameter to control this behavior.\n",
      "  _warn_prf(average, modifier, f\"{metric.capitalize()} is\", len(result))\n",
      "/usr/local/lib/python3.11/dist-packages/sklearn/metrics/_classification.py:1565: UndefinedMetricWarning: Precision is ill-defined and being set to 0.0 in labels with no predicted samples. Use `zero_division` parameter to control this behavior.\n",
      "  _warn_prf(average, modifier, f\"{metric.capitalize()} is\", len(result))\n",
      "/usr/local/lib/python3.11/dist-packages/sklearn/metrics/_classification.py:1565: UndefinedMetricWarning: Precision is ill-defined and being set to 0.0 in samples with no predicted labels. Use `zero_division` parameter to control this behavior.\n",
      "  _warn_prf(average, modifier, f\"{metric.capitalize()} is\", len(result))\n",
      "/usr/local/lib/python3.11/dist-packages/sklearn/metrics/_classification.py:1565: UndefinedMetricWarning: Recall is ill-defined and being set to 0.0 in samples with no true labels. Use `zero_division` parameter to control this behavior.\n",
      "  _warn_prf(average, modifier, f\"{metric.capitalize()} is\", len(result))\n",
      "/usr/local/lib/python3.11/dist-packages/sklearn/metrics/_classification.py:1565: UndefinedMetricWarning: F-score is ill-defined and being set to 0.0 in samples with no true nor predicted labels. Use `zero_division` parameter to control this behavior.\n",
      "  _warn_prf(average, modifier, f\"{metric.capitalize()} is\", len(result))\n"
     ]
    },
    {
     "name": "stdout",
     "output_type": "stream",
     "text": [
      "\n",
      "Random Forest Report:\n",
      "\n",
      "               precision    recall  f1-score   support\n",
      "\n",
      "     business       1.00      1.00      1.00       362\n",
      " construction       0.00      0.00      0.00        35\n",
      "    education       0.45      0.31      0.37       222\n",
      "  engineering       1.00      1.00      1.00       105\n",
      "      finance       0.27      0.06      0.10        50\n",
      "   government       0.19      0.07      0.11        41\n",
      "   healthcare       0.32      0.08      0.13        86\n",
      "  hospitality       0.00      0.00      0.00        15\n",
      "        legal       0.28      0.05      0.09        94\n",
      "manufacturing       0.50      0.12      0.20        65\n",
      "    marketing       1.00      1.00      1.00        73\n",
      "       retail       0.52      0.16      0.24        76\n",
      "        sales       1.00      1.00      1.00       170\n",
      "         tech       0.88      0.73      0.80       356\n",
      "\n",
      "    micro avg       0.85      0.62      0.71      1750\n",
      "    macro avg       0.53      0.40      0.43      1750\n",
      " weighted avg       0.73      0.62      0.65      1750\n",
      "  samples avg       0.71      0.56      0.60      1750\n",
      "\n",
      "\n",
      "Naive Bayes Report:\n",
      "\n",
      "               precision    recall  f1-score   support\n",
      "\n",
      "     business       0.73      0.98      0.84       362\n",
      " construction       0.00      0.00      0.00        35\n",
      "    education       1.00      0.00      0.01       222\n",
      "  engineering       0.97      0.93      0.95       105\n",
      "      finance       0.00      0.00      0.00        50\n",
      "   government       0.00      0.00      0.00        41\n",
      "   healthcare       0.00      0.00      0.00        86\n",
      "  hospitality       0.00      0.00      0.00        15\n",
      "        legal       0.00      0.00      0.00        94\n",
      "manufacturing       0.00      0.00      0.00        65\n",
      "    marketing       1.00      0.96      0.98        73\n",
      "       retail       0.00      0.00      0.00        76\n",
      "        sales       1.00      0.99      0.99       170\n",
      "         tech       0.71      0.78      0.74       356\n",
      "\n",
      "    micro avg       0.80      0.55      0.65      1750\n",
      "    macro avg       0.39      0.33      0.32      1750\n",
      " weighted avg       0.62      0.55      0.52      1750\n",
      "  samples avg       0.76      0.53      0.60      1750\n",
      "\n"
     ]
    },
    {
     "name": "stderr",
     "output_type": "stream",
     "text": [
      "/usr/local/lib/python3.11/dist-packages/sklearn/metrics/_classification.py:1565: UndefinedMetricWarning: Precision is ill-defined and being set to 0.0 in samples with no predicted labels. Use `zero_division` parameter to control this behavior.\n",
      "  _warn_prf(average, modifier, f\"{metric.capitalize()} is\", len(result))\n",
      "/usr/local/lib/python3.11/dist-packages/sklearn/metrics/_classification.py:1565: UndefinedMetricWarning: Recall is ill-defined and being set to 0.0 in samples with no true labels. Use `zero_division` parameter to control this behavior.\n",
      "  _warn_prf(average, modifier, f\"{metric.capitalize()} is\", len(result))\n",
      "/usr/local/lib/python3.11/dist-packages/sklearn/metrics/_classification.py:1565: UndefinedMetricWarning: F-score is ill-defined and being set to 0.0 in samples with no true nor predicted labels. Use `zero_division` parameter to control this behavior.\n",
      "  _warn_prf(average, modifier, f\"{metric.capitalize()} is\", len(result))\n",
      "/usr/local/lib/python3.11/dist-packages/sklearn/metrics/_classification.py:1565: UndefinedMetricWarning: Precision is ill-defined and being set to 0.0 in labels with no predicted samples. Use `zero_division` parameter to control this behavior.\n",
      "  _warn_prf(average, modifier, f\"{metric.capitalize()} is\", len(result))\n",
      "/usr/local/lib/python3.11/dist-packages/sklearn/metrics/_classification.py:1565: UndefinedMetricWarning: Precision is ill-defined and being set to 0.0 in samples with no predicted labels. Use `zero_division` parameter to control this behavior.\n",
      "  _warn_prf(average, modifier, f\"{metric.capitalize()} is\", len(result))\n",
      "/usr/local/lib/python3.11/dist-packages/sklearn/metrics/_classification.py:1565: UndefinedMetricWarning: Recall is ill-defined and being set to 0.0 in samples with no true labels. Use `zero_division` parameter to control this behavior.\n",
      "  _warn_prf(average, modifier, f\"{metric.capitalize()} is\", len(result))\n",
      "/usr/local/lib/python3.11/dist-packages/sklearn/metrics/_classification.py:1565: UndefinedMetricWarning: F-score is ill-defined and being set to 0.0 in samples with no true nor predicted labels. Use `zero_division` parameter to control this behavior.\n",
      "  _warn_prf(average, modifier, f\"{metric.capitalize()} is\", len(result))\n"
     ]
    },
    {
     "data": {
      "image/png": "[encoded data removed]",
      "text/plain": [
       "<Figure size 1200x600 with 1 Axes>"
      ]
     },
     "metadata": {},
     "output_type": "display_data"
    }
   ],
   "source": [
    "# Evaluate and compare model performance across multiple metrics\n",
    "results = []\n",
    "for name, model in tuned_models.items():\n",
    "    pred = model.predict(X_test)\n",
    "    acc = accuracy_score(y_test, pred)\n",
    "    f1_micro = f1_score(y_test, pred, average='micro')\n",
    "    h_loss = hamming_loss(y_test, pred)\n",
    "    results.append({'Model': name, 'Subset Accuracy': acc, 'F1-Micro': f1_micro, 'Hamming Loss': h_loss})\n",
    "    print(f\"\\n{name} Report:\\n\")\n",
    "    print(classification_report(y_test, pred, target_names=mlb.classes_))\n",
    "\n",
    "# Plot model comparison - Focused on F1-Micro and Hamming Loss\n",
    "results_df = pd.DataFrame(results)\n",
    "ax = results_df.set_index('Model')[['F1-Micro', 'Hamming Loss']].plot(kind='bar', figsize=(12,6), title='Tuned Model Comparison', rot=0, color=['#79aec8', '#f4a582'])\n",
    "plt.ylabel('Score')\n",
    "\n",
    "# Add value labels on top of bars\n",
    "for container in ax.containers:\n",
    "    ax.bar_label(container, fmt='%.3f', label_type='edge', fontsize=9)\n",
    "\n",
    "plt.tight_layout()\n",
    "plt.show()"
   ]
  },
  {
   "cell_type": "markdown",
   "id": "MPlcln5mfLpS",
   "metadata": {
    "id": "MPlcln5mfLpS"
   },
   "source": [
    "XGBoost is the best-balanced model for this multi-label classification task, with strong scores across accuracy, precision/recall, and error rate."
   ]
  },
  {
   "cell_type": "code",
   "execution_count": null,
   "id": "06_TycsPGFZm",
   "metadata": {
    "colab": {
     "base_uri": "https://localhost:8080/",
     "height": 174
    },
    "id": "06_TycsPGFZm",
    "outputId": "a1a768de-a536-495f-8fb5-0888843f4f89"
   },
   "outputs": [
    {
     "data": {
      "application/vnd.google.colaboratory.intrinsic+json": {
       "summary": "{\n  \"name\": \"results_df\",\n  \"rows\": 4,\n  \"fields\": [\n    {\n      \"column\": \"Model\",\n      \"properties\": {\n        \"dtype\": \"string\",\n        \"num_unique_values\": 4,\n        \"samples\": [\n          \"Logistic Regression\",\n          \"Naive Bayes\",\n          \"XGBoost\"\n        ],\n        \"semantic_type\": \"\",\n        \"description\": \"\"\n      }\n    },\n    {\n      \"column\": \"Subset Accuracy\",\n      \"properties\": {\n        \"dtype\": \"number\",\n        \"std\": 0.038514066694304475,\n        \"min\": 0.16,\n        \"max\": 0.245,\n        \"num_unique_values\": 4,\n        \"samples\": [\n          0.22666666666666666,\n          0.16,\n          0.245\n        ],\n        \"semantic_type\": \"\",\n        \"description\": \"\"\n      }\n    },\n    {\n      \"column\": \"F1-Micro\",\n      \"properties\": {\n        \"dtype\": \"number\",\n        \"std\": 0.03014565135689183,\n        \"min\": 0.6538591169531514,\n        \"max\": 0.7176510754523728,\n        \"num_unique_values\": 4,\n        \"samples\": [\n          0.7106851260205893,\n          0.6538591169531514,\n          0.7176510754523728\n        ],\n        \"semantic_type\": \"\",\n        \"description\": \"\"\n      }\n    },\n    {\n      \"column\": \"Hamming Loss\",\n      \"properties\": {\n        \"dtype\": \"number\",\n        \"std\": 0.011668083814156458,\n        \"min\": 0.09702380952380953,\n        \"max\": 0.12226190476190477,\n        \"num_unique_values\": 4,\n        \"samples\": [\n          0.09702380952380953,\n          0.12226190476190477,\n          0.09845238095238096\n        ],\n        \"semantic_type\": \"\",\n        \"description\": \"\"\n      }\n    }\n  ]\n}",
       "type": "dataframe",
       "variable_name": "results_df"
      },
      "text/html": [
       "\n",
       "  <div id=\"df-ef8236ca-6c67-4d27-998a-11524043f387\" class=\"colab-df-container\">\n",
       "    <div>\n",
       "<style scoped>\n",
       "    .dataframe tbody tr th:only-of-type {\n",
       "        vertical-align: middle;\n",
       "    }\n",
       "\n",
       "    .dataframe tbody tr th {\n",
       "        vertical-align: top;\n",
       "    }\n",
       "\n",
       "    .dataframe thead th {\n",
       "        text-align: right;\n",
       "    }\n",
       "</style>\n",
       "<table border=\"1\" class=\"dataframe\">\n",
       "  <thead>\n",
       "    <tr style=\"text-align: right;\">\n",
       "      <th></th>\n",
       "      <th>Model</th>\n",
       "      <th>Subset Accuracy</th>\n",
       "      <th>F1-Micro</th>\n",
       "      <th>Hamming Loss</th>\n",
       "    </tr>\n",
       "  </thead>\n",
       "  <tbody>\n",
       "    <tr>\n",
       "      <th>0</th>\n",
       "      <td>XGBoost</td>\n",
       "      <td>0.245000</td>\n",
       "      <td>0.717651</td>\n",
       "      <td>0.098452</td>\n",
       "    </tr>\n",
       "    <tr>\n",
       "      <th>1</th>\n",
       "      <td>Logistic Regression</td>\n",
       "      <td>0.226667</td>\n",
       "      <td>0.710685</td>\n",
       "      <td>0.097024</td>\n",
       "    </tr>\n",
       "    <tr>\n",
       "      <th>2</th>\n",
       "      <td>Random Forest</td>\n",
       "      <td>0.235000</td>\n",
       "      <td>0.713291</td>\n",
       "      <td>0.102976</td>\n",
       "    </tr>\n",
       "    <tr>\n",
       "      <th>3</th>\n",
       "      <td>Naive Bayes</td>\n",
       "      <td>0.160000</td>\n",
       "      <td>0.653859</td>\n",
       "      <td>0.122262</td>\n",
       "    </tr>\n",
       "  </tbody>\n",
       "</table>\n",
       "</div>\n",
       "    <div class=\"colab-df-buttons\">\n",
       "\n",
       "  <div class=\"colab-df-container\">\n",
       "    <button class=\"colab-df-convert\" onclick=\"convertToInteractive('df-ef8236ca-6c67-4d27-998a-11524043f387')\"\n",
       "            title=\"Convert this dataframe to an interactive table.\"\n",
       "            style=\"display:none;\">\n",
       "\n",
       "  <svg xmlns=\"http://www.w3.org/2000/svg\" height=\"24px\" viewBox=\"0 -960 960 960\">\n",
       "    <path d=\"M120-120v-720h720v720H120Zm60-500h600v-160H180v160Zm220 220h160v-160H400v160Zm0 220h160v-160H400v160ZM180-400h160v-160H180v160Zm440 0h160v-160H620v160ZM180-180h160v-160H180v160Zm440 0h160v-160H620v160Z\"/>\n",
       "  </svg>\n",
       "    </button>\n",
       "\n",
       "  <style>\n",
       "    .colab-df-container {\n",
       "      display:flex;\n",
       "      gap: 12px;\n",
       "    }\n",
       "\n",
       "    .colab-df-convert {\n",
       "      background-color: #E8F0FE;\n",
       "      border: none;\n",
       "      border-radius: 50%;\n",
       "      cursor: pointer;\n",
       "      display: none;\n",
       "      fill: #1967D2;\n",
       "      height: 32px;\n",
       "      padding: 0 0 0 0;\n",
       "      width: 32px;\n",
       "    }\n",
       "\n",
       "    .colab-df-convert:hover {\n",
       "      background-color: #E2EBFA;\n",
       "      box-shadow: 0px 1px 2px rgba(60, 64, 67, 0.3), 0px 1px 3px 1px rgba(60, 64, 67, 0.15);\n",
       "      fill: #174EA6;\n",
       "    }\n",
       "\n",
       "    .colab-df-buttons div {\n",
       "      margin-bottom: 4px;\n",
       "    }\n",
       "\n",
       "    [theme=dark] .colab-df-convert {\n",
       "      background-color: #3B4455;\n",
       "      fill: #D2E3FC;\n",
       "    }\n",
       "\n",
       "    [theme=dark] .colab-df-convert:hover {\n",
       "      background-color: #434B5C;\n",
       "      box-shadow: 0px 1px 3px 1px rgba(0, 0, 0, 0.15);\n",
       "      filter: drop-shadow(0px 1px 2px rgba(0, 0, 0, 0.3));\n",
       "      fill: #FFFFFF;\n",
       "    }\n",
       "  </style>\n",
       "\n",
       "    <script>\n",
       "      const buttonEl =\n",
       "        document.querySelector('#df-ef8236ca-6c67-4d27-998a-11524043f387 button.colab-df-convert');\n",
       "      buttonEl.style.display =\n",
       "        google.colab.kernel.accessAllowed ? 'block' : 'none';\n",
       "\n",
       "      async function convertToInteractive(key) {\n",
       "        const element = document.querySelector('#df-ef8236ca-6c67-4d27-998a-11524043f387');\n",
       "        const dataTable =\n",
       "          await google.colab.kernel.invokeFunction('convertToInteractive',\n",
       "                                                    [key], {});\n",
       "        if (!dataTable) return;\n",
       "\n",
       "        const docLinkHtml = 'Like what you see? Visit the ' +\n",
       "          '<a target=\"_blank\" href=https://colab.research.google.com/notebooks/data_table.ipynb>data table notebook</a>'\n",
       "          + ' to learn more about interactive tables.';\n",
       "        element.innerHTML = '';\n",
       "        dataTable['output_type'] = 'display_data';\n",
       "        await google.colab.output.renderOutput(dataTable, element);\n",
       "        const docLink = document.createElement('div');\n",
       "        docLink.innerHTML = docLinkHtml;\n",
       "        element.appendChild(docLink);\n",
       "      }\n",
       "    </script>\n",
       "  </div>\n",
       "\n",
       "\n",
       "    <div id=\"df-024b4a94-d3a7-4ba4-a4a0-c7990c288d59\">\n",
       "      <button class=\"colab-df-quickchart\" onclick=\"quickchart('df-024b4a94-d3a7-4ba4-a4a0-c7990c288d59')\"\n",
       "                title=\"Suggest charts\"\n",
       "                style=\"display:none;\">\n",
       "\n",
       "<svg xmlns=\"http://www.w3.org/2000/svg\" height=\"24px\"viewBox=\"0 0 24 24\"\n",
       "     width=\"24px\">\n",
       "    <g>\n",
       "        <path d=\"M19 3H5c-1.1 0-2 .9-2 2v14c0 1.1.9 2 2 2h14c1.1 0 2-.9 2-2V5c0-1.1-.9-2-2-2zM9 17H7v-7h2v7zm4 0h-2V7h2v10zm4 0h-2v-4h2v4z\"/>\n",
       "    </g>\n",
       "</svg>\n",
       "      </button>\n",
       "\n",
       "<style>\n",
       "  .colab-df-quickchart {\n",
       "      --bg-color: #E8F0FE;\n",
       "      --fill-color: #1967D2;\n",
       "      --hover-bg-color: #E2EBFA;\n",
       "      --hover-fill-color: #174EA6;\n",
       "      --disabled-fill-color: #AAA;\n",
       "      --disabled-bg-color: #DDD;\n",
       "  }\n",
       "\n",
       "  [theme=dark] .colab-df-quickchart {\n",
       "      --bg-color: #3B4455;\n",
       "      --fill-color: #D2E3FC;\n",
       "      --hover-bg-color: #434B5C;\n",
       "      --hover-fill-color: #FFFFFF;\n",
       "      --disabled-bg-color: #3B4455;\n",
       "      --disabled-fill-color: #666;\n",
       "  }\n",
       "\n",
       "  .colab-df-quickchart {\n",
       "    background-color: var(--bg-color);\n",
       "    border: none;\n",
       "    border-radius: 50%;\n",
       "    cursor: pointer;\n",
       "    display: none;\n",
       "    fill: var(--fill-color);\n",
       "    height: 32px;\n",
       "    padding: 0;\n",
       "    width: 32px;\n",
       "  }\n",
       "\n",
       "  .colab-df-quickchart:hover {\n",
       "    background-color: var(--hover-bg-color);\n",
       "    box-shadow: 0 1px 2px rgba(60, 64, 67, 0.3), 0 1px 3px 1px rgba(60, 64, 67, 0.15);\n",
       "    fill: var(--button-hover-fill-color);\n",
       "  }\n",
       "\n",
       "  .colab-df-quickchart-complete:disabled,\n",
       "  .colab-df-quickchart-complete:disabled:hover {\n",
       "    background-color: var(--disabled-bg-color);\n",
       "    fill: var(--disabled-fill-color);\n",
       "    box-shadow: none;\n",
       "  }\n",
       "\n",
       "  .colab-df-spinner {\n",
       "    border: 2px solid var(--fill-color);\n",
       "    border-color: transparent;\n",
       "    border-bottom-color: var(--fill-color);\n",
       "    animation:\n",
       "      spin 1s steps(1) infinite;\n",
       "  }\n",
       "\n",
       "  @keyframes spin {\n",
       "    0% {\n",
       "      border-color: transparent;\n",
       "      border-bottom-color: var(--fill-color);\n",
       "      border-left-color: var(--fill-color);\n",
       "    }\n",
       "    20% {\n",
       "      border-color: transparent;\n",
       "      border-left-color: var(--fill-color);\n",
       "      border-top-color: var(--fill-color);\n",
       "    }\n",
       "    30% {\n",
       "      border-color: transparent;\n",
       "      border-left-color: var(--fill-color);\n",
       "      border-top-color: var(--fill-color);\n",
       "      border-right-color: var(--fill-color);\n",
       "    }\n",
       "    40% {\n",
       "      border-color: transparent;\n",
       "      border-right-color: var(--fill-color);\n",
       "      border-top-color: var(--fill-color);\n",
       "    }\n",
       "    60% {\n",
       "      border-color: transparent;\n",
       "      border-right-color: var(--fill-color);\n",
       "    }\n",
       "    80% {\n",
       "      border-color: transparent;\n",
       "      border-right-color: var(--fill-color);\n",
       "      border-bottom-color: var(--fill-color);\n",
       "    }\n",
       "    90% {\n",
       "      border-color: transparent;\n",
       "      border-bottom-color: var(--fill-color);\n",
       "    }\n",
       "  }\n",
       "</style>\n",
       "\n",
       "      <script>\n",
       "        async function quickchart(key) {\n",
       "          const quickchartButtonEl =\n",
       "            document.querySelector('#' + key + ' button');\n",
       "          quickchartButtonEl.disabled = true;  // To prevent multiple clicks.\n",
       "          quickchartButtonEl.classList.add('colab-df-spinner');\n",
       "          try {\n",
       "            const charts = await google.colab.kernel.invokeFunction(\n",
       "                'suggestCharts', [key], {});\n",
       "          } catch (error) {\n",
       "            console.error('Error during call to suggestCharts:', error);\n",
       "          }\n",
       "          quickchartButtonEl.classList.remove('colab-df-spinner');\n",
       "          quickchartButtonEl.classList.add('colab-df-quickchart-complete');\n",
       "        }\n",
       "        (() => {\n",
       "          let quickchartButtonEl =\n",
       "            document.querySelector('#df-024b4a94-d3a7-4ba4-a4a0-c7990c288d59 button');\n",
       "          quickchartButtonEl.style.display =\n",
       "            google.colab.kernel.accessAllowed ? 'block' : 'none';\n",
       "        })();\n",
       "      </script>\n",
       "    </div>\n",
       "\n",
       "  <div id=\"id_50602215-0d25-4aef-bbc0-98581c05d15d\">\n",
       "    <style>\n",
       "      .colab-df-generate {\n",
       "        background-color: #E8F0FE;\n",
       "        border: none;\n",
       "        border-radius: 50%;\n",
       "        cursor: pointer;\n",
       "        display: none;\n",
       "        fill: #1967D2;\n",
       "        height: 32px;\n",
       "        padding: 0 0 0 0;\n",
       "        width: 32px;\n",
       "      }\n",
       "\n",
       "      .colab-df-generate:hover {\n",
       "        background-color: #E2EBFA;\n",
       "        box-shadow: 0px 1px 2px rgba(60, 64, 67, 0.3), 0px 1px 3px 1px rgba(60, 64, 67, 0.15);\n",
       "        fill: #174EA6;\n",
       "      }\n",
       "\n",
       "      [theme=dark] .colab-df-generate {\n",
       "        background-color: #3B4455;\n",
       "        fill: #D2E3FC;\n",
       "      }\n",
       "\n",
       "      [theme=dark] .colab-df-generate:hover {\n",
       "        background-color: #434B5C;\n",
       "        box-shadow: 0px 1px 3px 1px rgba(0, 0, 0, 0.15);\n",
       "        filter: drop-shadow(0px 1px 2px rgba(0, 0, 0, 0.3));\n",
       "        fill: #FFFFFF;\n",
       "      }\n",
       "    </style>\n",
       "    <button class=\"colab-df-generate\" onclick=\"generateWithVariable('results_df')\"\n",
       "            title=\"Generate code using this dataframe.\"\n",
       "            style=\"display:none;\">\n",
       "\n",
       "  <svg xmlns=\"http://www.w3.org/2000/svg\" height=\"24px\"viewBox=\"0 0 24 24\"\n",
       "       width=\"24px\">\n",
       "    <path d=\"M7,19H8.4L18.45,9,17,7.55,7,17.6ZM5,21V16.75L18.45,3.32a2,2,0,0,1,2.83,0l1.4,1.43a1.91,1.91,0,0,1,.58,1.4,1.91,1.91,0,0,1-.58,1.4L9.25,21ZM18.45,9,17,7.55Zm-12,3A5.31,5.31,0,0,0,4.9,8.1,5.31,5.31,0,0,0,1,6.5,5.31,5.31,0,0,0,4.9,4.9,5.31,5.31,0,0,0,6.5,1,5.31,5.31,0,0,0,8.1,4.9,5.31,5.31,0,0,0,12,6.5,5.46,5.46,0,0,0,6.5,12Z\"/>\n",
       "  </svg>\n",
       "    </button>\n",
       "    <script>\n",
       "      (() => {\n",
       "      const buttonEl =\n",
       "        document.querySelector('#id_50602215-0d25-4aef-bbc0-98581c05d15d button.colab-df-generate');\n",
       "      buttonEl.style.display =\n",
       "        google.colab.kernel.accessAllowed ? 'block' : 'none';\n",
       "\n",
       "      buttonEl.onclick = () => {\n",
       "        google.colab.notebook.generateWithVariable('results_df');\n",
       "      }\n",
       "      })();\n",
       "    </script>\n",
       "  </div>\n",
       "\n",
       "    </div>\n",
       "  </div>\n"
      ],
      "text/plain": [
       "                 Model  Subset Accuracy  F1-Micro  Hamming Loss\n",
       "0              XGBoost         0.245000  0.717651      0.098452\n",
       "1  Logistic Regression         0.226667  0.710685      0.097024\n",
       "2        Random Forest         0.235000  0.713291      0.102976\n",
       "3          Naive Bayes         0.160000  0.653859      0.122262"
      ]
     },
     "execution_count": 51,
     "metadata": {},
     "output_type": "execute_result"
    }
   ],
   "source": [
    "results_df"
   ]
  },
  {
   "cell_type": "markdown",
   "id": "IVBFCsrgoD6g",
   "metadata": {
    "id": "IVBFCsrgoD6g"
   },
   "source": [
    "## <b> SAMPLE PREDICTION"
   ]
  },
  {
   "cell_type": "code",
   "execution_count": null,
   "id": "hWY1r2cE6Rcn",
   "metadata": {
    "colab": {
     "base_uri": "https://localhost:8080/"
    },
    "id": "hWY1r2cE6Rcn",
    "outputId": "657820f3-9e4e-4a3c-becf-77bae0a62b78"
   },
   "outputs": [
    {
     "name": "stdout",
     "output_type": "stream",
     "text": [
      "XGBoost Prediction -> [('business', 'tech')]\n",
      "Logistic Regression Prediction -> [('business', 'tech')]\n",
      "Random Forest Prediction -> [('business', 'tech')]\n",
      "Naive Bayes Prediction -> [('business', 'tech')]\n"
     ]
    }
   ],
   "source": [
    "sample_skills = ['python', 'aws', 'leadership', 'docker', 'sql']\n",
    "sample_vector = vectorizer.transform([' '.join(sample_skills)])\n",
    "for name, model in tuned_models.items():\n",
    "    pred_bin = model.predict(sample_vector)\n",
    "    pred_labels = mlb.inverse_transform(pred_bin)\n",
    "    print(f\"{name} Prediction -> {pred_labels}\")"
   ]
  },
  {
   "cell_type": "markdown",
   "id": "OT4lT4IGoMHw",
   "metadata": {
    "id": "OT4lT4IGoMHw"
   },
   "source": [
    "## <b> EXPORT MODELS"
   ]
  },
  {
   "cell_type": "code",
   "execution_count": null,
   "id": "Jifv9-6_VMGI",
   "metadata": {
    "id": "Jifv9-6_VMGI"
   },
   "outputs": [],
   "source": [
    "import joblib\n",
    "# Save the best-performing model and associated transformers for deployment\n",
    "joblib.dump(tuned_models['XGBoost'], 'xgb_model.pkl')\n",
    "joblib.dump(vectorizer, 'vectorizer.pkl')\n",
    "joblib.dump(mlb, 'mlb.pkl')"
   ]
  },
  {
   "cell_type": "code",
   "execution_count": null,
   "id": "cH2MZZQwVbq2",
   "metadata": {
    "id": "cH2MZZQwVbq2"
   },
   "outputs": [],
   "source": [
    "from google.colab import files\n",
    "\n",
    "files.download('xgb_model.pkl')\n",
    "files.download('vectorizer.pkl')\n",
    "files.download('mlb.pkl')\n"
   ]
  },
  {
   "cell_type": "code",
   "execution_count": null,
   "id": "klJTV55BVdUW",
   "metadata": {
    "id": "klJTV55BVdUW"
   },
   "outputs": [],
   "source": [
    "!zip models_bundle.zip xgb_model.pkl vectorizer.pkl mlb.pkl\n",
    "files.download('models_bundle.zip')\n"
   ]
  },
  {
   "cell_type": "code",
   "execution_count": null,
   "id": "S-AFIuGhj-PX",
   "metadata": {
    "id": "S-AFIuGhj-PX"
   },
   "outputs": [],
   "source": []
  }
 ],
 "metadata": {
  "accelerator": "GPU",
  "colab": {
   "gpuType": "T4",
   "provenance": []
  },
  "kernelspec": {
   "display_name": "anaconda-panel-2023.05-py310",
   "language": "python",
   "name": "conda-env-anaconda-panel-2023.05-py310-py"
  },
  "language_info": {
   "codemirror_mode": {
    "name": "ipython",
    "version": 3
   },
   "file_extension": ".py",
   "mimetype": "text/x-python",
   "name": "python",
   "nbconvert_exporter": "python",
   "pygments_lexer": "ipython3",
   "version": "3.11.5"
  }
 },
 "nbformat": 4,
 "nbformat_minor": 5
}
